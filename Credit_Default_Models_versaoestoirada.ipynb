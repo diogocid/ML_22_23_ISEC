{
 "cells": [
  {
   "cell_type": "code",
   "execution_count": null,
   "metadata": {},
   "outputs": [],
   "source": [
    " %load utilities\n",
    "import utilities"
   ]
  },
  {
   "cell_type": "code",
   "execution_count": null,
   "metadata": {},
   "outputs": [],
   "source": [
    "#Import Dataset\n",
    "\n",
    "df = pd.read_csv('loan_default_prediction.csv')\n",
    "print(df.shape)"
   ]
  },
  {
   "cell_type": "code",
   "execution_count": null,
   "metadata": {},
   "outputs": [],
   "source": [
    "#drop\n",
    "vdrop=['ID','Validation','Designation','Debt_to_Income','Postal_Code','Deprecatory_Records',\\\n",
    "            'Inquiries','Gross_Collection','Sub_GGGrade','Total_Unpaid_CL','File_Status','Claim_Type','Due_Fee']\n",
    "df=df.drop(vdrop,axis=1)\n",
    "df.shape"
   ]
  },
  {
   "cell_type": "code",
   "execution_count": null,
   "metadata": {},
   "outputs": [],
   "source": [
    "#Conversão dos anos de experiência para numérico\n",
    "df['Experience']=df['Experience'].apply(lambda i: 10 if i[0:1]=='>' else 1 if i[0:1]=='<' else int(i[0:1]))\n",
    "#Conversão da duração para numérico\n",
    "df['Duration']=df['Duration'].apply(lambda i : i.replace(' years','years')).astype(str)\n",
    "#Conversão da GGGrade valor ordinal para numérico\n",
    "df['GGGrade']=df['GGGrade'].apply(romanToInt).astype(int)\n",
    "#criacao de debt to income\n",
    "#calcular o total da divida e o rendimento anual. uma espécie de \"taxa de esforço\"\n",
    "df['debt_to_income']=df['Unpaid_Amount']/df['Yearly_Income']\n",
    "#ver resultado\n",
    "#df.head()"
   ]
  },
  {
   "cell_type": "code",
   "execution_count": null,
   "metadata": {},
   "outputs": [],
   "source": [
    "#eliminar observações com pelo menos uma feature sem valores\n",
    "df=df.dropna()\n",
    "#drop duplicates\n",
    "df.drop_duplicates()\n",
    "df.shape"
   ]
  },
  {
   "cell_type": "code",
   "execution_count": null,
   "metadata": {},
   "outputs": [],
   "source": [
    "#df.describe()\n",
    "df.head(5)"
   ]
  },
  {
   "cell_type": "code",
   "execution_count": null,
   "metadata": {},
   "outputs": [],
   "source": [
    "v_num_cont=['Asst_Reg','Experience','Yearly_Income','Lend_Amount','Interest_Charged','Usage_Rate',\n",
    "            'Present_Balance','Unpaid_Amount','debt_to_income']\n",
    "v_num_disc=['Unpaid_2_years','Already_Defaulted','Account_Open']\n",
    "v_cat_ord=['Home_Status','State','Reason','Duration']#,'GGGrade']"
   ]
  },
  {
   "cell_type": "code",
   "execution_count": null,
   "metadata": {},
   "outputs": [],
   "source": [
    "from scipy import stats\n",
    "display(df.shape)\n",
    "#remover observações com home status 'none' e 'other'\n",
    "df=df[(df['Home_Status']!='OTHER')&(df['Home_Status']!='NONE')]\n",
    "#remover linhas com outliers, definidos como mais que 3 desvios-padrão acima/abaixo da média\n",
    "df=df[(np.abs(stats.zscore(df[v_num_cont])) < 3).all(axis=1)]\n",
    "df.shape\n"
   ]
  },
  {
   "cell_type": "markdown",
   "metadata": {},
   "source": [
    "# Undersampling"
   ]
  },
  {
   "cell_type": "code",
   "execution_count": null,
   "metadata": {},
   "outputs": [],
   "source": [
    "#ver quantas observações têm default=1\n",
    "display((df['Default']==1).sum())\n",
    "#sample de 5000 obs com default =1\n",
    "defaulted = df[df['Default']==1].sample(n=5000, random_state=101)\n",
    "#sample de 5000 obs com default =0\n",
    "notdefault = df[df['Default']==0].sample(n=5000, random_state=101)\n",
    "#agregar as observações\n",
    "df = pd.concat([defaulted,notdefault],axis=0)\n",
    "#sort aleatório das obs\n",
    "df = df.sample(frac=1).reset_index(drop=True)\n",
    "df.shape"
   ]
  },
  {
   "cell_type": "code",
   "execution_count": null,
   "metadata": {},
   "outputs": [],
   "source": [
    "df[v_num_disc].describe()"
   ]
  },
  {
   "cell_type": "markdown",
   "metadata": {},
   "source": [
    "# Train vs test sample: standard and cross-validation"
   ]
  },
  {
   "cell_type": "code",
   "execution_count": null,
   "metadata": {},
   "outputs": [],
   "source": [
    "# Split the data into features (X) and labels (y)\n",
    "#QUANDO PIPELINE ESTIVER PARA TODAS AS VARIÁVEIS, MUDAR O X\n",
    "X = df[v_num_cont+v_num_disc+v_cat_ord]\n",
    "y = df['Default']\n",
    "\n",
    "# Split the data into training and test sets\n",
    "from sklearn.model_selection import train_test_split\n",
    "X_train, X_test, y_train, y_test = train_test_split(X, y, test_size=0.2, random_state=42)\n",
    "\n",
    "#script não ativado para fazer cross validation manual (normalmente o scikit learn faz tudo automático)\n",
    "from sklearn.model_selection import KFold\n",
    "#kfold = KFold(n_splits=5,shuffle=True)\n",
    "#for train_index, test_index in kfold.split(X):\n",
    "#    print(\"Train index:\", train_index, \"Test index:\", test_index)\n",
    "#    X_train, X_test = X.loc[train_index], X.loc[test_index]\n",
    "#    y_train, y_test = y.loc[train_index], y.loc[test_index]"
   ]
  },
  {
   "cell_type": "markdown",
   "metadata": {},
   "source": [
    "# Pipelines"
   ]
  },
  {
   "cell_type": "code",
   "execution_count": null,
   "metadata": {},
   "outputs": [],
   "source": [
    "#1a parte: tentar reduzir assimetria das variáveis\n",
    "\n",
    "#está suficientemente distante de 0 para ter certeza que é assimétrica\n",
    "#como se vê isso? quanto mais pequeno for o p-value (2a linha dataframe), mais certezas temos que é assimétrica\n",
    "\n",
    "#verificar assimetria das features numéricas\n",
    "dskew=skew_df(X_train[v_num_cont+v_num_disc])\n",
    "#mostrar output\n",
    "display(dskew)\n",
    "#ver lista de features assimétricas, pvalue < 5%\n",
    "v_skew=list(dskew.columns[dskew.loc['p_value']<0.05])\n",
    "#lista de simétricas são as restantes\n",
    "v_sym=list(set(X_train[v_num_cont+v_num_disc].columns) - set(v_skew))\n",
    "#check\n",
    "v_skew"
   ]
  },
  {
   "cell_type": "code",
   "execution_count": null,
   "metadata": {},
   "outputs": [],
   "source": [
    "cc=[]\n",
    "for i in v_cat_ord:\n",
    "    c=df[i].value_counts()/df.shape[0]\n",
    "    #list(c[c>.05].index)\n",
    "    print('Features com predominância em mais de 5% das observações:'+str(list(c[c>=.05].index)))\n",
    "    print('Features com predominância em menos de 5% das observações:'+str(list(c[c<.05].index)))\n",
    "    #cc=cc+c\n",
    "    \n",
    "cc"
   ]
  },
  {
   "cell_type": "code",
   "execution_count": null,
   "metadata": {},
   "outputs": [],
   "source": [
    "from sklearn.compose import ColumnTransformer\n",
    "from sklearn.preprocessing import PowerTransformer\n",
    "from sklearn.preprocessing import FunctionTransformer\n",
    "from sklearn.preprocessing import StandardScaler\n",
    "from sklearn.preprocessing import OneHotEncoder\n",
    "from sklearn.pipeline import Pipeline\n",
    "\n",
    "# Define the transformations to apply to the column\n",
    "transformer = ColumnTransformer([\n",
    "    ('yeoj', PowerTransformer(), v_skew), #aplico transformação que corrige assimetria às assimétricas\n",
    "    ('std', StandardScaler(), v_sym),     #aplico transformação às simétricas (sub média e dividir desvio padrao)\n",
    "    ('oneh', OneHotEncoder(min_frequency=0.05,handle_unknown='ignore',#drop='if_biNameErrorary',\n",
    "                           sparse_output=False), v_cat_ord)\n",
    "])\n",
    "\n",
    "#pipeline= Pipeline([\n",
    "    #('ct', transformer),\n",
    "    #('to_df', pd.DataFrame, {'columns': v_skew+v_sym})\n",
    "    #(\"pandarizer\",FunctionTransformer(lambda x: pd.DataFrame(x, columns = (v_skew + v_sym))))\n",
    "#])\n",
    "\n",
    "# Transform the data\n",
    "pfit = transformer.fit(X_train)\n",
    "\n",
    "categories= pfit.transformers_[2][1].categories_\n",
    "categories_out=pfit.transformers_[2][1].infrequent_categories_\n",
    "\n",
    "v_onehot_drop=list(np.concatenate([np.concatenate([categories[i][np.isin(categories[i], categories_out[i], invert=True)]],axis=0) \n",
    "                        for i in range(0,len(categories))],axis=0))\n",
    "\n",
    "\n",
    "v_onehot=list(np.concatenate([(np.concatenate((np.array(j),\n",
    "                       (np.array(['Other_Cat'+str(k)]) if categories_out[k] is not None else np.array([]))),axis=0)) \n",
    "                         for k,j in enumerate(\n",
    "                         [np.concatenate([categories[i][np.isin(categories[i], categories_out[i], invert=True)]],axis=0) \n",
    "                        for i in range(0,len(categories))]\n",
    "                         )]))\n",
    "\n",
    "#X_train_transf = transformer.transform(X_train)\n",
    "X_train_transf = pd.DataFrame(pfit.transform(X_train),columns = (v_skew + v_sym+v_onehot)\n",
    "                              ,index=X_train.index)\n",
    "\n",
    "#aplicar transformações ao teste calcula\n",
    "#X_test_transf = transformer.transform(X_test)\n",
    "X_test_transf = pd.DataFrame(pfit.transform(X_test),columns = (v_skew + v_sym+v_onehot)\n",
    "                            ,index=X_test.index)\n",
    "\n",
    "display(round(X_train_transf.describe(),2))\n",
    "#vamos dar um check se o dataframe ficou \"menos assimétrico\"\n",
    "skew_df(X_train_transf[v_skew+v_sym])"
   ]
  },
  {
   "cell_type": "markdown",
   "metadata": {},
   "source": [
    "# Simple Classificator verified"
   ]
  },
  {
   "cell_type": "code",
<<<<<<< HEAD
   "execution_count": null,
   "metadata": {},
   "outputs": [],
=======
   "execution_count": 358,
   "metadata": {},
   "outputs": [
    {
     "data": {
      "image/png": "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\n",
      "text/plain": [
       "<Figure size 432x288 with 2 Axes>"
      ]
     },
     "metadata": {
      "needs_background": "light"
     },
     "output_type": "display_data"
    },
    {
     "data": {
      "image/png": "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\n",
      "text/plain": [
       "<Figure size 432x288 with 1 Axes>"
      ]
     },
     "metadata": {
      "needs_background": "light"
     },
     "output_type": "display_data"
    },
    {
     "data": {
      "image/png": "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\n",
      "text/plain": [
       "<Figure size 432x288 with 2 Axes>"
      ]
     },
     "metadata": {
      "needs_background": "light"
     },
     "output_type": "display_data"
    },
    {
     "data": {
      "image/png": "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\n",
      "text/plain": [
       "<Figure size 432x288 with 1 Axes>"
      ]
     },
     "metadata": {
      "needs_background": "light"
     },
     "output_type": "display_data"
    },
    {
     "data": {
      "image/png": "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\n",
      "text/plain": [
       "<Figure size 432x288 with 2 Axes>"
      ]
     },
     "metadata": {
      "needs_background": "light"
     },
     "output_type": "display_data"
    },
    {
     "data": {
      "image/png": "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\n",
      "text/plain": [
       "<Figure size 432x288 with 1 Axes>"
      ]
     },
     "metadata": {
      "needs_background": "light"
     },
     "output_type": "display_data"
    },
    {
     "data": {
      "image/png": "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\n",
      "text/plain": [
       "<Figure size 432x288 with 2 Axes>"
      ]
     },
     "metadata": {
      "needs_background": "light"
     },
     "output_type": "display_data"
    },
    {
     "data": {
      "image/png": "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\n",
      "text/plain": [
       "<Figure size 432x288 with 1 Axes>"
      ]
     },
     "metadata": {
      "needs_background": "light"
     },
     "output_type": "display_data"
    },
    {
     "data": {
      "image/png": "iVBORw0KGgoAAAANSUhEUgAAAWAAAAD8CAYAAABJsn7AAAAAOXRFWHRTb2Z0d2FyZQBNYXRwbG90bGliIHZlcnNpb24zLjUuMSwgaHR0cHM6Ly9tYXRwbG90bGliLm9yZy/YYfK9AAAACXBIWXMAAAsTAAALEwEAmpwYAAAZD0lEQVR4nO3deZxU1Z338c+3uwGBEUUjaxNFBRQ3TBRjjMZlIriiz4yGGBWVGcgoyeRJjMIk8xrz+PREIz5GEyVpF8KjUYYk40hcWA0ZnaiAI2FTpANGmkVAcIuydPdv/ugrqZDu6mqt7ktdvm9e99VVp84955Sv9svh3FN1FRGYmVn7K0t7AGZmeysHsJlZShzAZmYpcQCbmaXEAWxmlhIHsJlZShzAZmZNkDRI0qKc4x1JX5d0gKTZklYmP7vnnDNBUo2kFZKGtdiH9wGbmeUnqRxYC5wEXAdsiYhbJI0HukfEjZIGA48AQ4E+wBxgYETUN9euZ8BmZi07C/h9RPwBGAFMScqnABclj0cAUyNie0SsBmpoDONmVbTNWP+k89m3eYptf2Hrk99Kewi2B9qnAn3cNjofP67gzNm26O6xwJicouqIqG6i6kgaZ7cAPSNiPUBErJfUIynvCzyfc05tUtasNg9gM7N2pcL/YZ+EbVOB+6fmpI7AhcCElnpuqot8J3gJwsyyRSr8KMw5wH9HxBvJ8zck9W7sSr2BjUl5LdAv57xKYF2+hh3AZpYtKiv8KMyX+NPyA8B0YFTyeBTwWE75SEmdJPUHBgDz8zXsJQgzy5bCZ7YFNKUuwBeAsTnFtwDTJI0GXgcuAYiIZZKmAcuBOuC6fDsgwAFsZllTVl60piLifeDA3crepHFXRFP1q4CqQtt3AJtZtrTiIlzaHMBmli1FXIJoaw5gM8sWz4DNzFLiGbCZWUo8AzYzS0kRd0G0NQewmWWLZ8BmZikp8xqwmVk6PAM2M0uJd0GYmaXEF+HMzFLiJQgzs5R4CcLMLCWeAZuZpcQzYDOzlHgGbGaWEu+CMDNLiWfAZmYpKaE14NL5q8LMrBBFvCuypP0l/ULSK5JelnSypJskrZW0KDnOzak/QVKNpBWShrXUvmfAZpYtxZ0B3wnMiIi/ldQR6AIMA+6IiIl/3q0GAyOBo4A+wBxJA/PdGdkzYDPLliLNgCV1A04D7geIiB0R8VaeU0YAUyNie0SsBmqAofn6cACbWaaorKzgowWHApuAyZJeknSfpK7Ja+MkLZb0gKTuSVlfYE3O+bVJWbMcwGaWKZJac4yRtDDnGJPTVAXwKWBSRBwP/BEYD0wCDgOGAOuB2z/suonhRL6xeg3YzLKlFUvAEVENVDfzci1QGxEvJM9/AYyPiDd2dSXdCzyeU79fzvmVwLp8/XsGbGaZ0poZcD4RsQFYI2lQUnQWsFxS75xqFwNLk8fTgZGSOknqDwwA5ufrwzNgM8uUloK1lb4K/CzZAbEKuBq4S9IQGpcXXgPGAkTEMknTgOVAHXBdvh0Q4AA2s4wpa/niWsEiYhFwwm7FV+SpXwVUFdq+A9jMsqV0PgjnADazbCnyEkSbcgCbWaY4gM3MUuIANjNLiQPYzCwlKnMAm5mlwjNgM7OUOIDNzNJSOvnrADazbPEM2MwsJQ5gM7OUFPO7INqaA9jMsqV0JsAOYDPLFi9BmJmlxAFsZpYSB7CZWUpK6aPIpXO5sATs17UTD//zhSy6/xpeuu8aTjqyDwD/MOJ4fnf/aF6svpqqv/s8AB0qyvjJN4ez4CdX8cKkUZx6bL98TVuJ2r59O5d98W+55OILufjC87jnR3cBMGvmU1x84XkMOfoIli1d8hfnrV+3js+ccDxTJt/f3kMuecW6J1x78Ay4iCZeeyazFqzmspun06GijC6dOnDacf04/+QBnPiVn7JjZz0H7d8FgGvOOQ6AE8f+lIP278J/VP0Nnxv3IJH3JtZWajp27Mh9D0yhS9eu7Ny5k6uuuIzPnXoahx8+kDvu/CE3f/dfmjzvtlu/x+dOPbWdR5sNe0KwFsoBXCT7dunI546p5O9vewqAnXUNvF23nTHnD2Hiv73Ajp2N9+bb9Nb7ABxx8IH8etHru8refm87nx7Yi4UrNqTzBqxNSKJL164A1NXVUVdXBxKHHnZYs+c8PXcOlf0q6dy5S3sNM1NKKYBbXIKQdISkGyXdJenO5PGR7TG4UtK/1/5sfusDqq8/h+fuuZJ7/vcwuuzTgcMrD+CUoyv5z7u+zKyJI/n0wF4ALFm1kQtOPpzyMnFwr/04fkBPKg/qlvK7sLZQX1/Ppf9rBGec+lk+c/JnOfbY45qt+/777zP5/nv5yj+Ma8cRZoxacbTUlLS/pF9IekXSy5JOlnSApNmSViY/u+fUnyCpRtIKScNaaj9vAEu6EZiaDHU+sCB5/Iik8XnOGyNpoaSFdbXPt/wuM6CiXAwZ0JN7H1/Eydf+f97ftpPrvziUinLRfd9OnPa1n/FP987joe9cAMCUGUtYu/ld/uvuK7ntK2fw/PJ11NU3pPwurC2Ul5cz7d8fY9bTv2HpksWsXPlqs3Un3f1DLr9y1K5Zs7VekdeA7wRmRMQRwHHAy8B4YG5EDADmJs+RNBgYCRwFDAfukVSer/GWliBGA0dFxM7d3uD/A5YBtzR1UkRUA9UAnc++ba9Y1Vy7+T3WbnqXBa+sB+DRZ1bwzS+exNpN7/Efz64EYOGKDTQ0wCf268zmtz/ghh//etf5v77jMmrWbk1l7NY+unXrxolDT+K3zz7DgAEDm6yzZPHvmDNrJj+4fSLvvvsOUhkdO3biS1++vJ1HW7rKirQLQlI34DTgKoCI2AHskDQCOD2pNgWYB9wIjACmRsR2YLWkGmAo8FxzfbQUwA1AH+APu5X3Tl6zxBtb/0jtpncZUNmdlbVbOf34g3nl9TdZte4tTh/ySZ5ZvIbD+3anY4cyNr/9AZ07VSCJ97ft5MxPHUxdQwOvvP5m2m/DimzLli1UVFTQrVs3tm3bxvPP/ZarR/99s/V/+uDDux5PuvuHdOnSxeHbSq1ZA5Y0BhiTU1SdTCABDgU2AZMlHQe8CPwj0DMi1gNExHpJPZL6fYHcf/LXJmXNaimAvw7MlbQSWJOUfRI4HPAi1W6+cfdcJo8/n44V5by24S3GTHyKP27byU++eQ4Lq69ix84G/i65SHfQ/l341b9eQkME6za/x+hbn0x59NYWNm/ayHf+aTwNDfU0NARnDxvO508/g7lzZnPLv97M1i1bGHftWAYNOpIf3+stZ8XQmmtwuf9ab0IF8CngqxHxgqQ7SZYbmuu6qS7y9a9oYd+TpDIap9F9kw5qgQURUZ/3xMTesgRhrbP1yW+lPQTbA+1T8fG/SmfQjTMLzpwVtw5rtj9JvYDnI+KQ5PmpNAbw4cDpyey3NzAvIgZJmgAQEd9L6s8EboqIj7wEQUQ08OfTajOzPVaxdqFFxAZJayQNiogVwFnA8uQYReM1sFHAY8kp04GHk2tkfYABNG5eaJb3AZtZphTrIlziq8DPJHUEVgFX07h7bJqk0cDrwCUAEbFM0jQaA7oOuK6llQIHsJllSjEDOCIWASc08dJZzdSvAqoKbd8BbGaZUkIfhHMAm1m2lNJHkR3AZpYpDmAzs5SUUP46gM0sW4q8C6JNOYDNLFO8BGFmlpISyl8HsJlli2fAZmYpKaH8dQCbWbZ4BmxmlhLvgjAzS0kJTYAdwGaWLV6CMDNLSQnlrwPYzLLFM2Azs5Q4gM3MUuJdEGZmKSmhCbAD2MyypZSWIMrSHoCZWTFJhR8tt6XXJC2RtEjSwqTsJklrk7JFks7NqT9BUo2kFZKGtdS+Z8BmlillxZ8BnxERm3cruyMiJuYWSBoMjASOovG29HMkDcx3Z2TPgM0sU8rKVPBRZCOAqRGxPSJWAzXA0LxjLfYIzMzSVKbCD0ljJC3MOcbs1lwAsyS9uNtr4yQtlvSApO5JWV9gTU6d2qSsWV6CMLNMac1FuIioBqrzVDklItZJ6gHMlvQKMAm4mcZwvhm4HbgGaKrjyNe/Z8BmlinFvAgXEeuSnxuBR4GhEfFGRNRHRANwL39aZqgF+uWcXgmsy9e+A9jMMkWt+JO3HamrpH0/fAycDSyV1Dun2sXA0uTxdGCkpE6S+gMDgPn5+vAShJllShGvrfUEHk2WNCqAhyNihqQHJQ2hcXnhNWAsQEQskzQNWA7UAdfl2wHxYaNmZplRrN0NEbEKOK6J8ivynFMFVBXahwPYzDKlDfYBtxkHsJllSgnlrwPYzLKllL4LwgFsZplSQvnrADazbCkvoQR2AJtZpngJwswsJSV0QwwHsJlli2fAZmYpKaH8dQCbWbZ4BmxmlpLyEloEdgCbWaaUTvw6gM0sY/xdEGZmKSmh/HUAm1m2+CKcmVlKSih/HcBmli3eBWFmlhIvQeTY8sS32roLK0HdTxyX9hBsD/TBSz/62G2U0p2GS2msZmYtklTwUUBbr0laImmRpIVJ2QGSZktamfzsnlN/gqQaSSskDWupfQewmWVKmQo/CnRGRAyJiBOS5+OBuRExAJibPEfSYGAkcBQwHLhHUnnesX6E92dmtscqL1PBx0c0ApiSPJ4CXJRTPjUitkfEaqAGGJqvIQewmWVKa2bAksZIWphzjNmtuQBmSXox57WeEbEeIPnZIynvC6zJObc2KWuWd0GYWaa0ZhNERFQD1XmqnBIR6yT1AGZLeiVf1011ka9/B7CZZUoxvwsiItYlPzdKepTGJYU3JPWOiPWSegMbk+q1QL+c0yuBdXnHWrSRmpntAcpaceQjqaukfT98DJwNLAWmA6OSaqOAx5LH04GRkjpJ6g8MAObn68MzYDPLlCJOgHsCjybb1SqAhyNihqQFwDRJo4HXgUsAImKZpGnAcqAOuC4i6vN14AA2s0wp1keRI2IVcFwT5W8CZzVzThVQVWgfDmAzy5QS+ioIB7CZZYu/kN3MLCUllL8OYDPLFi9BmJmlRCV0W04HsJllSkUJfbrBAWxmmeIvZDczS4nXgM3MUlJCE2AHsJlli/cBm5mlpNwX4czM0lHmbWhmZukooRUIB7CZZYt3QZiZpcQX4czMUlJC+esANrNsKdYXsrcHB7CZZUoJ7UJzAJtZtpTSd0GU0l8WZmYtUiuOgtqTyiW9JOnx5PlNktZKWpQc5+bUnSCpRtIKScNaatszYDPLlDbYBfGPwMtAt5yyOyJiYm4lSYOBkcBRQB9gjqSB+e6M7BmwmWVKMWfAkiqB84D7Cqg+ApgaEdsjYjVQAwzNd4ID2MwypaxMBR+SxkhamHOM2a25HwA3AA27lY+TtFjSA5K6J2V9gTU5dWqTsubH+jHep5nZHqesFUdEVEfECTlH9YftSDof2BgRL+7WxSTgMGAIsB64/cNTmhhO5Bur14DNLFOKuAviFODC5CLbPkA3SQ9FxOU5fd0LPJ48rQX65ZxfCazL14FnwGaWKcVaA46ICRFRGRGH0Hhx7emIuFxS75xqFwNLk8fTgZGSOknqDwwA5ufrwzNgM8uUdtgH/H1JQ2hcXngNGAsQEcskTQOWA3XAdfl2QIAD2MwyprwNAjgi5gHzksdX5KlXBVQV2q4D2MwypXQ+B+cANrOMKaFPIjuAzSxbfEsiM7OUeAZsZpYSeQZsZpaOttgF0VYcwGaWKSWUvw5gM8sWB7CZWUq8BmxmlpISuienA9jMsqUN7ojRZhzAZpYpXoLYC23fvp1rRn2ZnTt2UFdfz19/YRjXjvsas2Y+xY/v+RGrV/2ehx75OUcdfQwATzw+nSmT7991/spXV/DIzx/liCOOTOstWBsYcHAPHrz1ml3P+/c9kJsnPcHPHp/Pg7dew8F9DuAP67Zw+Q3389a7HwBw/TVnc9WIk6lvaOCb3/8Fc557Oa3hl6RSWoJQRN4vbP/YPtiZ/xvhsyIi+OCD9+nSpSs7d+7k6isv44bx3+av/mpfysrEzd/9F75x/Q27AjjXyldX8PWvXcsTM+amMPJ0HDB0XNpDaHdlZeL3M6v4/JW3MfbS09j6zvtMnDyb66/+Avvv24Xv3PUYRxzaiynfu4pTL59I74P248kfj+OYi/4PDQ17xf9GfPDSjz52fD7z6taC/2OdOrB7qnHtL2QvEkl06dIVgLq6Ourq6pDEoYcdxiH9D8177lNPPsHwc85vj2Fais4YOojVtZt4ff1Wzj/9WB761QsAPPSrF7jgjGMBOP/0Y/n5zP9mx846/rDuTX6/ZjMnHn1IiqMuPVLhR9ocwEVUX1/PpX8zgjNP+yyfOfmzHHPscQWdN2vGk5xz7nltPDpL2yXDPs20GY23F+tx4L5s2PwOABs2v8NBB+wLQN+D9qN2w9Zd56zduJU+PfZr/8GWsGLeFbmtfeQAlnR1ntd23Wn0/vuqm6uWOeXl5Uz75WPMnPsbli5ZTM3KV1s8Z8ni37FP584cPmBgO4zQ0tKhopzzPn8M/z77pfwVm5iWtfEqYeaUSwUfafs4F+G+C0xu6oXkzqLVsPesAefq1q0bJ5x4Ev/17DMtBuuMp55g+Dme/WbdsM8NZtEra9i45V0ANr75Lr0+0Y0Nm9+h1ye6sSkpX7vxLSp7dd91Xt8e3Vm/6e1Uxlyy0s/VguWdASf3vW/qWAL0bKcxloQtW7bwzjuN/6Tctm0bLzz/W/q3sPbb0NDA7FkzHMB7gUuHn7Br+QHgid8s4fILTgLg8gtO4vF5ixvL5y3mkmGfomOHCg7ucyCHf/IgFix9LY0hlyy14k/aWpoB9wSGAVt3Kxfw2zYZUYnavGkj//zt8TTU19MQwdnDhnPa6Wfw9JzZ3PK9m9m6ZQtfvXYsg444kknVjdvPXly4gJ49e1HZr18LrVsp67xPB8486QjG/d9HdpVNnDybh269hlEXncya9Vv58g2NvxMvr9rAL2e9xEu//DZ19Q18/ZZpe80OiGIp9sqCpHJgIbA2Is6XdADwb8AhNN6U89KI2JrUnQCMBuqBr0XEzLxt59uGJul+YHJEPNvEaw9HxGUtDX5vXIKwlu2N29CsZcXYhrZg1dsFZ86Jh+7XYn+SvgGcAHRLAvj7wJaIuEXSeKB7RNwoaTDwCDAU6APMAQbmuzNy3iWIiBjdVPgmr7UYvmZm7a6I2yAkVQLnAfflFI8ApiSPpwAX5ZRPjYjtEbEaqKExjJvlbWhmlillUsFH7o6t5BizW3M/AG4AGnLKekbEeoDkZ4+kvC+wJqdebVLWLH8U2cwypTVrGLk7tv6iHel8YGNEvCjp9I/Ydd7lEAewmWVL8S7CnQJcKOlcYB+gm6SHgDck9Y6I9ZJ6AxuT+rVA7hX1SmBdvg68BGFmmVKsbWgRMSEiKiPiEGAk8HREXA5MB0Yl1UYBjyWPpwMjJXWS1B8YAMzP14dnwGaWKe3wAbdbgGmSRgOvA5cARMQySdOA5UAdcF2+HRDgADazjGmLAI6IecC85PGbwFnN1KsCqgpt1wFsZpmyJ3zCrVAOYDPLlD3gO3YK5gA2s0wpofx1AJtZxpRQAjuAzSxTvAZsZpaSUroppwPYzLLFAWxmlg4vQZiZpcTb0MzMUlJC+esANrOMKaEEdgCbWaaUldAahAPYzDKldOLXAWxmWVNCCewANrNM8TY0M7OUlNASsAPYzLLFAWxmlhIvQZiZpaSUZsC+K7KZZYpaceRtR9pH0nxJv5O0TNJ3k/KbJK2VtCg5zs05Z4KkGkkrJA1raayeAZtZphRxBrwdODMi3pPUAXhW0lPJa3dExMQ/71eDabx9/VFAH2COpIH57ozsGbCZZUxx5sDR6L3kaYfkiDynjACmRsT2iFgN1ABD8/XhADazTClT4UdLJJVLWgRsBGZHxAvJS+MkLZb0gKTuSVlfYE3O6bVJWfNjbe2bMzPbk0mtOTRG0sKcY0xuWxFRHxFDgEpgqKSjgUnAYcAQYD1w+4ddNzGcfDNmrwGbWba0ZhtaRFQD1QXUe0vSPGB47tqvpHuBx5OntUC/nNMqgXX52vUM2MyypUjbICQdJGn/5HFn4K+BVyT1zql2MbA0eTwdGCmpk6T+wABgfr4+PAM2s0wp4jbg3sAUSeU0TlanRcTjkh6UNITG5YXXgLEAEbFM0jRgOVAHXJdvBwQ4gM0sY4q1DS0iFgPHN1F+RZ5zqoCqQvtwAJtZpqiEPgrnADazTCmd+HUAm1nGlNAE2AFsZtnib0MzM0uJZ8BmZilxAJuZpcRLEGZmKfEM2MwsJSWUvw5gM8uYEkpgB7CZZYrXgM3MUlLIF63vKRzAZpYtDmAzs3R4CcLMLCWltA1NEXlvWWRFJGlMcgsUs138e7H38i2J2teYlqvYXsi/F3spB7CZWUocwGZmKXEAty+v81lT/Huxl/JFODOzlHgGbGaWEgewmVlKHMDtRNJwSSsk1Ugan/Z4LH2SHpC0UdLStMdi6XAAtwNJ5cDdwDnAYOBLkganOyrbA/wUGJ72ICw9DuD2MRSoiYhVEbEDmAqMSHlMlrKI+E9gS9rjsPQ4gNtHX2BNzvPapMzM9mIO4PbR1NeDeP+f2V7OAdw+aoF+Oc8rgXUpjcXM9hAO4PaxABggqb+kjsBIYHrKYzKzlDmA20FE1AHjgJnAy8C0iFiW7qgsbZIeAZ4DBkmqlTQ67TFZ+/JHkc3MUuIZsJlZShzAZmYpcQCbmaXEAWxmlhIHsJlZShzAZmYpcQCbmaXkfwBPmcUcf7HInQAAAABJRU5ErkJggg==\n",
      "text/plain": [
       "<Figure size 432x288 with 2 Axes>"
      ]
     },
     "metadata": {
      "needs_background": "light"
     },
     "output_type": "display_data"
    },
    {
     "data": {
      "image/png": "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\n",
      "text/plain": [
       "<Figure size 432x288 with 1 Axes>"
      ]
     },
     "metadata": {
      "needs_background": "light"
     },
     "output_type": "display_data"
    },
    {
     "data": {
      "image/png": "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\n",
      "text/plain": [
       "<Figure size 432x288 with 2 Axes>"
      ]
     },
     "metadata": {
      "needs_background": "light"
     },
     "output_type": "display_data"
    },
    {
     "data": {
      "image/png": "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\n",
      "text/plain": [
       "<Figure size 432x288 with 1 Axes>"
      ]
     },
     "metadata": {
      "needs_background": "light"
     },
     "output_type": "display_data"
    },
    {
     "data": {
      "image/png": "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\n",
      "text/plain": [
       "<Figure size 432x288 with 2 Axes>"
      ]
     },
     "metadata": {
      "needs_background": "light"
     },
     "output_type": "display_data"
    },
    {
     "data": {
      "image/png": "iVBORw0KGgoAAAANSUhEUgAAAYIAAAEWCAYAAABrDZDcAAAAOXRFWHRTb2Z0d2FyZQBNYXRwbG90bGliIHZlcnNpb24zLjUuMSwgaHR0cHM6Ly9tYXRwbG90bGliLm9yZy/YYfK9AAAACXBIWXMAAAsTAAALEwEAmpwYAAA6tklEQVR4nO3dd3gU5fbA8e8h9E5o0gkIYlC6gB3Ra1dsKKDXLnqvgL33cu36Q0TloiJWQAQFFOFaEBWkJ/QqoYQOoQVIP78/3gnGGGCBzE42ez7Psw+7O7O7Z5IwZ98y5xVVxRhjTPQqEXQAxhhjgmWJwBhjopwlAmOMiXKWCIwxJspZIjDGmChnicAYY6KcJQJjjIlylghMoERklYjsE5FUEdkoIkNFpGK+fU4RkZ9EZLeI7BSRcSISn2+fyiLSX0TWeO+1wntc4whiWui9R6qIZItIWp7Hj4rIjd7zqSKyS0QSReRi77VdRCTH27ZbRJaKyE1H91MKKeaf88WZKiIne9tURPZ4z60TkTdEJMbbdsifvyn+LBGYouASVa0ItAHaAo/kbvBOZv8DxgB1gThgLjBFRJp4+5QGfgRaAucDlYFTgG1Ax8MNRlVbqmpFL6ZfgT65j1X1BW+3373tVYEPgC9EJNbbtt7bVhm4B3hPRI473DiOQN44K6rq73m2tfZiOhvoBdyWZ9sBf/4mOlgiMEWGqm4EJuJOSLleAT5W1TdVdbeqpqjq48A04Glvn+uBhsDlqrpIVXNUdbOqPqeq432OOQcYApQDmuTbpt7npwCtCnq9iEwQkT75npsrIleI838istlrCc0TkROOMt4luOT2t/c5wM/fRAFLBKbIEJH6wAXACu9xedw3+5EF7P4F8A/v/jnABFVNDUeceYlISeBWIBVYnm9bCRG5FKiBd0wF+Bzomec18UAj4FvgXOAMoDmu5XENrpVzNPHGA6cDCQVs+8vP30QPSwSmKPhaRHYDa4HNwFPe87G4v9ENBbxmA+4EC1D9APv4qbOI7AA24k7kl6vqTm9bXW/bPuAr4F5V/duJ1/MV0EZEGnmPrwVGq2o6kAlUAloAoqqLVfVgxzlARHZ4tzn5ts0Rke3AOOB94MM82w708zdRwhKBKQouU9VKQBfcSS/3BL8dyAHqFPCaOsBW7/62A+xTIG/AN3dAddARxjxNVauqag1V7ayqP+TZtl5Vq+LGCAYAXQ/0Jqq6G/ftv4f3VA/gM2/bT8BA4G1gk4gMFpHKB4mpnxdTVVVtl29bO1WtpqpNVfVxr0sr14F+/iZKWCIwRYaqTgaGAq95j/cAvwPdC9j9atwAMcAPwHkiUiHEz3khz4DqHUcd+IE/Jx14CDhRRC47yK7DgJ7ewHg5YFKe9xigqu1xA+HNgQd8jPcvP38TPSwRmKKmP/APEWnjPX4YuEFE+olIJRGpJiLPAycDz3j7fILr1hglIi28vvnq3jf/C8N9AHmpagbwOvDkQXYbjxsXeBYYkfttXUROEpFOIlIK2AOkAdk+h9yfv/78TRSwRGCKFFXdAnwMPOE9/g04D7gCNw6wGjfF8TRVXe7tk44bMF4CfA/sAmbgujimh/kQCjIEaCgilxS00Yt/NO4YPs+zqTLwHq6LbDWuC8zXb+v5f/4mOogtTGOMMdHNWgTGGBPlLBEYY0yUs0RgjDFRzhKBMcZEuZJBB3C4atSooY0bNw46DGOMiSizZ8/eqqo1C9oWcYmgcePGzJo1K+gwjDEmoojI6gNts64hY4yJcpYIjDEmylkiMMaYKGeJwBhjopwlAmOMiXK+JQIRGeItsbfgANtFRAZ4i4zPE5H89dONMcaEgZ8tgqG4hcQP5AKgmXfrDbzrYyzGGGMOwLdEoKq/4BbtPpBuuEXJVVWnAVVFJORVpowxJhpkZucw54/NTOv9AHNHf+/LZwR5QVk93GIiuZK95/62JquI9Ma1GmjYsGFYgjPGmCCkZWYzd+0OpielMCMphb3TZ/LsuP602/QH03bsgCv+UeifGWQikAKeK3BxBFUdDAwG6NChgy2gYIwpNvZmZDFn9Q5mJG1jWlIKiWt3kJGVQ5nsDJ5OHM01Pw0js1osuz4dRudrexz6DY9AkIkgGWiQ53F9YH1AsRhjTFjsTstk1urtTF+ZwoykbcxL3klWjlJC4IR6Vbi+cyPO3fEH7Z97mJhly+Cmmyjz+uuUqVbNt5iCTARjgT4iMhzoBOxU1b91CxljTCTbsTeDGV43z/SkFBau30mOQskSQqv6VbjtjCZ0ioulfaNqVMpMg0cfhbffhoYNYeJEOPdc32P0LRGIyDCgC1BDRJKBp4BSAKo6CLdg94XACmAvcJNfsRhjTLhs2Z3OzFUpTF+5jelJKSzdtBtVKF2yBG0bVKVP12Z0ioulXcNqlCsd8+cLJ06E3r1h7Vro2xf+8x+oWDEsMfuWCFS15yG2K3CnX59vjDHhsHFnGtOT3El/+spt/LFlDwDlSsXQoXE1LjqxDp2aVKdV/SqULRXz9zdISYF774WPPoIWLeDXX+HUU8N6DBFXhtoYY4KiqiRv37f/pD89KYU1KXsBqFSmJB0aV6N7hwZ0jIvlxHpVKBVziBn6o0bBnXfC1q3w2GPw+ONQtmwYjuSvLBEYY8wBqCpJW/fsP/HPSEph/c40AKqWL0XHxrFcf3IjOjepzvF1KhNToqDJkAXYsAH69IHRo6FdO5gwAdq08e9ADsESgTHGeHJylOWbU/d39cxISmHL7nQAalQsQ6cmsdwRF0unuOo0q1WREqGe+HOpwtChrito3z546SW47z4oGeyp2BKBMSZqZecoizfs2v+Nf+aqFLbvzQSgTpWynNq0Op2aVKdjXCxNalRA5DBP/HmtWuUGg7//Hk4/Hd5/H5o3L5wDOUqWCIwxUSMzO4cF63buP/HPWrWd3elZADSMLc85x9emY1wsnZtUp361ckd34s+Vne2mgz76KIi4+3fcASWKTvFnSwTGmGIrPSubuWt3uv79VSnMXr2dvRnZADStWYGLW9elc5NYOsbFUqdKucIPYPFiuPVWmDoVzj8f/vtfd31AEWOJwBhTbOzLyGbOmu37v/EneOUaAFocU4nu7evTqUl1TmocS81KZfwLJDMTXnkFnn3WXQvwySdw7bWuRVAEWSIwxkSs3WmZzF69ff/A7rzkHWRmu3INLeu6cg0d49w3/qrlS4cnqNmz4ZZbYO5cuPpqeOstqFUrPJ99hCwRGGMixs69mcxY5Wr0TE9KYcG6v5ZruOW0JnRq4so1VC5bKrzB7dsHzzwDr73mTvxffQWXXRbeGI6QJQJjTJG1NTWdmV6Nnmkrt/2lXEObBlXpc9axdIyrTrtGVSlfOsDT2S+/uLGA5ctda+C116Bq1eDiOUyWCIwxRcamXWlMW/nnHP4Vm1MBV66hfSNXrqFjXCytG1QtuFxDuO3aBY88Au+8A3Fx8MMPcPbZQUd12CwRGGMCszZlr3fSdyf/1dv+Wq7hynb16dQklhPqVqF0yaIz3RKA776D22+H5GS4+254/nmoUCHoqI6IJQJjTFioKqu27d1fo2dGUgrrduwDXLmGkxrH8s/OjegUV534uodRriHctm2De+5xM4Hi493U0M6dg47qqFgiMMb4IidHWbEl9S8n/s37yzWUplNcdXqf4QZ3m9eqdPjlGsJNFUaOdDWCtm+HJ590F4mV8XEaaphYIjDGFIrccg1uAZZtzFy1nZQ9GQAcU7ksJzetTqe46nRqUgjlGsJt/Xr4979hzBjo0MGNBbRqFXRUhcYSgTHmiGRm57Bw/a793/hnrkphd5or19AgthxdW9Ry5RriqtMgtpDKNYSbKgwZ4grDpafDq6+68YCAi8QVtuJ1NMYY36RnZTMveef+E3/ecg1Nalbg4lZ16BTnCrTVrepDuYZwW7kSbrsNfvoJzjzTFYk79tigo/KFJQJjTIH2ZWSTkFuuIWkbCWt2kO6VaziudiWual+fTnHVOSmuGrUqhX8xFd9kZ7urgR97DGJiYNAglxCKUJG4wmaJwBgDQGp6livX4C3AMjdPuYb4upW5LrdcQ+NYqlUIU7mGcFu40F0QNn06XHSRSwL16wcdle8sERgTpXbuzWTmqhRmeAutL1i/i+wcpWQJ4cT6Vbj5tDg6x1WnfeMAyjWEW0aGWyTm+eehShX4/HPo0aPIFokrbJYIjIkS21LTmbkqhWkrXcmGJRt3uXINMa5cw7+7NKVjXCztGlajQpkoOjXMnOlaAfPnQ8+e8OabULNm0FGFVRT9to2JLpt2pf1lrd3lXrmGsqVK0L5RNe45pzkd42JpU1TKNYTb3r3w1FPwxhtQpw6MHQuXXBJ0VIGwRGBMMZG8fS/TV6bsn8e/yivXUNEr13B5u3p0iqvOifWKYLmGcPv5ZzcAvGKFWz7ylVdcl1CUskRgTATKLdcwI2kb072untxyDVXKuXINuYO78XUqUzImyk/8uXbuhIceciuFNW3qpoaedVbQUQXOEoExEUBVWbE5lWl5unpyyzVUr1CaTk1iue30ODo1qc5xtSOgXEMQvvnGrRW8YQPcf79bO6B8+aCjKhIsERhTBOXkKIs3euUaVrqZPbnlGmpXLkPnJq5UQ6e46jStGWHlGsJtyxa46y4YNgxOOAFGj4aOHYOOqkixRGBMEZCVW67B6+qZuSqFXV65hvrVynHWcbW8E38sDWPL24k/FKowfDj06+e6hJ55Bh5+GEoX02sgjoIlAmMCkJGVw7zkHd5VuynMXpXCntxyDTUqcFGrOt5au9WpVxzKNYRbcjL861+uO6hjR/jgA9caMAWyRGBMGKRlZjNnzfb9XT1z1mz/S7mGK7wFWDo2jqVW5WJUriHccnJcTaAHHoDMTDc1tF8/VyrCHJAlAmN8sCe3XEOSV65h7U4ysnMQgfg6lbm2UyM6NYnlpMaxxBbXcg3htmKFmxL688/QtSsMHuxmBplDskRgTCHYuS+TWavcHP5pSSksWLeT7BwlpoRwYr0q3HRaYzrFxdK+USxVyhXzcg3hlpUF/fvDE0+4/v/33nNXCts4Ssh8TQQicj7wJhADvK+qL+XbXgX4FGjoxfKaqn7oZ0zGFIaUPRn7L9yavjKFxfnKNfzrzKZ0ahKF5RrCbf58d9KfORMuvdQtIl+vXtBRRRzf/kJFJAZ4G/gHkAzMFJGxqrooz253AotU9RIRqQksFZHPVDXDr7iMORKbc8s1eF09yzb9Wa6hXcNq3H22K9fQtmGUlmsIt/R0eOEFd6tWzc0OuvpqawUcIT+/qnQEVqjqSgARGQ50A/ImAgUqiZsLVxFIAbJ8jMmYkKzbsW//hVvTk1JI2roHgAqlY+jQOJZuberRuUksJ9arauUawm36dNcKWLgQrrsO/u//oEaNoKOKaH4mgnrA2jyPk4FO+fYZCIwF1gOVgGtUNSf/G4lIb6A3QMOGDX0J1kQvVWX1tr1e/77r6skt11C5bEk6xsXSq2NDOjWxcg2B2rPHjQP07++6f775xq0ZYI6an4mgoDaa5nt8HpAIdAWaAt+LyK+quusvL1IdDAwG6NChQ/73MOawqCp/bEndX455RtI2Nu36s1xDxzhXrqFjXHVaHGPlGoqEn35yM4JWrnTXB7z0ElSuHHRUxYafiSAZaJDncX3cN/+8bgJeUlUFVohIEtACmOFjXCbK5OQoSzbu3t+/PyMphW15yjXkrrPbuUksTWtWtKt2i5IdO9w1Ae+/D82aweTJcMYZQUdV7PiZCGYCzUQkDlgH9AB65dtnDXA28KuI1AaOA1b6GJOJArnlGmbkGdzNW67hzONq0jnO1eqxcg1F2Jgx7tv/pk3w4IPw9NNQzq6y9oNviUBVs0SkDzARN310iKouFJE7vO2DgOeAoSIyH9eV9JCqbvUrJlM8ZWTlMH/dDqZ5tfhnr95Oaro78cfVqMCFJ9ZxV+1auYbIsHmzuxp4xAho1cotGNOhQ9BRFWu+TnBW1fHA+HzPDcpzfz1wrp8xmOInLTObhDU79n/jn7NmO2mZbo5B89oVuaxtXTrFVadTnJVriCiq8NlnrlJoaio895xbO6CUXYDnN7vSxRR5e9KzmLNm+/7VtxLX7thfruH4YyrTs2NDOsVV56TG1ahesUzQ4ZojsXatWytg/Hjo3NkViYuPDzqqqGGJwBRZqsoz4xbx6bTVZHnlGk6oV4WbTm1Mx7hYOjS2cg0RLyfHrRb24IPu/ptvwp13WpG4MLNEYIqsUXPWMXTqKq5oW4/L2tajXaNqVLRyDcXHsmVw663w669wzjmuSFxcXNBRRSX7X2WKpJVbUnlyzAI6N4nl1e6tibG5/MVHVpYrD/3UU1C2LAwZAjfeaOUhAmSJwBQ56VnZ9B2WQJmSJeh/TVtLAsXJ3Llw880wZw5cfjm8/TbUqRN0VFHPrpU3Rc5L3y1h4fpdvHpVa46pYrN+ioX0dFceokMHt3rYyJEwapQlgSLCWgSmSPlx8SY+nLKKG09pzDnxtYMOxxSGqVPdWMDixXDDDfD661C9etBRmTysRWCKjI0707h/5Fzi61TmkQtbBB2OOVqpqe6agNNOcwXjJkyAoUMtCRRBlghMkZCdo9w9IoH0rBze6tWWMiVt+mBE+/57OPFEGDDATQddsADOOy/oqMwBWCIwRcI7k1YwbWUKz1zakqY1KwYdjjlS27e7weBzz4UyZdzU0LfegkqVgo7MHIQlAhO4WatS6P/jcrq1qctV7esHHY45Ul995a4G/vhjeOQRSEx03UKmyAspEYhIORE5zu9gTPTZuTeTu4YnUr9aOZ6/7ASrBBqJNm6E7t3hiivgmGNgxgy3hGRZm/EVKQ6ZCETkEtziMRO8x21EZKzPcZkooKo8NGoem3alMaBHWyqVtXIREUUVPvrItQLGjXMn/xkzoF27oCMzhymUFsHTuPWHdwCoaiLQ2K+ATPT4bPoaJizcyIPnH0frBlWDDsccjtWr4YIL3BXB8fGuG+iRR6xSaIQKJRFkqepO3yMxUWXpxt08980izmhek1tPaxJ0OCZUOTkwcCC0bAm//eYGgn/5BVrYdN9IFsoFZQtEpBcQIyLNgH7AVH/DMsXZvoxs+nw+h0plS/F699a2JnCkWLoUbrkFpkxxU0H/+19o1CjoqEwhCKVF0BdoCaQDnwM7gbv8DMoUb89+s4jlm1P5v2taU7OSrR9Q5GVmwosvQuvWsGiRuyjsu+8sCRQjobQILlLVx4DHcp8Qke7ASN+iMsXWt/M2MGzGGu44symnN6sZdDjmUBIS3HUBiYlw1VWuK+iYY4KOyhSyUFoEj4T4nDEHtTZlLw+PnkebBlW579zmQYdjDiYtzQ3+nnSSmx46apQrFGdJoFg6YItARC4ALgTqiciAPJsqA1l+B2aKl8zsHO4angAKb/VsS6kYu5axyPrtNzcWsGwZ3HSTKxJXrVrQURkfHex/43pgFpAGzM5zGwtY0RBzWPr/sIw5a3bwwhUn0iC2fNDhmILs3g19+sDpp0NGBvzvf27RGEsCxd4BWwSqOheYKyKfq2pmGGMyxczUFVt55+c/uKZDAy5pXTfocExBJk6E3r3dIvL9+sF//gMVreZTtAhlsLixiLwIxAP7rxlXVZv8bQ5pW2o6d49IpEmNCjx1aXzQ4Zj8UlLgnntcfaAWLVy30CmnBB2VCbNQOmo/BN7FjQucBXwMfOJnUKZ4yMlR7h85lx37MhnYqx3lS9s6SEWGKnz5JRx/PHz+OTz2mJshZEkgKoWSCMqp6o+AqOpqVX0a6OpvWKY4GDIliUlLt/D4RcdzfJ3KQYdjcm3YAFde6QrF1a8PM2fC889bkbgoFspXtDQRKQEsF5E+wDqglr9hmUg3P3knL09YwrnxtflnZ7vwqEhQdReD3Xuvmx768svufklrqUW7UFoEdwPlcaUl2gPXATf4GJOJcKnpWfQdNocaFcvwylWtrLR0UZCU5BaLuflmt3LY3Lnw4IOWBAxwiBaBiMQAV6vqA0AqcFNYojIR7cmvF7AmZS/De59M1fKlgw4numVnw9tvu4vDSpSAd96B2293943xHDQRqGq2iLQXEVFVDVdQJnKNnpPM6IR13H1OMzrGxQYdTnRbtAhuvRV+/92VjB40CBo2DDoqUwSF0i5MAMaIyEhgT+6Tqjrat6hMRErauofHv15Ax7hY+nZtFnQ40Ssz0/X/P/ecWyv4k0/g2mvBuujMAYSSCGKBbfx1ppACh0wEInI+8CYQA7yvqi8VsE8XoD9QCtiqqmeGEJMpYtKzsuk7bA6lS5bgzR5tiLHS0sGYPduNA8ybB9dcAwMGQC2b22EO7pCJQFWPaFzAG194G/gHkAzMFJGxqroozz5VgXeA81V1jYjYX2yEemXCUhas28Xgf7anTpVyQYcTffbtg6efhtdeg9q14euvoVu3oKMyEcLPEaOOwApVXamqGcBwIP9fZi9gtKquAVDVzT7GY3wyaclmPvgtiRtObsS5La06Zdj98otbK+CVV1xrYNEiSwLmsPiZCOoBa/M8Tvaey6s5UE1EfhaR2SJyfUFvJCK9RWSWiMzasmWLT+GaI7FpVxr3jZzL8XUq88iFxwcdTnTZtQv+/W8480zIyoIffoD33oOqVYOOzEQYPxNBQZ3E+WcelcRdm3ARrqLpEyLyt0L1qjpYVTuoaoeaNW0xk6IiO0e5Z0Qi+zKyeatnW8qWigk6pOgxfrxbN3jQIFcraP58OPvsoKMyEeqQiUBEaovIByLynfc4XkRuCeG9k4EGeR7Xx5W2zr/PBFXdo6pbgV+A1qGFboI2aPIfTP1jG89c2pJja1mlyrDYuhWuuw4uuggqV4apU+GNN6BChaAjMxEslBbBUGAikFs/eBnuauNDmQk0E5E4ESkN9MCtZZDXGOB0ESkpIuWBTsDiEN7bBGz26hTe+H4Zl7SuS/cO9YMOp/hThREjID7e/fvUUzBnDnTuHHRkphgIZfpoDVX9QkQeAVDVLBHJPtSLvP364JJIDDBEVReKyB3e9kGqulhEJgDzgBzcFNMFR3w0Jix27suk37BE6lYty38uP8FKSPht/Xr4179g7Fjo0AF+/NGViTCmkISSCPaISHW8/n0R6QzsDOXNVXU8MD7fc4PyPX4VeDWkaE3gVJVHRs9j0640vvzXKVQuWyrokIovVfjgA7j/fkhPd1ND77rL6gOZQhfKX9R9uC6dpiIyBagJXOVrVKbIGjZjLePnb+ThC1rQpkHVoMMpvv74w60Y9tNPblbQ++/DsccGHZUppkK5oGy2iJwJHIebCbTUlq6MTss27eaZcQs5vVkNep9uC9T5Ijsb3nwTHn/cffP/739dvSArEmd8dMhEICJzgRHACFX9w/+QTFGUlplNn8/nUKlsSV6/ujUlrIRE4VuwAG65BWbMgIsvhnffdQvHGOOzUL5mXIpbpvILEZkpIveLiJUwjDLPfbOIZZtSeePqNtSqZCtZFaqMDHjmGWjXDlaudEtHjh1rScCEzSETgbc85Suq2h5XEqIVkOR7ZKbI+G7+Bj6bvobbz2jCGc3tgr5CNXMmtG/v6gR17+7KQ/TsaZVCTViF1PEoIo1F5EFcvaAWwIO+RmWKjOTte3lo1Dxa16/CfeceF3Q4xcfevW42UOfOsH27awF89hnYlfMmAKGMEUzHlYgeCXRX1ZW+R2WKhKzsHO4enkiOwls921G6pA1YFopJk+C229zMoNtvd2sHVKkSdFQmioUyffQGVV3ieySmyHnzx+XMWr2dN3u0oWH18kGHE/l27nTrBA8eDE2buqmhZ50VdFTGHDgRiMh1qvopcKGIXJh/u6q+4WtkJlBT/9jKwEkr6N6+Pt3a5C8aaw7buHFwxx2wcaPrEnrmGShvydUUDQdrEeRWsapUwDZbv7gYS9mTwT0jEomrUYFnurUMOpzItmWLuxp42DBXFuLrr+Gkk4KOypi/OGAiUNX/end/UNUpebeJyKm+RmUCo6o8MHIu2/dkMuTGkyhf2soZHBFVd/Lv18+tG/DMM/Dww1C6dNCRGfM3oYz+vRXic6YY+HDKKn5csplHL2xBy7o2gHlEkpPh0kvdgvHHHgsJCfDkk5YETJF1sDGCk4FTgJoicm+eTZVx1URNMbNg3U5e+m4J5xxfmxtOaRx0OJEnJ8etEPbAA27FsDfecC2CGPvvYoq2g7X7SwMVvX3yjhPsworOFTt70rPoOyyB2AqlefWqVlZa+nAtX+6mhE6eDF27uoTQxOoxmchwsDGCycBkERmqqqvDGJMJwJNjFrJ62x4+v60z1SpYF0bIsrKgf3944gkoU8ZVCb35Zrsy2ESUg3UN9VfVu4GBIvK3WUKqeqmfgZnw+TphHaPmJNPv7GZ0blI96HAix7x5rkjcrFnQrRu88w7UrXvo1xlTxBysa+gT79/XwhGICcaqrXt47Kv5dGwcS7+uVu8+JOnp8MIL7latmls6snt3awWYiHWwrqHZ3r+Tc58TkWpAA1WdF4bYjM8ysnLoNzyBkjEl6N+jDSVjrITEIU2b5loBixa5ReT794fq1ooyke2Q//NF5GcRqSwiscBc4EMRsauKi4FXJy5hXvJOXrmqFXWrlgs6nKJtzx645x445RR3XcC338Inn1gSMMVCKF8Bq6jqLuAK4EOvHPU5/oZl/DZp6Wbe+zWJf3ZuxHktjwk6nKItd7H4/v3dIvILF8KFf6u6YkzECiURlBSROsDVwDc+x2PCYPOuNO7/Yi4tjqnEYxcdH3Q4RdeOHW6ZyHPOcctGTp4Mb78NlSsHHZkxhSqURPAsMBH4Q1VnikgTYLm/YRm/5OQo934xlz0ZWQzs1ZaypexipwKNGQPx8TB0KDz0EMydC2ecEXRUxvgilMXrR+LWIsh9vBK40s+gjH8G/fIHv63YyktXnMixtQqqJxjlNm1yVwN/8QW0bu2qhrZvH3RUxvgqlMHi+iLylYhsFpFNIjJKRGwx1Qg0Z812Xv/fMi5qVYdrTmoQdDhFi6ob/I2PdxVCn3/+z2UkjSnmQuka+hAYC9QF6gHjvOdMBNm5L5N+wxKoU6UsL15xopWQyGvNGrjoIrj+ejjuOEhMhMceg1Klgo7MmLAIJRHUVNUPVTXLuw0FbGHVCKKqPPrVfDbsTGNAz7ZULmsnOMAViXvnHWjZ0g0Ev/km/PorHG8D6Ca6hJIItorIdSIS492uA7b5HZgpPCNmruXbeRu479zmtGtYLehwioZly6BLF7jzTjj5ZDcl1CqFmigVSiK4GTd1dKN3u8p7zkSA5Zt28/S4hZx2bA3uOKNp0OEELyvLLRbfqhXMnw8ffggTJ0LjxkFHZkxgQpk1tAawAnMRKC0zm77DEqhQuiRvXN2aEiWifFwgMdGVh5gzBy6/3F0TUKdO0FEZE7hQZg01EZFxIrLFmzk0xruWwBRx//l2MUs27ub1q1tTq3LZoMMJTlqaG/zt0AHWrYMvv4TRoy0JGOMJpWvoc+ALoA5u5tBIYJifQZmjN2HBRj6ZtprbTo+jy3G1gg4nOFOnQtu2rlLodde5YnFX2mUwxuQVSiIQVf0kz6yhT4G/rU9Q4AtFzheRpSKyQkQePsh+J4lItojYymeFYN2OfTw0ah6t6lfhgfNaBB1OMFJT3eDvaafB3r0wYYK7Sjg2NujIjClyQkkEk0TkYRFpLCKNRORB4FsRifUqkhZIRGKAt4ELgHigp4jEH2C/l3FlLMxRysrO4e7hCWRl5zCgR1tKl4zC0tL/+x+ccAIMHOhmBS1YAOedF3RUxhRZhxwsBq7x/r093/M341oGBxov6Ais8EpSICLDgW7Aonz79QVGASeFErA5uAE/rWDmqu30v6YNjWtUCDqc8Nq+He69133zP+44+OUX1yIwxhxUKLOG4o7wvesBa/M8TgY65d1BROoBlwNdOUgiEJHeQG+Ahg0bHmE4xd+0ldsY+NNyrmxXn8va1gs6nPAaPdp9+9+yBR55BJ58EspG8QC5MYfBz36DguYq5h9b6A88pKrZB3sjVR2sqh1UtUPNmnZRc0G278ng7uGJNKpegWe7tQw6nPDZuBGuusoNAB9zjKsP9MILlgSMOQyhdA0dqWQgb2Wz+sD6fPt0AIZ7dW9qABeKSJaqfu1jXMWOqvLAl3PZtiedr244lQpl/Py1FhGq8NFHrito71548UW47z6rD2TMEfDzjDETaCYiccA6oAfQK+8OebudRGQo8I0lgcP30dRV/LB4M09cHM8J9aoEHY7/Vq2C2293g8KnnQbvv+/GBIwxRySUC8rEqzX0pPe4oYh0PNTrVDUL6IObDbQY+EJVF4rIHSJyx9EGbpyF63fywvgldG1Ri5tPbRx0OP7KyYG33nIzgqZOdbOCJk+2JGDMUQqlRfAOkIMb0H0W2E2Is3xUdTwwPt9zgw6w740hxGLy2JuRRd9hCVQtX4pXr2pVvEtLL1nilo2cMsVNBf3vf6FRo6CjMqZYCGWwuJOq3gmkAajqdqC0r1GZkDw1ZiFJW/fQv0cbqlcsE3Q4/sjMdIO/rVu7q4I/+gi++86SgDGFKJQWQaZ30ZcCiEhNXAvBBGhM4jpGzk6mz1nHckrTGkGH4485c1yRuMRENzNo4ECoXTvoqIwpdkJpEQwAvgJqich/gN+AF3yNyhzU6m17eOyrBbRvVI27z2kWdDiFb98+dy1Ax45ueujo0TBypCUBY3wSygVln4nIbOBs3LUBl6nqYt8jMwXKyMqh37AESgi82aMNJWOKWQmJ335zrYBly+Dmm+G116CaLaZjjJ9CmTXUENiLW6t4LLDHe84E4PX/LWVu8k5evrIV9auVDzqcwrN7N/TpA6efDhkZ8P338MEHlgSMCYNQxgi+xY0PCFAWiAOWAlF0+WrRMHnZFv77y0p6dWrIBScWo1r6333nrgtIToa77oLnn4eKFYOOypioEUrX0Il5H4tIO/5egM74bPPuNO77IpHmtSvy5MV/K+IambZtg3vugU8+cQvGT5ni1g82xoTVYXcwq+ocrFJoWOXkKPd9MZfdaVkM7NWOsqUifIF1VTf4Gx8Pw4bB449DQoIlAWMCcsgWgYjcm+dhCaAdsMW3iMzfDP51Jb8u38p/Lj+B5rUrBR3O0dmwAf79b/j6a2jf3pWJaN066KiMiWqhtAgq5bmVwY0ZdPMzKPOnhDXbeW3iUi444Rh6dYzgMXpVGDLEdQFNmACvvALTplkSMKYIOGiLwLuQrKKqPhCmeEweu9Iy6Tc8gdqVy/LSFRFcQiIpCXr3hh9+gDPOgPfeg+bNg47KGOM5YItAREp66wS0C2M8xqOqPPbVAtbvSGNAzzZUKR+B5ZWzs+HNN12RuOnT4d13YdIkSwLGFDEHaxHMwCWBRBEZC4wE9uRuVNXRPscW1UbOSmbc3PXcf25z2jeKwAXXFy1yF4ZNmwYXXOCKxDVocOjXGWPCLpTrCGKBbbjqo7nXEyhgicAnKzbv5qmxCzm5SXX+1eXYoMM5PBkZ8PLL7lqASpXg00+hVy+I1G4tY6LAwRJBLW/G0AL+TAC58i85aQpJWmY2fT5PoFzpGPr3aENMiQg6gc6a5VoB8+ZBjx6uW6hWraCjMsYcwsFmDcUAFb1bpTz3c2/GBy+OX8ySjbt5rXsraleOkHV39+2DBx+ETp1g61YYM8ZdH2BJwJiIcLAWwQZVfTZskRj+t3AjH/2+mptPjaNriwiptDl5slswZsUKuO02Ny20atWgozLGHIaDtQgiqE8i8m3YuY8HR82jZd3KPHRBBCy9uGsX/Otf0KWLW0Lyxx9h8GBLAsZEoIMlgrPDFkWUy85R7hqeSEZWDm/1bEuZkkW8hMS330LLlu7Ef++9bkyga9egozLGHKEDJgJVTQlnINHsrZ+WMyMphee6nUCTmkV4+GXrVrjuOrj4YqhSxS0g//rrUKFC0JEZY45CMVvVJPJMX7mNAT8u5/K29biyff2gwymYKgwf7spDfPEFPPWUW0ayU6egIzPGFIJQriMwPtm+J4O7RyTSMLY8z112QtDhFGzdOlckbuxYOOkkt1jMiSce+nXGmIhhLYKAqCoPjprH1tR03urZjoplilhOVnU1geLj3Wphr70Gv/9uScCYYqiInX2ixyfTVvP9ok08ftHxnFi/StDh/NUff7ipoJMmuVlB770Hx0bYFc7GmJBZiyAAi9bv4vlvF9PluJrcfGpc0OH8KTsb3njDfeufPdvVB/rxR0sCxhRz1iIIs70ZWfQdNocq5UrxWvfWlCgqJSQWLHDlIWbMcLOC3n0X6hfRwWtjTKGyFkGYPTN2ESu37qH/NW2oUbFM0OG4InHPPAPt2sHKla40xNixlgSMiSLWIgijcXPXM2LWWv7dpSmnHlsj6HDct/9bbnGtgV69XJG4GkUgLmNMWFmLIEzWpuzl0dHzaduwKvf8I+CFWfbuhfvuc4vFb98O48bBZ59ZEjAmSlmLIAwys3PoOywBBAb0aEupmADz76RJrkjcypVw++1u7YAqRWzWkjEmrHw9I4nI+SKyVERWiMjDBWy/VkTmebepIlIsVzJ//X/LSFy7g5euaEWD2PLBBLFzp1s3uGtXt0jMpEkwaJAlAWOMf4nAW/j+beACIB7oKSLx+XZLAs5U1VbAc8Bgv+IJyq/LtzBo8h/07NiAi1rVCSaIcePchWEffAAPPOCKxHXpEkwsxpgix88WQUdghaquVNUMYDjQLe8OqjpVVbd7D6cBxWqqypbd6dwzYi7NalXkyYtbBhDAFujZEy69FKpXdwvIv/IKlA+oVWKMKZL8TAT1gLV5Hid7zx3ILcB3BW0Qkd4iMktEZm3ZsqUQQ/RPTo5y38i57E7L5K1ebSlXOoylpVXd4O/xx8OoUfDss24ZyQ4dwheDMSZi+JkICrpSqsC1jkXkLFwieKig7ao6WFU7qGqHmjVrFmKI/nn/t5X8smwLj18cT4tjKofvg9euhUsuceWijz0WEhLgiSegdOnwxWCMiSh+JoJkoEGex/WB9fl3EpFWwPtAN1Xd5mM8YTN37Q5embCU81rW5rpODcPzoTk5bvC3ZUs3EPx//wdTprjHxhhzEH5OH50JNBOROGAd0APolXcHEWkIjAb+qarLfIwlbHanZdJ3WAK1KpXh5StbIRKGEhLLl7sicZMnw9lnu5XDmjTx/3ONMcWCb4lAVbNEpA8wEYgBhqjqQhG5w9s+CHgSqA68450ws1Q1YjuyVZXHv15A8va9jLj9ZKqW97k7JivLffN/8kkoU8bNCrrpJjc91BhjQuTrBWWqOh4Yn++5QXnu3wrc6mcM4fTl7GTGJK7n3n8056TGsf5+2Ny5rjzE7NnQrRu88w7UrevvZxpjiiUrMVFI/tiSypNjFtK5SSx3nuVj2eb0dDf426GDGxj+4gv46itLAsaYI2YlJgpBelY2fT9PoGypEvS/pi0xfpWW/v131wpYvBj++U/XLVS9uj+fZYyJGtYiKAQvjl/Cog27ePWq1hxTpWzhf8CePXD33XDqqZCaCuPHw8cfWxIwxhQKaxEcpR8WbWLo1FXceEpjzomv7cMH/OBmBK1a5RaRf/FFqBzG6xKMMcWetQiOwsadaTzw5Vzi61TmkQtbFO6b79jhuoH+8Q8oVQp++QXeftuSgDGm0FkiOELZOcpdwxNIz8rhrV5tKVOyEEtIfP21KxL30Ufw8MNuhtDppxfe+xtjTB7WNXSE3p60gulJKbx6VSua1qxYOG+6aRP07QsjR0Lr1q5qaPv2hfPexhhzANYiOAIzV6XQ/4dldGtTl6vaF0LBVFU3+Hv88TBmDPznPzBzpiUBY0xYWIvgMO3Ym8FdwxJoEFue5y874ehLSKxZ41YKmzDBLR35wQcuIRhjTJhYi+AwqCoPjZrH5t3pDOjRlkplSx35m+XkuMHfli3h119hwAD3ryUBY0yYWYvgMHw6fQ0TF27i0Qtb0LpB1SN/o6VL3brBv/3mZgUNHgyNGxdWmMYYc1isRRCiJRt38dw3izijeU1uPe0IK3tmZsJLL7mB4AUL4MMPYeJESwLGmEBZiyAE+zKy6fN5ApXLluL17q0pcSQlJBIS3HUBCQlwxRWuW+iYYwo/WGOMOUzWIgjBs98sZMXmVP7vmtbUrFTm8F6clgaPPQYnnQTr18OXX7rlIy0JGGOKCGsRHMK38zYwbMZa7jizKac3O8xlMqdMca2ApUvhhhvgjTcg1ufy1MYYc5isRXAQa1P28vDoebRpUJX7zm0e+gtTU6FfP3c1cFqamxo6dKglAWNMkWSJ4AAys3PoNzwBFN7q2ZZSMSH+qCZOhBNOgIEDoU8fNyh83nn+BmuMMUfBEsEB/N/3y0hYs4MXrjiRBrHlD/2ClBS48UY4/3woW/bPawMqFlL5CWOM8YklggJMWbGVdyf/wTUdGnBJ6xBW/ho1yhWJ+/RTePRRSEx0awcYY0wEsMHifLampnP3iESa1KjAU5fGH3znDRtc98/o0dC2rRsLaNMmLHEaY0xhsRZBHjk5yv0j57JzXyYDe7WjfOkD5ElVN/gbHw/ffusuEps+3ZKAMSYiWYsgjyFTkvh56Rae7daS4+scYAGYVaugd2/4/ns47TR4/3047riwxmmMMYXJWgSe+ck7eXnCEs6Nr80/Ozf6+w7Z2fDWW25G0O+/uyuDJ0+2JGCMiXjWIgBS07PoO2wONSqW4ZWrWv29tPTixa5I3NSpblbQoEHQqIBkYYwxEchaBMATXy9gTcpe3uzRlqrlS/+5ITPTLRLTpg0sWeIWjxk/3pKAMaZYifoWwajZyXyVsI67z2lGx7g8V/7OmQM33+zWC+7e3XUL1a4dXKDGGOOTqG4RrNySyhNjFtAxLpa+XZu5J/ftcwvGd+zo1hAePRq++MKSgDGm2IraFkF6VjZ9hyVQumQJ3uzRhpgS4q4GvvVWWLbMFYt79VWoVi3oUI0xxldR2yJ4+bulLFy/i1eubEUdyYQ774QzzoCMDDc19P33LQkYY6JCVLYIflqyiSFTkrjh5EacuyYBLrgdkpPh7rvh+eehQoWgQzTGmLCJukSwaVca94+cR8fKypMjX4bPPnULxk+ZAiefHHR4xhgTdr52DYnI+SKyVERWiMjDBWwXERngbZ8nIu38jCc7R7l7WAJnJk7i8zduImbEcHjiCbd8pCUBY0yU8q1FICIxwNvAP4BkYKaIjFXVRXl2uwBo5t06Ae96//ri4y+ncOPrD3De8mnQvj0M+RFatfLr44wxJiL42SLoCKxQ1ZWqmgEMB7rl26cb8LE604CqIlLHj2CWDx3Bldefz1mrEtCXX4Zp0ywJGGMM/iaCesDaPI+TvecOdx9EpLeIzBKRWVu2bDmiYPTY5iQ1O5GMOXOQBx+EklE3PGKMMQXy82woBTynR7APqjoYGAzQoUOHv20PRfPT2sL834/kpcYYU6z52SJIBhrkeVwfWH8E+xhjjPGRn4lgJtBMROJEpDTQAxibb5+xwPXe7KHOwE5V3eBjTMYYY/LxrWtIVbNEpA8wEYgBhqjqQhG5w9s+CBgPXAisAPYCN/kVjzHGmIL5OmKqquNxJ/u8zw3Kc1+BO/2MwRhjzMFFba0hY4wxjiUCY4yJcpYIjDEmylkiMMaYKCduvDZyiMgWYPURvrwGsLUQw4kEdszRwY45OhzNMTdS1ZoFbYi4RHA0RGSWqnYIOo5wsmOODnbM0cGvY7auIWOMiXKWCIwxJspFWyIYHHQAAbBjjg52zNHBl2OOqjECY4wxfxdtLQJjjDH5WCIwxpgoVywTgYicLyJLRWSFiDxcwHYRkQHe9nki0i6IOAtTCMd8rXes80Rkqoi0DiLOwnSoY86z30kiki0iV4UzPj+Ecswi0kVEEkVkoYhMDneMhS2Ev+0qIjJOROZ6xxzRVYxFZIiIbBaRBQfYXvjnL1UtVjdcyes/gCZAaWAuEJ9vnwuB73ArpHUGpgcddxiO+RSgmnf/gmg45jz7/YSrgntV0HGH4fdcFVgENPQe1wo67jAc86PAy979mkAKUDro2I/imM8A2gELDrC90M9fxbFF0BFYoaorVTUDGA50y7dPN+BjdaYBVUWkTrgDLUSHPGZVnaqq272H03CrwUWyUH7PAH2BUcDmcAbnk1COuRcwWlXXAKhqpB93KMesQCUREaAiLhFkhTfMwqOqv+CO4UAK/fxVHBNBPWBtnsfJ3nOHu08kOdzjuQX3jSKSHfKYRaQecDkwiOIhlN9zc6CaiPwsIrNF5PqwReePUI55IHA8bpnb+cBdqpoTnvACUejnL18XpgmIFPBc/jmyoewTSUI+HhE5C5cITvM1Iv+Fcsz9gYdUNdt9WYx4oRxzSaA9cDZQDvhdRKap6jK/g/NJKMd8HpAIdAWaAt+LyK+qusvn2IJS6Oev4pgIkoEGeR7Xx31TONx9IklIxyMirYD3gQtUdVuYYvNLKMfcARjuJYEawIUikqWqX4clwsIX6t/2VlXdA+wRkV+A1kCkJoJQjvkm4CV1HegrRCQJaAHMCE+IYVfo56/i2DU0E2gmInEiUhroAYzNt89Y4Hpv9L0zsFNVN4Q70EJ0yGMWkYbAaOCfEfztMK9DHrOqxqlqY1VtDHwJ/DuCkwCE9rc9BjhdREqKSHmgE7A4zHEWplCOeQ2uBYSI1AaOA1aGNcrwKvTzV7FrEahqloj0ASbiZhwMUdWFInKHt30QbgbJhcAKYC/uG0XECvGYnwSqA+9435CzNIIrN4Z4zMVKKMesqotFZAIwD8gB3lfVAqchRoIQf8/PAUNFZD6u2+QhVY3Y8tQiMgzoAtQQkWTgKaAU+Hf+shITxhgT5Ypj15AxxpjDYInAGGOinCUCY4yJcpYIjDEmylkiMMaYKGeJwBRZXsXQxDy3xgfZNzWMoR2QiNQVkS+9+21E5MI82y49WJVUH2JpLCK9wvV5JnLZ9FFTZIlIqqpWLOx9w0VEbgQ6qGofHz+jpKoWWGBNRLoA96vqxX59vikerEVgIoaIVBSRH0VkjojMF5G/VRsVkToi8ovXglggIqd7z58rIr97rx0pIn9LGl6htv7i1mtYICIdvedjReRrr/b7NK9UByJyZp7WSoKIVPK+hS/wroJ9FrjG236NiNwoIgPF1c9fJSIlvPcpLyJrRaSUiDQVkQlewbhfRaRFAXE+LSKDReR/wMfeZ/7qHdscETnF2/Ul3FXGiSJyj4jEiMirIjLTO5bbC+lXYyJd0LW37Wa3A92AbFwxsUTgK9yV8JW9bTVwV1bmtmpTvX/vAx7z7scAlbx9fwEqeM8/BDxZwOf9DLzn3T8Drx488BbwlHe/K5Do3R8HnOrdr+jF1zjP624EBuZ5//2PcaUgzvLuX4O7AhjgR6CZd78T8FMBcT4NzAbKeY/LA2W9+82AWd79LsA3eV7XG3jcu18GmAXEBf17tlvwt2JXYsIUK/tUtU3uAxEpBbwgImfgyifUA2oDG/O8ZiYwxNv3a1VNFJEzgXhgildeozTw+wE+cxi4mvAiUllEquIqtV7pPf+TiFQXkSrAFOANEfkMtwZAsoRe5XQELgFMwtXPecdrpZwCjMzzPmUO8PqxqrrPu18KGCgibXDJs/kBXnMu0Er+XKmtCi5xJIUatCmeLBGYSHItbgWq9qqaKSKrgLJ5d/BO4GcAFwGfiMirwHbge1XtGcJn5B80Uw5Q9ldVXxKRb3F1X6aJyDlAWojHMhZ4UURicWWjfwIqADvyJr+D2JPn/j3AJlyV0RIHiUGAvqo6McQYTZSwMQITSaoAm70kcBbQKP8OItLI2+c94APckn/TgFNF5Fhvn/IicqBvzdd4+5yGq+q4E9etdK33fBdcmeddItJUVeer6su4bpb8/fm7cV1Tf6OqqbgyyW/ium+y1dXPTxKR7t5niYS2tnQVYIO6xVj+iesSK+jzJwL/8lpLiEhzEakQwvubYs5aBCaSfAaME5FZuHGDJQXs0wV4QEQygVTgelXd4s3gGSYiuV0tj1Nwjf7tIjIVqAzc7D33NPChiMzDVXu8wXv+bi8hZePWCf4OyLtk4CTgYRFJBF4s4LNGACO9mHNdC7wrIo/junyG49bpPZh3gFFeApnEn62FeUCWiMwFhuKSTmNgjri+py3AZYd4bxMFbPqoMR4R+Rk33XJW0LEYE07WNWSMMVHOWgTGGBPlrEVgjDFRzhKBMcZEOUsExhgT5SwRGGNMlLNEYIwxUe7/AQpg7hbikA2qAAAAAElFTkSuQmCC\n",
      "text/plain": [
       "<Figure size 432x288 with 1 Axes>"
      ]
     },
     "metadata": {
      "needs_background": "light"
     },
     "output_type": "display_data"
    },
    {
     "data": {
      "image/png": "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\n",
      "text/plain": [
       "<Figure size 432x288 with 2 Axes>"
      ]
     },
     "metadata": {
      "needs_background": "light"
     },
     "output_type": "display_data"
    },
    {
     "data": {
      "image/png": "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\n",
      "text/plain": [
       "<Figure size 432x288 with 1 Axes>"
      ]
     },
     "metadata": {
      "needs_background": "light"
     },
     "output_type": "display_data"
    },
    {
     "data": {
      "text/html": [
       "<div>\n",
       "<style scoped>\n",
       "    .dataframe tbody tr th:only-of-type {\n",
       "        vertical-align: middle;\n",
       "    }\n",
       "\n",
       "    .dataframe tbody tr th {\n",
       "        vertical-align: top;\n",
       "    }\n",
       "\n",
       "    .dataframe thead th {\n",
       "        text-align: right;\n",
       "    }\n",
       "</style>\n",
       "<table border=\"1\" class=\"dataframe\">\n",
       "  <thead>\n",
       "    <tr style=\"text-align: right;\">\n",
       "      <th></th>\n",
       "      <th>Accuracy</th>\n",
       "      <th>Precision</th>\n",
       "      <th>Recall</th>\n",
       "      <th>F1</th>\n",
       "    </tr>\n",
       "  </thead>\n",
       "  <tbody>\n",
       "    <tr>\n",
       "      <th>LogisticRegression</th>\n",
       "      <td>0.73</td>\n",
       "      <td>0.74</td>\n",
       "      <td>0.72</td>\n",
       "      <td>0.73</td>\n",
       "    </tr>\n",
       "    <tr>\n",
       "      <th>RandomForestClassifier</th>\n",
       "      <td>0.72</td>\n",
       "      <td>0.71</td>\n",
       "      <td>0.75</td>\n",
       "      <td>0.73</td>\n",
       "    </tr>\n",
       "    <tr>\n",
       "      <th>SVC</th>\n",
       "      <td>0.73</td>\n",
       "      <td>0.72</td>\n",
       "      <td>0.77</td>\n",
       "      <td>0.74</td>\n",
       "    </tr>\n",
       "    <tr>\n",
       "      <th>DecisionTreeClassifier</th>\n",
       "      <td>0.65</td>\n",
       "      <td>0.66</td>\n",
       "      <td>0.64</td>\n",
       "      <td>0.65</td>\n",
       "    </tr>\n",
       "    <tr>\n",
       "      <th>KNeighborsClassifier</th>\n",
       "      <td>0.68</td>\n",
       "      <td>0.69</td>\n",
       "      <td>0.69</td>\n",
       "      <td>0.69</td>\n",
       "    </tr>\n",
       "    <tr>\n",
       "      <th>MLPClassifier</th>\n",
       "      <td>0.71</td>\n",
       "      <td>0.72</td>\n",
       "      <td>0.69</td>\n",
       "      <td>0.7</td>\n",
       "    </tr>\n",
       "    <tr>\n",
       "      <th>GaussianNB</th>\n",
       "      <td>0.7</td>\n",
       "      <td>0.69</td>\n",
       "      <td>0.76</td>\n",
       "      <td>0.72</td>\n",
       "    </tr>\n",
       "    <tr>\n",
       "      <th>VotingClassifier</th>\n",
       "      <td>0.73</td>\n",
       "      <td>0.72</td>\n",
       "      <td>0.75</td>\n",
       "      <td>0.74</td>\n",
       "    </tr>\n",
       "  </tbody>\n",
       "</table>\n",
       "</div>"
      ],
      "text/plain": [
       "                       Accuracy Precision Recall    F1\n",
       "LogisticRegression         0.73      0.74   0.72  0.73\n",
       "RandomForestClassifier     0.72      0.71   0.75  0.73\n",
       "SVC                        0.73      0.72   0.77  0.74\n",
       "DecisionTreeClassifier     0.65      0.66   0.64  0.65\n",
       "KNeighborsClassifier       0.68      0.69   0.69  0.69\n",
       "MLPClassifier              0.71      0.72   0.69   0.7\n",
       "GaussianNB                  0.7      0.69   0.76  0.72\n",
       "VotingClassifier           0.73      0.72   0.75  0.74"
      ]
     },
     "execution_count": 358,
     "metadata": {},
     "output_type": "execute_result"
    }
   ],
>>>>>>> cfbc834a834d78b364d3db039db1ed7599a3a81b
   "source": [
    "from sklearn.ensemble import RandomForestClassifier, VotingClassifier\n",
    "from sklearn.linear_model import LogisticRegression\n",
    "from sklearn.svm import SVC \n",
    "from sklearn.metrics import ConfusionMatrixDisplay\n",
    "from sklearn.neighbors import KNeighborsClassifier\n",
    "from sklearn.tree import DecisionTreeClassifier\n",
    "from sklearn.neural_network import MLPClassifier\n",
    "from sklearn.naive_bayes import GaussianNB\n",
    "from sklearn.metrics import roc_curve\n",
    "from sklearn.metrics import confusion_matrix,roc_auc_score, roc_curve\n",
    "#Não usar bernoulli porque faz mais sentido para variaveis binarias\n",
    "#from sklearn.naive_bayes import BernoulliNB\n",
    "\n",
    "import seaborn as sns \n",
    "\n",
    "\n",
    "rnd_clf=RandomForestClassifier(n_estimators=100)\n",
    "log_clf=LogisticRegression()\n",
    "svm_clf=SVC()\n",
    "dtc_clf=DecisionTreeClassifier()\n",
    "knn_clf=KNeighborsClassifier()\n",
    "mpl_clf=MLPClassifier()\n",
    "gnb_clf=GaussianNB()\n",
    "#Adicionar o resto dos modelos superviselearning menos o xgboost\n",
    "#bnb_clf=BernoulliNB()\n",
    "\n",
    "\n",
    "voting_clf=VotingClassifier(\n",
    "    estimators=[('lr',log_clf),('rf',rnd_clf),('svm',svm_clf)\n",
    "                ,('dtc',dtc_clf),('knn',knn_clf),('mpl',mpl_clf),('gnb',gnb_clf)],\n",
    "    voting='hard'\n",
    ")\n",
    " \n",
    "dataMetrics = pd.DataFrame(columns=['Accuracy','Precision','Recall','F1'])\n",
    "for i, clf in enumerate([log_clf,rnd_clf,svm_clf,dtc_clf,knn_clf,mpl_clf,gnb_clf,voting_clf], start=1):\n",
    "    clf.fit(X_train_transf,y_train)\n",
    "    y_pred=clf.predict(X_test_transf)   \n",
    "    #DataFrame\n",
    "    dataMetrics.loc[clf.__class__.__name__, ['Accuracy']] = metrics.accuracy_score(y_test, y_pred).round(2)\n",
    "    dataMetrics.loc[clf.__class__.__name__, ['Precision']] = metrics.precision_score(y_test, y_pred).round(2)\n",
    "    dataMetrics.loc[clf.__class__.__name__, ['Recall']] = metrics.recall_score(y_test, y_pred).round(2)\n",
    "    dataMetrics.loc[clf.__class__.__name__, ['F1']] = metrics.f1_score(y_test, y_pred).round(2)\n",
    "    #Confusion matrix\n",
    "    cf_matrix = confusion_matrix(y_test, y_pred)\n",
    "    if i % 2 == 0:\n",
    "        sns.heatmap(cf_matrix, annot=True, fmt='g');\n",
    "    else:\n",
    "        sns.heatmap(cf_matrix, annot=True, fmt='g', cmap='Blues');\n",
    "    plt.show()\n",
    "    #Generate the ROC AUC Curve\n",
    "    roc_auc = roc_auc_score(y_test, y_pred)\n",
    "    #ROC AUC Curve\n",
    "    fpr, tpr, thresholds = roc_curve(y_test,y_pred)\n",
    "    plot_roc_curve(fpr,tpr)\n",
    "    plt.show()\n",
    "    \n",
    "dataMetrics\n",
    "    \n",
    "#experimentar pesos, fazer grid search\n",
    "\n",
    "#APLICAR TRAIN TEST UMAS 30 VEZES "
   ]
  },
  {
   "cell_type": "code",
   "execution_count": null,
   "metadata": {},
   "outputs": [],
   "source": [
    "#Adicionar script dos classificador com hiperparametros"
   ]
  },
  {
   "cell_type": "markdown",
   "metadata": {},
   "source": [
    "# Feature selection/Unsupervise Learning"
   ]
  },
  {
   "cell_type": "markdown",
   "metadata": {},
   "source": [
    "## PCA"
   ]
  },
  {
   "cell_type": "code",
   "execution_count": null,
   "metadata": {},
   "outputs": [],
   "source": [
    "#Apply PCA to the training data to reduce the dimensionality\n",
    "#ALWAYS STANDARDIZE\n",
    "#VER SE VALE A PENA FAZER UNS GRAFICOS\n",
    "#POR EXEMPLO\n",
    "from sklearn.decomposition import PCA\n",
    "import matplotlib.pyplot as plt\n",
    "\n",
    "pca = PCA(n_components=0.9999)\n",
    "\n",
    "X_pca=pca.fit(X_train_transf[v_skew+v_sym])\n",
    "# Determine explained variance using explained_variance_ration_ attribute\n",
    "#\n",
    "exp_var_pca = pca.explained_variance_ratio_\n",
    "#\n",
    "# Cumulative sum of eigenvalues; This will be used to create step plot\n",
    "# for visualizing the variance explained by each principal component.\n",
    "#\n",
    "cum_sum_eigenvalues = np.cumsum(exp_var_pca)\n",
    "\n",
    "# Create the visualization plot\n",
    "#\n",
    "plt.bar(range(0,len(exp_var_pca)), exp_var_pca, alpha=0.5, align='center', label='Individual explained variance')\n",
    "plt.step(range(0,len(cum_sum_eigenvalues)), cum_sum_eigenvalues, where='mid',label='Cumulative explained variance')\n",
    "plt.ylabel('Explained variance ratio')\n",
    "plt.xlabel('Principal component index')\n",
    "plt.legend(loc='best')\n",
    "plt.tight_layout()\n",
    "plt.show()"
   ]
  },
  {
   "cell_type": "code",
   "execution_count": null,
<<<<<<< HEAD
   "metadata": {},
   "outputs": [],
   "source": [
    "from sklearn.linear_model import LogisticRegression\n",
    "from sklearn.model_selection import cross_val_score\n",
    "from sklearn.metrics import f1_score\n",
    "\n",
    "# Use cross-validation to evaluate logistic regression with different numbers of principal components\n",
    "pca = PCA()\n",
    "logreg = LogisticRegression()\n",
    "\n",
    "n_components = range(1, X_train_transf[v_skew+v_sym].shape[1]+1)\n",
    "scores = []\n",
    "display(X_train_transf[v_skew+v_sym].shape[1])\n",
    "\n",
    "for n in n_components:\n",
    "    pca.n_components = n\n",
    "    X_train_pca = pca.fit_transform(X_train_transf[v_skew+v_sym])\n",
    "    score = np.mean(cross_val_score(logreg, X_train_pca, y_train, cv=5, scoring='f1'))\n",
    "    scores.append(score)\n",
    "\n",
    "# Select the number of components that gives the highest cross-validation score\n",
    "optimal_n_components = n_components[np.argmax(scores)]\n",
    "display(scores)\n",
    "#display(n_components)\n",
    "\n",
    "# Train logistic regression model on full training set with optimal number of components\n",
    "pca.n_components = optimal_n_components\n",
    "display(optimal_n_components)"
   ]
  },
  {
   "cell_type": "code",
   "execution_count": null,
=======
>>>>>>> cfbc834a834d78b364d3db039db1ed7599a3a81b
   "metadata": {},
   "outputs": [],
   "source": [
    "pca = PCA(n_components=optimal_n_components)\n",
    "\n",
    "X_pca=pca.fit(X_train_transf[v_skew+v_sym])\n",
    "\n",
    "X_train_num_pca=pd.DataFrame(pca.transform(X_train_transf[v_skew+v_sym]),\n",
    "                         columns=['pca_v'+str(i+1) for i in range (0,X_pca.n_components_)],\n",
    "                        index=X_train_transf.index)\n",
    "\n",
    "X_test_num_pca=pd.DataFrame(pca.transform(X_test_transf[v_skew+v_sym]),\n",
    "                         columns=['pca_v'+str(i+1) for i in range (0,X_pca.n_components_)],\n",
    "                        index=X_test_transf.index)"
   ]
  },
  {
   "cell_type": "code",
   "execution_count": null,
   "metadata": {},
   "outputs": [],
   "source": [
    "import seaborn as sns\n",
    "\n",
    "df_pca=pd.concat([X_train_num_pca,pd.DataFrame(y_train)],axis=1)\n",
    "#display(df_pca.head(5))\n",
    "\n",
    "sns.scatterplot(x='pca_v1', y='pca_v2', hue='Default', data=df_pca);\n",
    "\n"
   ]
  },
  {
   "cell_type": "code",
   "execution_count": null,
   "metadata": {},
   "outputs": [],
   "source": [
    "corr = df_pca.corr()\n",
    "display(round(corr.iloc[[-1],:],2))\n",
    "\n",
    "# Plot the heatmap\n",
    "sns.heatmap(corr, xticklabels=corr.columns, yticklabels=corr.columns,cmap=\"BuPu\");"
   ]
  },
  {
   "cell_type": "code",
   "execution_count": null,
   "metadata": {},
   "outputs": [],
   "source": [
    "#criar X com PCA\n",
    "X_train_pca=pd.concat(\n",
    "    [X_train_num_pca,\n",
    "        X_train_transf[X_train_transf.columns[-(len(X_train_transf.columns)-len(v_skew+v_sym)):]]],\n",
    "     axis=1)\n",
    "\n",
    "X_test_pca=pd.concat(\n",
    "    [X_test_num_pca,\n",
    "        X_test_transf[X_test_transf.columns[-(len(X_test_transf.columns)-len(v_skew+v_sym)):]]],\n",
    "     axis=1)"
   ]
  },
  {
   "cell_type": "markdown",
   "metadata": {},
   "source": [
    "## Kmeans, LogisticRegression"
   ]
  },
  {
   "cell_type": "code",
   "execution_count": null,
   "metadata": {},
   "outputs": [],
   "source": [
    "sse=[]\n",
    "silhscores = []\n",
    "from sklearn.cluster import KMeans\n",
    "from sklearn.metrics import silhouette_score\n",
    "k_rng=range(1,15)\n",
    "for k in k_rng:\n",
    "    km=KMeans(n_clusters=k,n_init=10)\n",
    "    km.fit(X_train_transf)\n",
    "    sse.append(km.inertia_)\n",
    "    if k>1:\n",
    "        km_pred=km.predict(X_train_transf)\n",
    "        silhscore = silhouette_score(X_train_transf, km_pred)\n",
    "        silhscores.append(silhscore)\n",
    "display(silhscores)    \n",
    "sse\n",
    "\n",
    "#--Lento"
   ]
  },
  {
   "cell_type": "code",
   "execution_count": null,
   "metadata": {},
   "outputs": [],
   "source": [
    "plt.xlabel('K')\n",
    "plt.ylabel('Sum of squared error')\n",
    "plt.xticks(k_rng)\n",
    "plt.plot(k_rng,sse, '-o');"
   ]
  },
  {
   "cell_type": "code",
   "execution_count": null,
   "metadata": {},
   "outputs": [],
   "source": [
    "# Plot the silhouette scores\n",
    "plt.plot(range(2, 15), silhscores, '-o')\n",
    "plt.xticks(range(2, 15))\n",
    "plt.xlabel('Number of clusters (k)')\n",
    "plt.ylabel('Silhouette score')\n",
    "plt.show()"
   ]
  },
  {
   "cell_type": "code",
   "execution_count": null,
   "metadata": {},
   "outputs": [],
   "source": [
    "#clusters identified by silhouette\n",
    "k_silh=range(2,15)[np.array(silhscores).argmax()]\n",
    "display('The silhouette score has chosen '+str(k_silh)+' clusters.')\n",
    "km=KMeans(n_clusters=k_silh,n_init=10)\n",
    "km_fit=km.fit(X_train_transf)"
   ]
  },
  {
   "cell_type": "code",
   "execution_count": null,
   "metadata": {},
   "outputs": [],
   "source": [
    "#Centros dos clusters\n",
    "cluster=km_fit.predict(X_train_transf)\n",
    "unique, counts = np.unique(cluster, return_counts=True)\n",
    "display(pd.DataFrame(np.asarray((unique, counts)).T,columns=['cluster','no of obs']))\n",
    "\n",
    "#km_fit.cluster_centers_"
   ]
  },
  {
   "cell_type": "code",
   "execution_count": null,
   "metadata": {},
   "outputs": [],
   "source": [
    "#create dataframe\n",
    "ohe=OneHotEncoder(sparse=False)\n",
    "display(pd.concat([X_train_transf,pd.DataFrame(ohe.fit_transform(km_fit.labels_.reshape(-1, 1)),\n",
    "columns=['cluster'+str(i) for i in range(0,km_fit.labels_.max()+1)],\n",
    "                    index=X_train_transf.index)],axis=1))\n"
   ]
  },
  {
   "cell_type": "code",
   "execution_count": null,
   "metadata": {},
   "outputs": [],
   "source": [
<<<<<<< HEAD
    "from sklearn.model_selection import cross_validate\n",
=======
    "from sklearn.pipeline import Pipeline\n",
    "from sklearn.cluster import KMeans\n",
    "from sklearn.preprocessing import OneHotEncoder\n",
    "from sklearn.linear_model import LogisticRegression\n",
    "from sklearn.model_selection import GridSearchCV\n",
    "from sklearn.metrics import f1_score\n",
    "\n",
    "# Create a pipeline with KMeans and OneHotEncoder\n",
    "pipeline = Pipeline([\n",
    "    ('kmeans', KMeans(n_init=10,n_clusters=3)),  # leave the number of clusters unspecified\n",
    "    ('onehot', OneHotEncoder(sparse_output=False)),\n",
    "    ('lr', LogisticRegression())\n",
    "])\n",
    "\n",
    "\n",
    "kp=pipeline.fit(X_train_transf, y_train)"
   ]
  },
  {
   "cell_type": "code",
   "execution_count": null,
   "metadata": {},
   "outputs": [],
   "source": [
    "#kp.named_steps[\"onehot\"] \n",
    "kp[:-2].fit_transform(X_train_transf)"
   ]
  },
  {
   "cell_type": "code",
   "execution_count": null,
   "metadata": {},
   "outputs": [],
   "source": [
    "# Create a grid search with cross-validation to find the best number of clusters\n",
    "param_grid = {'kmeans__n_clusters': range(2, 15)}  # specify the range of cluster numbers to try\n",
    "grid_search = GridSearchCV(pipeline, param_grid, cv=5, scoring='f1')\n",
    "grid_search.fit(X_train_transf, y_train)\n",
>>>>>>> cfbc834a834d78b364d3db039db1ed7599a3a81b
    "\n",
    "C=[0.001, 0.01, 0.1, 1, 10, 100]\n",
    "scor=[]\n",
    "for k in range(2,15):\n",
    "    km=KMeans(n_clusters=k,n_init=10)\n",
    "    km_fit=km.fit(X_train_transf)\n",
    "    ohe=OneHotEncoder(sparse=False)\n",
    "    X_cluster=pd.concat([X_train_transf,pd.DataFrame(ohe.fit_transform(km_fit.labels_.reshape(-1, 1)),\n",
    "    columns=['cluster'+str(i) for i in range(0,km_fit.labels_.max()+1)],\n",
    "                    index=X_train_transf.index)],axis=1)\n",
    "    for i in C:\n",
    "        logistic_regression = LogisticRegression(C=i)\n",
    "        scor.append([k,i,cross_validate(logistic_regression, X_cluster, y_train, \n",
    "                           cv=5,scoring=['f1','recall'])['test_f1'].mean()])"
   ]
  },
  {
   "cell_type": "code",
   "execution_count": null,
   "metadata": {},
   "outputs": [],
   "source": [
    "np.array(scor)[np.array(scor)[:,2].argmax(),:]\n",
    "\n",
    "k_cv=np.array(scor)[np.array(scor)[:,2].argmax(),0].astype(int)\n",
    "C_cv=np.array(scor)[np.array(scor)[:,2].argmax(),1]\n",
    "\n",
    "km=KMeans(n_clusters=k_cv,n_init=10)\n",
    "km_fit=km.fit(X_train_transf)\n",
    "ohe=OneHotEncoder(sparse=False)\n",
    "X_cluster=pd.concat([X_train_transf,pd.DataFrame(ohe.fit_transform(km_fit.labels_.reshape(-1, 1)),\n",
    "columns=['cluster'+str(i) for i in range(0,km_fit.labels_.max()+1)],\n",
    "                    index=X_train_transf.index)],axis=1)\n",
    "display(X_cluster.head(5))\n",
    "\n",
    "cluster=km_fit.predict(X_train_transf)\n",
    "#cluster=km_fit.predict(X_train_transf)\n",
    "unique, counts = np.unique(cluster, return_counts=True)\n",
    "display(pd.DataFrame(np.asarray((unique, counts)).T,columns=['cluster','no of obs']))"
   ]
  },
  {
   "cell_type": "code",
   "execution_count": null,
   "metadata": {},
   "outputs": [],
   "source": []
  },
  {
   "cell_type": "markdown",
   "metadata": {},
   "source": [
    "# Models"
   ]
  },
  {
   "cell_type": "markdown",
   "metadata": {},
   "source": [
    "## Logistic Regression"
   ]
  },
  {
   "cell_type": "code",
   "execution_count": null,
   "metadata": {},
   "outputs": [],
   "source": [
    "from sklearn.linear_model import LogisticRegression\n",
    "from sklearn.model_selection import GridSearchCV\n",
    "\n",
    "# Define the logistic regression model\n",
    "model = LogisticRegression()\n",
    "# Define the parameter grid\n",
    "param_grid = {'C': [0.001, 0.01, 0.1, 1, 10, 100]}\n",
    "\n",
    "# Create the GridSearchCV object\n",
    "grid_search = GridSearchCV(model, param_grid, cv=5, scoring='f1')\n",
    "\n",
    "# Fit the model to the data\n",
    "grid_search.fit(X_train_transf, y_train)\n",
    "\n",
    "# Print the best parameters and the best score\n",
    "print(f\"Best parameters: {grid_search.best_params_}\")\n",
    "print(f\"Best score: {grid_search.best_score_:.2f}\")\n",
    "\n",
    "# Make predictions on new data\n",
    "y_pred = grid_search.predict(X_test_transf)"
   ]
  },
  {
   "cell_type": "markdown",
   "metadata": {},
   "source": [
    "## SVM"
   ]
  },
  {
   "cell_type": "code",
   "execution_count": null,
   "metadata": {},
   "outputs": [],
   "source": [
    "from sklearn.svm import LinearSVC\n",
    "from sklearn.model_selection import GridSearchCV\n",
    "\n",
    "# Define the logistic regression model\n",
    "model = LinearSVC(loss='hinge',max_iter=10000)\n",
    "# Define the parameter grid\n",
    "param_grid = {'C': [0.001, 0.01, 0.1, 1, 10, 100]}\n",
    "\n",
    "# Create the GridSearchCV object\n",
    "grid_search = GridSearchCV(model, param_grid, cv=5, scoring='f1')\n",
    "\n",
    "# Fit the model to the data\n",
    "grid_search.fit(X_train_transf, y_train)\n",
    "\n",
    "# Print the best parameters and the best score\n",
    "print(f\"Best parameters: {grid_search.best_params_}\")\n",
    "print(f\"Best score: {grid_search.best_score_:.2f}\")\n",
    "\n",
    "# Make predictions on new data\n",
    "y_pred = grid_search.predict(X_test_transf)"
   ]
  },
  {
   "cell_type": "markdown",
   "metadata": {},
   "source": [
    "## Decision Tree"
   ]
  },
  {
   "cell_type": "code",
   "execution_count": null,
   "metadata": {},
   "outputs": [],
   "source": [
    "from sklearn.tree import DecisionTreeClassifier\n",
    "from sklearn.model_selection import GridSearchCV\n",
    "# Create the parameter grid\n",
    "param_grid = {\n",
    "    'max_depth': [2,3 ,5, 10, 15, 20],\n",
    "    'min_samples_leaf': [2, 4, 6, 8],\n",
    "    'min_samples_split': [2, 4, 6, 8],\n",
    "    'criterion': ['gini', 'entropy']\n",
    "}\n",
    "\n",
    "tree_clf=DecisionTreeClassifier()\n",
    "\n",
    "# Create the grid search object\n",
    "grid_search = GridSearchCV(estimator=tree_clf, param_grid=param_grid, cv=5,scoring='f1')\n",
    "\n",
    "# Fit the grid search to the training data\n",
    "tree_clf_cv=grid_search.fit(X_train_transf, y_train)"
   ]
  },
  {
   "cell_type": "code",
   "execution_count": null,
   "metadata": {},
   "outputs": [],
   "source": [
    "# Print the best parameters\n",
    "display(tree_clf_cv.best_score_)\n",
    "print(tree_clf_cv.best_params_)\n",
    "best_tree_params=tree_clf_cv.best_params_\n",
    "best_tree=DecisionTreeClassifier(**best_tree_params)\n",
    "best_tree"
   ]
  },
  {
   "cell_type": "code",
   "execution_count": null,
   "metadata": {},
   "outputs": [],
   "source": [
    "from sklearn.tree import plot_tree\n",
    "plot_tree(best_tree.fit(X_train_transf, y_train));"
   ]
  },
  {
   "cell_type": "code",
   "execution_count": null,
   "metadata": {},
   "outputs": [],
   "source": [
    "import graphviz\n",
    "from sklearn.tree import export_graphviz\n",
    "\n",
    "dot_data=export_graphviz(best_tree,feature_names=X_train_transf.columns,\n",
    "                         class_names=['no default','default'],\n",
    "                         filled=True)\n",
    "\n",
    "graph=graphviz.Source(dot_data)\n",
    "graph"
   ]
  },
  {
   "cell_type": "markdown",
   "metadata": {},
   "source": [
    "## Naive Bayes"
   ]
  },
  {
   "cell_type": "code",
   "execution_count": null,
   "metadata": {},
   "outputs": [],
   "source": [
    "#não precisamos de adicionar hiperparametro devido ao facto de já termos a variancia normalizada das features\n",
    "#no limite, hiperparametros só no pré processamento, ajustadando no no de bins \n",
    "from sklearn.preprocessing import KBinsDiscretizer\n",
    "est=KBinsDiscretizer(n_bins=5,encode='ordinal',strategy='quantile')\n",
    "est.fit(X_train_tranf)\n",
    "Xt_train=est.transform(X_train_transf)\n",
    "Xt_test=est.transform(X_test)\n",
    "\n",
    "from sklearn.naive_bayes import MultinomialNB\n",
    "mnNB=MultinomialNB()\n",
    "mnNB.fit(Xt_train,y_train)\n",
    "y_pred=mnNB.predict(Xt_test)"
   ]
  },
  {
   "cell_type": "code",
   "execution_count": null,
   "metadata": {},
   "outputs": [],
   "source": [
    "from sklearn.pipeline import Pipeline\n",
    "from sklearn.preprocessing import KBinsDiscretizer\n",
    "from sklearn.naive_bayes import MultinomialNB\n",
    "from sklearn.model_selection import GridSearchCV\n",
    "\n",
    "# Create the pipeline\n",
    "pipeline = Pipeline([\n",
    "    ('discretizer', KBinsDiscretizer(encode='ordinal',strategy='quantile')),\n",
    "    ('classifier', MultinomialNB())\n",
    "])\n",
    "\n",
    "# Create the parameter grid\n",
    "param_grid = {\n",
    "    'discretizer__n_bins': [3, 5, 7, 9]\n",
    "}\n",
    "\n",
    "# Create the grid search object\n",
    "grid_search = GridSearchCV(estimator=pipeline, param_grid=param_grid, cv=5, scoring='f1', n_jobs=-1, verbose=1)\n",
    "\n",
    "# Fit the grid search to the training data\n",
    "grid_search.fit(X_train_transf, y_train)\n",
    "\n",
    "# Print the best parameters\n",
    "print(grid_search.best_params_)\n",
    "\n",
    "# Get the best model\n",
    "best_model = grid_search.best_estimator_\n",
    "\n",
    "display(grid_search.best_estimator_)\n",
    "\n",
    "# Evaluate the best model on the test data\n",
    "accuracy = best_model.score(X_test_transf, y_test)\n",
    "print('Test accuracy:', accuracy)\n"
   ]
  },
  {
   "cell_type": "code",
   "execution_count": null,
   "metadata": {},
   "outputs": [],
   "source": [
    "from sklearn.naive_bayes import GaussianNB\n",
    "gNB=MultinomialNB()\n",
    "gNB.fit(X_train_transf,y_train)\n",
    "y_pred=gNB.predict(X_test)"
   ]
  },
  {
   "cell_type": "markdown",
   "metadata": {},
   "source": [
    "## Random Forest"
   ]
  },
  {
   "cell_type": "code",
   "execution_count": null,
   "metadata": {},
   "outputs": [],
   "source": [
    "from sklearn.ensemble import RandomForestClassifier\n",
    "#rf_clf=RandomForestClassifier()\n",
    "#rf_clf.fit(X_train_transf,y_train)\n",
    "#y_pred=rf_Model.predict(X_test_transf)\n",
    "\n",
    "param_grid={'n_estimators':[int(x) for x in np.linspace(10,100,4)],\n",
    "            'max_features':['auto','sqrt'],\n",
    "            'max_depth': [2, 3 ,5, 10],\n",
    "            'min_samples_leaf': [4, 6, 8],\n",
    "            'min_samples_split': [6, 8],\n",
    "            'bootstrap':[True,False]\n",
    "}\n",
    "\n",
    "rf_clf=RandomForestClassifier()\n",
    "\n",
    "# Create the grid search object\n",
    "rf_clf_gs = GridSearchCV(estimator=rf_clf, param_grid=param_grid, cv=5,scoring='f1',n_jobs=-1)\n",
    "\n",
    "# Fit the grid search to the training data\n",
    "rf_clf_cv=rf_clf_gs.fit(X_train_transf, y_train)"
   ]
  },
  {
   "cell_type": "code",
   "execution_count": null,
   "metadata": {},
   "outputs": [],
   "source": [
    "# Print the best parameters\n",
    "display(rf_clf_cv.best_score_)\n",
    "best_rf_params=rf_clf_cv.best_params_\n",
    "display(best_rf_params)\n",
    "best_rf=RandomForestClassifier(**best_rf_params)\n",
    "best_rf"
   ]
  },
  {
   "cell_type": "code",
   "execution_count": null,
   "metadata": {},
   "outputs": [],
   "source": [
    "from sklearn.model_selection import GridSearchCV\n",
    "rf_Grid=GridSearchCV(rf_Model,param_grid,cv=5)\n",
    "rf_Grid.fit(X_train_transf,y_train)"
   ]
  },
  {
   "cell_type": "code",
   "execution_count": null,
   "metadata": {},
   "outputs": [],
   "source": [
    "\n",
    "y_pred=rf_Grid.predict(X_test)\n",
    "rf_Grid.best_score_"
   ]
  },
  {
   "cell_type": "markdown",
   "metadata": {},
   "source": [
    "## Kneighbors"
   ]
  },
  {
   "cell_type": "code",
   "execution_count": null,
   "metadata": {},
   "outputs": [],
   "source": [
    "from sklearn.neighbors import KNeighborsClassifier\n",
    "knn_clf = KNeighborsClassifier(n_neighbors=3)\n",
    "knn_clf.fit(X_train_transf, y_train)\n"
   ]
  },
  {
   "cell_type": "code",
   "execution_count": null,
   "metadata": {},
   "outputs": [],
   "source": [
    "from sklearn.neighbors import KNeighborsClassifier\n",
    "\n",
    "# Create the parameter grid\n",
    "knn_param_grid = {\n",
    "    'n_neighbors': [3, 5, 7, 9],\n",
    "    'weights': ['uniform', 'distance'],\n",
    "    'metric': ['euclidean', 'manhattan'],\n",
    "    'leaf_size': [10, 30, 50, 70]\n",
    "}\n",
    "\n",
    "# Create the k-NN classifier\n",
    "knn = KNeighborsClassifier()\n",
    "\n",
    "# Create the grid search object\n",
    "knn_gs = GridSearchCV(estimator=knn, param_grid=knn_param_grid, cv=5,scoring='f1',n_jobs=-1)\n",
    "\n",
    "\n",
    "# Fit the grid search to the training data\n",
    "knn_clf_cv=knn_gs.fit(X_train_transf, y_train)"
   ]
  },
  {
   "cell_type": "code",
   "execution_count": null,
   "metadata": {},
   "outputs": [],
   "source": [
    "# Print the best parameters\n",
    "display(knn_clf_cv.best_score_)\n",
    "best_knn_params=knn_clf_cv.best_params_\n",
    "display(best_knn_params)\n",
    "best_knn=KNeighborsClassifier(**best_knn_params)\n",
    "best_knn"
   ]
  },
  {
   "cell_type": "markdown",
   "metadata": {},
   "source": [
    "## Xgboost"
   ]
  },
  {
   "cell_type": "code",
   "execution_count": null,
   "metadata": {},
   "outputs": [],
   "source": [
    "import xgboost as xgb\n",
    "# Define the parameters for the XGBoost model\n",
    "xgbo_param_grid = {\n",
    "    'max_depth': [3, 5, 7],\n",
    "    'learning_rate': [0.1, 0.3, 0.5],\n",
    "    'n_estimators': [100, 300, 500],\n",
    "    'gamma': [0, 0.5, 1],\n",
    "    'subsample': [0.5, 0.8, 1.0],\n",
    "    'colsample_bytree': [0.5, 0.8, 1.0],\n",
    "    'reg_alpha': [0, 0.5, 1],\n",
    "    'reg_lambda': [0, 0.5, 1]\n",
    "}\n",
    "\n",
    "# Create the k-NN classifier\n",
    "xgbo = xgb.XGBClassifier()\n",
    "\n",
    "# Predict the labels for the test set\n",
    "y_pred = model.predict(X_test_transf)\n",
    "\n",
    "# Fit the grid search to the training data\n",
    "xgbo_clf_cv=xgbo_gs.fit(X_train_transf, y_train)"
   ]
  },
  {
   "cell_type": "code",
   "execution_count": null,
   "metadata": {},
   "outputs": [],
   "source": [
    "# Print the best parameters\n",
    "display(xgbo_clf_cv.best_score_)\n",
    "best_xgbo_params=xgbo_clf_cv.best_params_\n",
    "display(best_xgbo_params)\n",
    "best_xgbo=xgb.XGBClassifier(**best_xgbo_params)\n",
    "best_xgbo"
   ]
  },
  {
   "cell_type": "markdown",
   "metadata": {},
   "source": [
    "## Redes neuronais"
   ]
  },
  {
   "cell_type": "code",
   "execution_count": null,
   "metadata": {},
   "outputs": [],
   "source": [
    "from sklearn.neural_network import MLPClassifier\n",
    "from sklearn.model_selection import GridSearchCV\n",
    "\n",
    "\n",
    "mlp_param_grid = {'hidden_layer_sizes': [(6,),(8,),(5,),(10,), (20,), (30,), (40,)],\n",
    "              'solver': ['adam', 'sgd'],\n",
    "              'activation': ['relu', 'tanh','logistic']}\n",
    "\n",
    "mlp=MLPClassifier(max_iter=2000)\n",
    "\n",
    "# Create the grid search object\n",
    "mlp_gs = GridSearchCV(estimator=mlp, param_grid=mlp_param_grid, cv=5,scoring='f1',n_jobs=-1)\n",
    "\n",
    "# Fit the grid search to the training data\n",
    "mlp_clf_cv=mlp_gs.fit(X_train_transf, y_train)"
   ]
  },
  {
   "cell_type": "code",
   "execution_count": null,
   "metadata": {},
   "outputs": [],
   "source": [
    "# Print the best parameters\n",
    "display(mlp_clf_cv.best_score_)\n",
    "best_mlp_params=mlp_clf_cv.best_params_\n",
    "display(best_mlp_params)\n",
    "best_mlp=MLPClassifier(**best_mlp_params)\n",
    "best_mlp"
   ]
  },
  {
   "cell_type": "markdown",
   "metadata": {},
   "source": [
    "# Combinação de modelos"
   ]
  },
  {
   "cell_type": "code",
   "execution_count": null,
   "metadata": {},
   "outputs": [],
   "source": [
    "#VOTING\n",
    "\n",
    "#sklearn.ensemble.VotingClassifie"
   ]
  },
  {
   "cell_type": "code",
   "execution_count": null,
   "metadata": {},
   "outputs": [],
   "source": [
    "# Fit different models and evaluate their performance\n",
    "models = [\n",
    "    LogisticRegression(),\n",
    "    DecisionTreeClassifier(),\n",
    "    RandomForestClassifier(),\n",
    "    SVC(),\n",
    "    MLPClassifier()\n",
    "]\n",
    "\n",
    "for model in models:\n",
    "    model.fit(X_train, y_train)\n",
    "    accuracy = model.score(X_test, y_test)\n",
    "    print(f\"{model.__class__.__name__}: {accuracy:.2f}\")\n",
    "    \n",
    "    #STACKING\n",
    "# Define the base models\n",
    "base_models = [\n",
    "    LogisticRegression(),\n",
    "    DecisionTreeClassifier(),\n",
    "    RandomForestClassifier(),\n",
    "    SVC(),\n",
    "    MLPClassifier()\n",
    "]\n",
    "\n",
    "# Define the second-level model\n",
    "meta_model = LogisticRegression()\n",
    "\n",
    "# Define the stacking model\n",
    "stacking_model = StackingClassifier(estimators=base_models, final_estimator=meta_model, cv=5)\n",
    "\n",
    "# Fit the stacking model\n",
    "stacking_model.fit(X_train, y_train)\n",
    "\n",
    "# Make predictions on the test set\n",
    "predictions = stacking_model.predict(X_test)\n",
    "\n",
    "# Evaluate the model\n",
    "accuracy = stacking_model.score(X_test, y_test)\n",
    "print(\"Accuracy:\", accuracy)\n"
   ]
  },
  {
   "cell_type": "markdown",
   "metadata": {},
   "source": [
    "# Avaliação de performance"
   ]
  },
  {
   "cell_type": "code",
   "execution_count": null,
   "metadata": {},
   "outputs": [],
   "source": [
    "from sklearn.metrics import classification_report\n",
    "print(classification_report(y_test,y_pred))"
   ]
  },
  {
   "cell_type": "code",
   "execution_count": null,
   "metadata": {},
   "outputs": [],
   "source": [
    "from sklearn.metrics import confusion_matrix, roc_auc_score, roc_curve\n",
    "\n",
    "# Compute the confusion matrix\n",
    "cf_matrix = confusion_matrix(y_test, y_pred)\n",
    "print(cf_matrix)\n",
    "\n",
    "# Compute the ROC AUC score\n",
    "roc_auc = roc_auc_score(y_test, y_pred)\n",
    "print(roc_auc)\n",
    "\n",
    "# Generate the ROC curve\n",
    "fpr, tpr, thresholds = roc_curve(y_test, y_pred)"
   ]
  },
  {
   "cell_type": "code",
   "execution_count": null,
   "metadata": {},
   "outputs": [],
   "source": [
    "import seaborn as sns\n",
    "sns.heatmap(cf_matrix, annot=True, fmt='g');"
   ]
  },
  {
   "cell_type": "code",
   "execution_count": null,
   "metadata": {},
   "outputs": [],
   "source": [
    "sns.heatmap(cf_matrix/np.sum(cf_matrix), annot=True, fmt='.2%', cmap='Blues');"
   ]
  },
  {
   "cell_type": "code",
   "execution_count": null,
   "metadata": {},
   "outputs": [],
   "source": [
    "from sklearn.metrics import accuracy_score,precision_score, recall_score, f1_score\n",
    "printCustomMetrics(y_test,y_pred)"
   ]
  },
  {
   "cell_type": "code",
   "execution_count": null,
   "metadata": {},
   "outputs": [],
   "source": [
    "from sklearn.metrics import roc_curve\n",
    "fpr,tpr,thresholds=roc_curve(y_test,y_pred)    \n",
    "plot_roc_curve(fpr,tpr)"
   ]
  },
  {
   "cell_type": "code",
   "execution_count": null,
   "metadata": {},
   "outputs": [],
   "source": []
  }
 ],
 "metadata": {
  "kernelspec": {
   "display_name": "Python 3",
   "language": "python",
   "name": "python3"
  },
  "language_info": {
   "codemirror_mode": {
    "name": "ipython",
    "version": 3
   },
   "file_extension": ".py",
   "mimetype": "text/x-python",
   "name": "python",
   "nbconvert_exporter": "python",
   "pygments_lexer": "ipython3",
   "version": "3.8.3"
  },
  "toc": {
   "base_numbering": 1,
   "nav_menu": {},
   "number_sections": true,
   "sideBar": true,
   "skip_h1_title": false,
   "title_cell": "Table of Contents",
   "title_sidebar": "Contents",
   "toc_cell": false,
   "toc_position": {
    "height": "calc(100% - 180px)",
    "left": "10px",
    "top": "150px",
    "width": "175px"
   },
   "toc_section_display": true,
   "toc_window_display": true
  }
 },
 "nbformat": 4,
 "nbformat_minor": 4
}
