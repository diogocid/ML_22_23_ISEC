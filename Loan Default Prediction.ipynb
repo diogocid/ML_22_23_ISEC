{
 "cells": [
  {
   "cell_type": "markdown",
   "id": "7e266d21",
   "metadata": {},
   "source": [
    "# Project Loan Default Prediction"
   ]
  },
  {
   "cell_type": "code",
   "execution_count": null,
   "id": "0d8712ac",
   "metadata": {},
   "outputs": [],
   "source": [
    "#All Libraries used\n",
    "import matplotlib.pyplot as plt\n",
    "import numpy as np\n",
    "import pandas as pd\n",
    "import seaborn as sns\n",
    "\n",
    "#Split dataset \n",
    "from sklearn.model_selection import train_test_split\n",
    "from sklearn.impute import SimpleImputer\n",
    "from sklearn.base import BaseEstimator, TransformerMixin\n",
    "from sklearn.compose import ColumnTransformer\n",
    "from sklearn.preprocessing import StandardScaler\n"
   ]
  },
  {
   "cell_type": "code",
   "execution_count": 4,
   "id": "4fad0dc8",
   "metadata": {},
   "outputs": [],
   "source": [
    "#Import Dataset\n",
    "df = pd.read_csv('C:\\ML\\loan_default_prediction.csv')"
   ]
  },
  {
   "cell_type": "code",
   "execution_count": 6,
   "id": "f93d2f99",
   "metadata": {},
   "outputs": [
    {
     "data": {
      "text/plain": [
       "(87500, 30)"
      ]
     },
     "execution_count": 6,
     "metadata": {},
     "output_type": "execute_result"
    }
   ],
   "source": [
    "#View Instances and Features\n",
    "df.shape    "
   ]
  },
  {
   "cell_type": "code",
   "execution_count": 8,
   "id": "f5bc68b5",
   "metadata": {
    "scrolled": false
   },
   "outputs": [
    {
     "name": "stdout",
     "output_type": "stream",
     "text": [
      "<class 'pandas.core.frame.DataFrame'>\n",
      "RangeIndex: 87500 entries, 0 to 87499\n",
      "Data columns (total 30 columns):\n",
      " #   Column               Non-Null Count  Dtype  \n",
      "---  ------               --------------  -----  \n",
      " 0   ID                   87500 non-null  int64  \n",
      " 1   Asst_Reg             87500 non-null  int64  \n",
      " 2   GGGrade              87500 non-null  object \n",
      " 3   Experience           87500 non-null  object \n",
      " 4   Validation           87500 non-null  object \n",
      " 5   Yearly_Income        81925 non-null  float64\n",
      " 6   Home_Status          87500 non-null  object \n",
      " 7   Unpaid_2_years       87500 non-null  int64  \n",
      " 8   Already_Defaulted    87500 non-null  int64  \n",
      " 9   Designation          86086 non-null  object \n",
      " 10  Debt_to_Income       84011 non-null  float64\n",
      " 11  Postal_Code          86111 non-null  float64\n",
      " 12  Lend_Amount          87500 non-null  float64\n",
      " 13  Deprecatory_Records  87500 non-null  int64  \n",
      " 14  Interest_Charged     87500 non-null  float64\n",
      " 15  Usage_Rate           87500 non-null  float64\n",
      " 16  Inquiries            87500 non-null  int64  \n",
      " 17  Present_Balance      87500 non-null  float64\n",
      " 18  Gross_Collection     87500 non-null  float64\n",
      " 19  Sub_GGGrade          87500 non-null  int64  \n",
      " 20  File_Status          87500 non-null  object \n",
      " 21  State                87500 non-null  object \n",
      " 22  Account_Open         87500 non-null  int64  \n",
      " 23  Total_Unpaid_CL      83314 non-null  float64\n",
      " 24  Duration             87500 non-null  object \n",
      " 25  Unpaid_Amount        82648 non-null  float64\n",
      " 26  Reason               87500 non-null  object \n",
      " 27  Claim_Type           87500 non-null  object \n",
      " 28  Due_Fee              87500 non-null  float64\n",
      " 29  Default              87500 non-null  int64  \n",
      "dtypes: float64(11), int64(9), object(10)\n",
      "memory usage: 20.0+ MB\n"
     ]
    }
   ],
   "source": [
    "#View info of dataset\n",
    "df.info()"
   ]
  },
  {
   "cell_type": "code",
   "execution_count": 10,
   "id": "aef30b5c",
   "metadata": {},
   "outputs": [
    {
     "data": {
      "text/plain": [
       "ID      Asst_Reg  GGGrade  Experience  Validation       Yearly_Income  Home_Status  Unpaid_2_years  Already_Defaulted  Designation                    Debt_to_Income  Postal_Code  Lend_Amount  Deprecatory_Records  Interest_Charged  Usage_Rate  Inquiries  Present_Balance  Gross_Collection  Sub_GGGrade  File_Status  State       Account_Open  Total_Unpaid_CL  Duration  Unpaid_Amount  Reason               Claim_Type  Due_Fee  Default\n",
       "21560   3174774   VI       2yrs        Source Verified  63300.864      RENT         0               0                  Nutrition Associate            54.8520         36200.0      22101.75     0                    22.80             131.752     0          65171.75         0.0               38           whole        AL          12            35690.0          5 years   28177.38       debt  consolidation  I           0.0      0          1\n",
       "104871  5990216   I        5yrs        Not Vfied        68640.000      MORTGAGE     0               0                  Officer                        36.8424         30000.0      26334.00     0                    23.83             121.604     0          183083.77        0.0               11           fully paid   GA          6             33532.0          3 years   24408.54       credit  card         I           0.0      0          1\n",
       "104846  1041907   II       >10yrs      Vfied            246400.000     MORTGAGE     0               0                  Director, Business Consulting  23.4192         43100.0      20520.00     0                    16.27             25.800      0          558468.04        0.0               17           fully paid   Ohio        10            51958.0          3 years   8048.97        home  improvement    I           0.0      1          1\n",
       "104848  1165692   II       >10yrs      Vfied            205920.000     MORTGAGE     1               0                  Super Lead                     17.3544         6400.0       30780.00     2                    12.95             145.512     0          457808.79        0.0               18           fully paid   CT          18            33034.0          3 years   28792.98       debt  consolidation  I           0.0      1          1\n",
       "104850  3241820   IV       >10yrs      Not Vfied        123200.000     RENT         0               0                  Owner                          27.0480         29000.0      13509.00     2                    13.94             74.132      1          55115.01         0.0               28           fully paid   SC          10            22078.0          3 years   9791.46        debt  consolidation  I           0.0      1          1\n",
       "                                                                                                                                                                                                                                                                                                                                                                                                                                                   ..\n",
       "63162   1643074   II       >10yrs      Not Vfied        156816.000     RENT         0               0                  chief analyst                  43.7136         32300.0      2565.00      0                    18.92             139.320     1          120440.40        0.0               18           fully paid   Florida     12            23406.0          3 years   19523.07       debt  consolidation  I           0.0      0          1\n",
       "63163   3271861   V        4yrs        Vfied            110880.000     RENT         0               0                  PROJECT ENGINEER               30.8448         91300.0      47367.00     0                    19.15             106.296     3          72240.86         0.0               31           fully paid   California  14            67396.0          3 years   42905.61       debt  consolidation  I           0.0      0          1\n",
       "63164   3460169   I        >10yrs      Vfied            161920.000     RENT         1               0                  Super Lead                     12.4992         7600.0       34200.00     0                    16.72             74.648      0          27947.45         0.0               15           whole        NewJersey   17            64076.0          3 years   28616.85       credit  card         I           0.0      0          1\n",
       "63165   6426280   I        <1yr        Source Verified  140940.800     RENT         0               0                  Journeyman Electrician         38.8080         80500.0      17100.00     0                    22.47             39.044      0          99186.31         0.0               15           whole        CO          18            74202.0          3 years   17383.86       debt  consolidation  I           0.0      0          1\n",
       "146559  7338539   IV       >10yrs      Source Verified  144320.000     MORTGAGE     0               0                  teacher                        53.3736         55300.0      47880.00     0                    23.48             132.612     1          158895.49        0.0               26           whole        MN          9             86984.0          5 years   69058.35       credit  card         I           0.0      0          1\n",
       "Length: 68505, dtype: int64"
      ]
     },
     "execution_count": 10,
     "metadata": {},
     "output_type": "execute_result"
    }
   ],
   "source": [
    "#Get main statistics of numerical features\n",
    "df.value_counts()"
   ]
  },
  {
   "cell_type": "code",
   "execution_count": null,
   "id": "c37f511e",
   "metadata": {},
   "outputs": [],
   "source": []
  }
 ],
 "metadata": {
  "kernelspec": {
   "display_name": "Python 3 (ipykernel)",
   "language": "python",
   "name": "python3"
  },
  "language_info": {
   "codemirror_mode": {
    "name": "ipython",
    "version": 3
   },
   "file_extension": ".py",
   "mimetype": "text/x-python",
   "name": "python",
   "nbconvert_exporter": "python",
   "pygments_lexer": "ipython3",
   "version": "3.9.12"
  },
  "toc": {
   "base_numbering": 1,
   "nav_menu": {},
   "number_sections": true,
   "sideBar": true,
   "skip_h1_title": true,
   "title_cell": "Table of Contents",
   "title_sidebar": "Contents",
   "toc_cell": false,
   "toc_position": {
    "height": "calc(100% - 180px)",
    "left": "10px",
    "top": "150px",
    "width": "384px"
   },
   "toc_section_display": true,
   "toc_window_display": false
  }
 },
 "nbformat": 4,
 "nbformat_minor": 5
}
