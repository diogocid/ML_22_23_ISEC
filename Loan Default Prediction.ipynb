{
 "cells": [
  {
   "cell_type": "markdown",
   "metadata": {},
   "source": [
    "# Project Loan Default Prediction"
   ]
  },
  {
   "cell_type": "code",
   "execution_count": 76,
   "metadata": {},
   "outputs": [],
   "source": [
    "#All Libraries used\n",
    "import matplotlib.pyplot as plt\n",
    "import numpy as np\n",
    "import pandas as pd\n",
    "import seaborn as sns\n",
    "\n",
    "#skitlearn\n",
    "from sklearn.model_selection import train_test_split\n",
    "from sklearn.impute import SimpleImputer\n",
    "from sklearn.base import BaseEstimator, TransformerMixin\n",
    "from sklearn.compose import ColumnTransformer\n",
    "from sklearn.preprocessing import StandardScaler\n",
    "from sklearn.pipeline import Pipeline\n",
    "from sklearn.preprocessing import OneHotEncoder\n",
    "from sklearn.compose import ColumnTransformer\n",
    "#depois verificar se usámos tudo\n"
   ]
  },
  {
   "cell_type": "code",
   "execution_count": 77,
   "metadata": {},
   "outputs": [
    {
     "data": {
      "text/html": [
       "<div>\n",
       "<style scoped>\n",
       "    .dataframe tbody tr th:only-of-type {\n",
       "        vertical-align: middle;\n",
       "    }\n",
       "\n",
       "    .dataframe tbody tr th {\n",
       "        vertical-align: top;\n",
       "    }\n",
       "\n",
       "    .dataframe thead th {\n",
       "        text-align: right;\n",
       "    }\n",
       "</style>\n",
       "<table border=\"1\" class=\"dataframe\">\n",
       "  <thead>\n",
       "    <tr style=\"text-align: right;\">\n",
       "      <th></th>\n",
       "      <th>ID</th>\n",
       "      <th>Asst_Reg</th>\n",
       "      <th>GGGrade</th>\n",
       "      <th>Experience</th>\n",
       "      <th>Validation</th>\n",
       "      <th>Yearly_Income</th>\n",
       "      <th>Home_Status</th>\n",
       "      <th>Unpaid_2_years</th>\n",
       "      <th>Already_Defaulted</th>\n",
       "      <th>Designation</th>\n",
       "      <th>...</th>\n",
       "      <th>File_Status</th>\n",
       "      <th>State</th>\n",
       "      <th>Account_Open</th>\n",
       "      <th>Total_Unpaid_CL</th>\n",
       "      <th>Duration</th>\n",
       "      <th>Unpaid_Amount</th>\n",
       "      <th>Reason</th>\n",
       "      <th>Claim_Type</th>\n",
       "      <th>Due_Fee</th>\n",
       "      <th>Default</th>\n",
       "    </tr>\n",
       "  </thead>\n",
       "  <tbody>\n",
       "    <tr>\n",
       "      <th>0</th>\n",
       "      <td>95074</td>\n",
       "      <td>421802</td>\n",
       "      <td>II</td>\n",
       "      <td>&gt;10yrs</td>\n",
       "      <td>Vfied</td>\n",
       "      <td>633600.00</td>\n",
       "      <td>MORTGAGE</td>\n",
       "      <td>0</td>\n",
       "      <td>0</td>\n",
       "      <td>GLENDALE NISSAN</td>\n",
       "      <td>...</td>\n",
       "      <td>fully paid</td>\n",
       "      <td>California</td>\n",
       "      <td>17</td>\n",
       "      <td>58598.0</td>\n",
       "      <td>3 years</td>\n",
       "      <td>31216.05</td>\n",
       "      <td>debt  consolidation</td>\n",
       "      <td>I</td>\n",
       "      <td>0.0</td>\n",
       "      <td>0</td>\n",
       "    </tr>\n",
       "    <tr>\n",
       "      <th>1</th>\n",
       "      <td>134131</td>\n",
       "      <td>3964312</td>\n",
       "      <td>IV</td>\n",
       "      <td>7yrs</td>\n",
       "      <td>Source Verified</td>\n",
       "      <td>85483.20</td>\n",
       "      <td>RENT</td>\n",
       "      <td>0</td>\n",
       "      <td>0</td>\n",
       "      <td>Business Teacher</td>\n",
       "      <td>...</td>\n",
       "      <td>whole</td>\n",
       "      <td>NC</td>\n",
       "      <td>15</td>\n",
       "      <td>18924.0</td>\n",
       "      <td>5 years</td>\n",
       "      <td>11660.49</td>\n",
       "      <td>debt  consolidation</td>\n",
       "      <td>I</td>\n",
       "      <td>0.0</td>\n",
       "      <td>0</td>\n",
       "    </tr>\n",
       "    <tr>\n",
       "      <th>2</th>\n",
       "      <td>92602</td>\n",
       "      <td>4247560</td>\n",
       "      <td>III</td>\n",
       "      <td>&lt;1yr</td>\n",
       "      <td>Source Verified</td>\n",
       "      <td>79200.00</td>\n",
       "      <td>RENT</td>\n",
       "      <td>0</td>\n",
       "      <td>0</td>\n",
       "      <td>driver</td>\n",
       "      <td>...</td>\n",
       "      <td>whole</td>\n",
       "      <td>Florida</td>\n",
       "      <td>7</td>\n",
       "      <td>15604.0</td>\n",
       "      <td>5 years</td>\n",
       "      <td>5637.87</td>\n",
       "      <td>major  purchase</td>\n",
       "      <td>I</td>\n",
       "      <td>0.0</td>\n",
       "      <td>0</td>\n",
       "    </tr>\n",
       "    <tr>\n",
       "      <th>3</th>\n",
       "      <td>22591</td>\n",
       "      <td>197179</td>\n",
       "      <td>III</td>\n",
       "      <td>&lt;1yr</td>\n",
       "      <td>Vfied</td>\n",
       "      <td>61600.00</td>\n",
       "      <td>RENT</td>\n",
       "      <td>0</td>\n",
       "      <td>0</td>\n",
       "      <td>AvePoint</td>\n",
       "      <td>...</td>\n",
       "      <td>fully paid</td>\n",
       "      <td>NewJersey</td>\n",
       "      <td>9</td>\n",
       "      <td>22410.0</td>\n",
       "      <td>3 years</td>\n",
       "      <td>15607.17</td>\n",
       "      <td>major  purchase</td>\n",
       "      <td>I</td>\n",
       "      <td>0.0</td>\n",
       "      <td>1</td>\n",
       "    </tr>\n",
       "    <tr>\n",
       "      <th>4</th>\n",
       "      <td>125060</td>\n",
       "      <td>4646684</td>\n",
       "      <td>V</td>\n",
       "      <td>2yrs</td>\n",
       "      <td>Source Verified</td>\n",
       "      <td>68053.92</td>\n",
       "      <td>RENT</td>\n",
       "      <td>0</td>\n",
       "      <td>0</td>\n",
       "      <td>Lead Tester</td>\n",
       "      <td>...</td>\n",
       "      <td>fully paid</td>\n",
       "      <td>LA</td>\n",
       "      <td>10</td>\n",
       "      <td>36022.0</td>\n",
       "      <td>5 years</td>\n",
       "      <td>27472.86</td>\n",
       "      <td>debt  consolidation</td>\n",
       "      <td>I</td>\n",
       "      <td>0.0</td>\n",
       "      <td>0</td>\n",
       "    </tr>\n",
       "  </tbody>\n",
       "</table>\n",
       "<p>5 rows × 30 columns</p>\n",
       "</div>"
      ],
      "text/plain": [
       "       ID  Asst_Reg GGGrade Experience       Validation  Yearly_Income  \\\n",
       "0   95074    421802      II     >10yrs            Vfied      633600.00   \n",
       "1  134131   3964312      IV       7yrs  Source Verified       85483.20   \n",
       "2   92602   4247560     III       <1yr  Source Verified       79200.00   \n",
       "3   22591    197179     III       <1yr            Vfied       61600.00   \n",
       "4  125060   4646684       V       2yrs  Source Verified       68053.92   \n",
       "\n",
       "  Home_Status  Unpaid_2_years  Already_Defaulted       Designation  ...  \\\n",
       "0    MORTGAGE               0                  0   GLENDALE NISSAN  ...   \n",
       "1        RENT               0                  0  Business Teacher  ...   \n",
       "2        RENT               0                  0            driver  ...   \n",
       "3        RENT               0                  0          AvePoint  ...   \n",
       "4        RENT               0                  0       Lead Tester  ...   \n",
       "\n",
       "   File_Status       State  Account_Open  Total_Unpaid_CL  Duration  \\\n",
       "0   fully paid  California            17          58598.0   3 years   \n",
       "1        whole          NC            15          18924.0   5 years   \n",
       "2        whole     Florida             7          15604.0   5 years   \n",
       "3   fully paid   NewJersey             9          22410.0   3 years   \n",
       "4   fully paid          LA            10          36022.0   5 years   \n",
       "\n",
       "   Unpaid_Amount               Reason  Claim_Type  Due_Fee  Default  \n",
       "0       31216.05  debt  consolidation           I      0.0        0  \n",
       "1       11660.49  debt  consolidation           I      0.0        0  \n",
       "2        5637.87      major  purchase           I      0.0        0  \n",
       "3       15607.17      major  purchase           I      0.0        1  \n",
       "4       27472.86  debt  consolidation           I      0.0        0  \n",
       "\n",
       "[5 rows x 30 columns]"
      ]
     },
     "execution_count": 77,
     "metadata": {},
     "output_type": "execute_result"
    }
   ],
   "source": [
    "#Import Dataset\n",
    "df = pd.read_csv('loan_default_prediction.csv')\n",
    "#print(df.columns)\n",
    "df.head()"
   ]
  },
  {
   "cell_type": "code",
   "execution_count": 78,
   "metadata": {},
   "outputs": [
    {
     "name": "stdout",
     "output_type": "stream",
     "text": [
      "Index(['Asst_Reg', 'Experience', 'Yearly_Income', 'Home_Status',\n",
      "       'Unpaid_2_years', 'Already_Defaulted', 'Lend_Amount',\n",
      "       'Interest_Charged', 'Usage_Rate', 'Present_Balance', 'State',\n",
      "       'Account_Open', 'Duration', 'Unpaid_Amount', 'Reason', 'Claim_Type',\n",
      "       'Due_Fee', 'Default'],\n",
      "      dtype='object')\n"
     ]
    }
   ],
   "source": [
    "#remover variáveis que a priori não fazem sentido; ver relatorio para justificações\n",
    "df=df.drop(['ID','GGGrade','Validation','Designation','Debt_to_Income','Postal_Code','Deprecatory_Records',\\\n",
    "            'Inquiries','Gross_Collection','Sub_GGGrade','Total_Unpaid_CL','File_Status'],axis=1)\n",
    "print(df.columns)"
   ]
  },
  {
   "cell_type": "code",
   "execution_count": 79,
   "metadata": {},
   "outputs": [
    {
     "data": {
      "text/plain": [
       "0    0.811291\n",
       "1    0.188709\n",
       "Name: Default, dtype: float64"
      ]
     },
     "execution_count": 79,
     "metadata": {},
     "output_type": "execute_result"
    }
   ],
   "source": [
    "#VER SE VARIAVEL NUMERICA TEM ALGUM STRING\n",
    "df['Default'].value_counts()/df.shape[0] #quantos defaults temos\n",
    "#print(df[df['Default']==1]['Default'].value_counts())"
   ]
  },
  {
   "cell_type": "code",
   "execution_count": 80,
   "metadata": {},
   "outputs": [
    {
     "data": {
      "text/html": [
       "<div>\n",
       "<style scoped>\n",
       "    .dataframe tbody tr th:only-of-type {\n",
       "        vertical-align: middle;\n",
       "    }\n",
       "\n",
       "    .dataframe tbody tr th {\n",
       "        vertical-align: top;\n",
       "    }\n",
       "\n",
       "    .dataframe thead th {\n",
       "        text-align: right;\n",
       "    }\n",
       "</style>\n",
       "<table border=\"1\" class=\"dataframe\">\n",
       "  <thead>\n",
       "    <tr style=\"text-align: right;\">\n",
       "      <th></th>\n",
       "      <th>Asst_Reg</th>\n",
       "      <th>Experience</th>\n",
       "      <th>Yearly_Income</th>\n",
       "      <th>Home_Status</th>\n",
       "      <th>Unpaid_2_years</th>\n",
       "      <th>Already_Defaulted</th>\n",
       "      <th>Lend_Amount</th>\n",
       "      <th>Interest_Charged</th>\n",
       "      <th>Usage_Rate</th>\n",
       "      <th>Present_Balance</th>\n",
       "      <th>State</th>\n",
       "      <th>Account_Open</th>\n",
       "      <th>Duration</th>\n",
       "      <th>Unpaid_Amount</th>\n",
       "      <th>Reason</th>\n",
       "      <th>Claim_Type</th>\n",
       "      <th>Due_Fee</th>\n",
       "      <th>Default</th>\n",
       "    </tr>\n",
       "  </thead>\n",
       "  <tbody>\n",
       "    <tr>\n",
       "      <th>0</th>\n",
       "      <td>421802</td>\n",
       "      <td>10</td>\n",
       "      <td>633600.00</td>\n",
       "      <td>MORTGAGE</td>\n",
       "      <td>0</td>\n",
       "      <td>0</td>\n",
       "      <td>42023.25</td>\n",
       "      <td>15.39</td>\n",
       "      <td>88.924</td>\n",
       "      <td>607161.90</td>\n",
       "      <td>California</td>\n",
       "      <td>17</td>\n",
       "      <td>3</td>\n",
       "      <td>31216.05</td>\n",
       "      <td>debt  consolidation</td>\n",
       "      <td>I</td>\n",
       "      <td>0.0</td>\n",
       "      <td>0</td>\n",
       "    </tr>\n",
       "    <tr>\n",
       "      <th>1</th>\n",
       "      <td>3964312</td>\n",
       "      <td>7</td>\n",
       "      <td>85483.20</td>\n",
       "      <td>RENT</td>\n",
       "      <td>0</td>\n",
       "      <td>0</td>\n",
       "      <td>38133.00</td>\n",
       "      <td>9.94</td>\n",
       "      <td>102.856</td>\n",
       "      <td>269234.06</td>\n",
       "      <td>NC</td>\n",
       "      <td>15</td>\n",
       "      <td>5</td>\n",
       "      <td>11660.49</td>\n",
       "      <td>debt  consolidation</td>\n",
       "      <td>I</td>\n",
       "      <td>0.0</td>\n",
       "      <td>0</td>\n",
       "    </tr>\n",
       "    <tr>\n",
       "      <th>2</th>\n",
       "      <td>4247560</td>\n",
       "      <td>1</td>\n",
       "      <td>79200.00</td>\n",
       "      <td>RENT</td>\n",
       "      <td>0</td>\n",
       "      <td>0</td>\n",
       "      <td>17100.00</td>\n",
       "      <td>22.35</td>\n",
       "      <td>60.372</td>\n",
       "      <td>22476.53</td>\n",
       "      <td>Florida</td>\n",
       "      <td>7</td>\n",
       "      <td>5</td>\n",
       "      <td>5637.87</td>\n",
       "      <td>major  purchase</td>\n",
       "      <td>I</td>\n",
       "      <td>0.0</td>\n",
       "      <td>0</td>\n",
       "    </tr>\n",
       "    <tr>\n",
       "      <th>3</th>\n",
       "      <td>197179</td>\n",
       "      <td>1</td>\n",
       "      <td>61600.00</td>\n",
       "      <td>RENT</td>\n",
       "      <td>0</td>\n",
       "      <td>0</td>\n",
       "      <td>5130.00</td>\n",
       "      <td>10.36</td>\n",
       "      <td>116.272</td>\n",
       "      <td>15242.09</td>\n",
       "      <td>NewJersey</td>\n",
       "      <td>9</td>\n",
       "      <td>3</td>\n",
       "      <td>15607.17</td>\n",
       "      <td>major  purchase</td>\n",
       "      <td>I</td>\n",
       "      <td>0.0</td>\n",
       "      <td>1</td>\n",
       "    </tr>\n",
       "    <tr>\n",
       "      <th>4</th>\n",
       "      <td>4646684</td>\n",
       "      <td>2</td>\n",
       "      <td>68053.92</td>\n",
       "      <td>RENT</td>\n",
       "      <td>0</td>\n",
       "      <td>0</td>\n",
       "      <td>19665.00</td>\n",
       "      <td>13.68</td>\n",
       "      <td>127.280</td>\n",
       "      <td>65433.94</td>\n",
       "      <td>LA</td>\n",
       "      <td>10</td>\n",
       "      <td>5</td>\n",
       "      <td>27472.86</td>\n",
       "      <td>debt  consolidation</td>\n",
       "      <td>I</td>\n",
       "      <td>0.0</td>\n",
       "      <td>0</td>\n",
       "    </tr>\n",
       "  </tbody>\n",
       "</table>\n",
       "</div>"
      ],
      "text/plain": [
       "   Asst_Reg  Experience  Yearly_Income Home_Status  Unpaid_2_years  \\\n",
       "0    421802          10      633600.00    MORTGAGE               0   \n",
       "1   3964312           7       85483.20        RENT               0   \n",
       "2   4247560           1       79200.00        RENT               0   \n",
       "3    197179           1       61600.00        RENT               0   \n",
       "4   4646684           2       68053.92        RENT               0   \n",
       "\n",
       "   Already_Defaulted  Lend_Amount  Interest_Charged  Usage_Rate  \\\n",
       "0                  0     42023.25             15.39      88.924   \n",
       "1                  0     38133.00              9.94     102.856   \n",
       "2                  0     17100.00             22.35      60.372   \n",
       "3                  0      5130.00             10.36     116.272   \n",
       "4                  0     19665.00             13.68     127.280   \n",
       "\n",
       "   Present_Balance       State  Account_Open  Duration  Unpaid_Amount  \\\n",
       "0        607161.90  California            17         3       31216.05   \n",
       "1        269234.06          NC            15         5       11660.49   \n",
       "2         22476.53     Florida             7         5        5637.87   \n",
       "3         15242.09   NewJersey             9         3       15607.17   \n",
       "4         65433.94          LA            10         5       27472.86   \n",
       "\n",
       "                Reason Claim_Type  Due_Fee  Default  \n",
       "0  debt  consolidation          I      0.0        0  \n",
       "1  debt  consolidation          I      0.0        0  \n",
       "2      major  purchase          I      0.0        0  \n",
       "3      major  purchase          I      0.0        1  \n",
       "4  debt  consolidation          I      0.0        0  "
      ]
     },
     "execution_count": 80,
     "metadata": {},
     "output_type": "execute_result"
    }
   ],
   "source": [
    "#Conversão dos anos de experiencia para númerico\n",
    "df['Experience']=df['Experience'].apply(lambda i: 10 if i[0:1]=='>' else 1 if i[0:1]=='<' else int(i[0:1]))\n",
    "#Conversão da duração para númerico\n",
    "df['Duration']=df['Duration'].apply(lambda i : i.replace(' years','')).astype(int)\n",
    "#ver resultado\n",
    "df.head()"
   ]
  },
  {
   "cell_type": "code",
   "execution_count": 81,
   "metadata": {},
   "outputs": [
    {
     "data": {
      "text/plain": [
       "(87500, 18)"
      ]
     },
     "execution_count": 81,
     "metadata": {},
     "output_type": "execute_result"
    }
   ],
   "source": [
    "#ver dimensão atual da base\n",
    "df.shape"
   ]
  },
  {
   "cell_type": "code",
   "execution_count": 83,
   "metadata": {},
   "outputs": [
    {
     "data": {
      "text/plain": [
       "Asst_Reg             0.000000\n",
       "Experience           0.000000\n",
       "Yearly_Income        0.063714\n",
       "Home_Status          0.000000\n",
       "Unpaid_2_years       0.000000\n",
       "Already_Defaulted    0.000000\n",
       "Lend_Amount          0.000000\n",
       "Interest_Charged     0.000000\n",
       "Usage_Rate           0.000000\n",
       "Present_Balance      0.000000\n",
       "State                0.000000\n",
       "Account_Open         0.000000\n",
       "Duration             0.000000\n",
       "Unpaid_Amount        0.055451\n",
       "Reason               0.000000\n",
       "Claim_Type           0.000000\n",
       "Due_Fee              0.000000\n",
       "Default              0.000000\n",
       "dtype: float64"
      ]
     },
     "metadata": {},
     "output_type": "display_data"
    },
    {
     "name": "stdout",
     "output_type": "stream",
     "text": [
      "<class 'pandas.core.frame.DataFrame'>\n",
      "RangeIndex: 87500 entries, 0 to 87499\n",
      "Data columns (total 18 columns):\n",
      " #   Column             Non-Null Count  Dtype  \n",
      "---  ------             --------------  -----  \n",
      " 0   Asst_Reg           87500 non-null  int64  \n",
      " 1   Experience         87500 non-null  int64  \n",
      " 2   Yearly_Income      81925 non-null  float64\n",
      " 3   Home_Status        87500 non-null  object \n",
      " 4   Unpaid_2_years     87500 non-null  int64  \n",
      " 5   Already_Defaulted  87500 non-null  int64  \n",
      " 6   Lend_Amount        87500 non-null  float64\n",
      " 7   Interest_Charged   87500 non-null  float64\n",
      " 8   Usage_Rate         87500 non-null  float64\n",
      " 9   Present_Balance    87500 non-null  float64\n",
      " 10  State              87500 non-null  object \n",
      " 11  Account_Open       87500 non-null  int64  \n",
      " 12  Duration           87500 non-null  int64  \n",
      " 13  Unpaid_Amount      82648 non-null  float64\n",
      " 14  Reason             87500 non-null  object \n",
      " 15  Claim_Type         87500 non-null  object \n",
      " 16  Due_Fee            87500 non-null  float64\n",
      " 17  Default            87500 non-null  int64  \n",
      "dtypes: float64(7), int64(7), object(4)\n",
      "memory usage: 12.0+ MB\n"
     ]
    }
   ],
   "source": [
    "#ver elementos nulos do dataset em %\n",
    "display(df.isnull().sum()/df.shape[0])\n",
    "#info\n",
    "df.info()"
   ]
  },
  {
   "cell_type": "code",
   "execution_count": 84,
   "metadata": {},
   "outputs": [
    {
     "data": {
      "text/plain": [
       "(77376, 18)"
      ]
     },
     "execution_count": 84,
     "metadata": {},
     "output_type": "execute_result"
    }
   ],
   "source": [
    "#eliminar observações com pelo menos uma feature sem valores\n",
    "df=df.dropna()\n",
    "df.isnull().sum()\n",
    "display(df.shape)\n",
    "#drop duplicates\n",
    "df.drop_duplicates()\n",
    "df.shape"
   ]
  },
  {
   "cell_type": "code",
   "execution_count": 85,
   "metadata": {},
   "outputs": [
    {
     "data": {
      "text/html": [
       "<div>\n",
       "<style scoped>\n",
       "    .dataframe tbody tr th:only-of-type {\n",
       "        vertical-align: middle;\n",
       "    }\n",
       "\n",
       "    .dataframe tbody tr th {\n",
       "        vertical-align: top;\n",
       "    }\n",
       "\n",
       "    .dataframe thead th {\n",
       "        text-align: right;\n",
       "    }\n",
       "</style>\n",
       "<table border=\"1\" class=\"dataframe\">\n",
       "  <thead>\n",
       "    <tr style=\"text-align: right;\">\n",
       "      <th></th>\n",
       "      <th>Asst_Reg</th>\n",
       "      <th>Experience</th>\n",
       "      <th>Yearly_Income</th>\n",
       "      <th>Lend_Amount</th>\n",
       "      <th>Interest_Charged</th>\n",
       "      <th>Usage_Rate</th>\n",
       "      <th>Present_Balance</th>\n",
       "      <th>Due_Fee</th>\n",
       "      <th>Unpaid_Amount</th>\n",
       "    </tr>\n",
       "  </thead>\n",
       "  <tbody>\n",
       "    <tr>\n",
       "      <th>0</th>\n",
       "      <td>421802</td>\n",
       "      <td>10</td>\n",
       "      <td>633600.00</td>\n",
       "      <td>42023.25</td>\n",
       "      <td>15.39</td>\n",
       "      <td>88.924</td>\n",
       "      <td>607161.90</td>\n",
       "      <td>0.0</td>\n",
       "      <td>31216.05</td>\n",
       "    </tr>\n",
       "    <tr>\n",
       "      <th>1</th>\n",
       "      <td>3964312</td>\n",
       "      <td>7</td>\n",
       "      <td>85483.20</td>\n",
       "      <td>38133.00</td>\n",
       "      <td>9.94</td>\n",
       "      <td>102.856</td>\n",
       "      <td>269234.06</td>\n",
       "      <td>0.0</td>\n",
       "      <td>11660.49</td>\n",
       "    </tr>\n",
       "    <tr>\n",
       "      <th>2</th>\n",
       "      <td>4247560</td>\n",
       "      <td>1</td>\n",
       "      <td>79200.00</td>\n",
       "      <td>17100.00</td>\n",
       "      <td>22.35</td>\n",
       "      <td>60.372</td>\n",
       "      <td>22476.53</td>\n",
       "      <td>0.0</td>\n",
       "      <td>5637.87</td>\n",
       "    </tr>\n",
       "    <tr>\n",
       "      <th>3</th>\n",
       "      <td>197179</td>\n",
       "      <td>1</td>\n",
       "      <td>61600.00</td>\n",
       "      <td>5130.00</td>\n",
       "      <td>10.36</td>\n",
       "      <td>116.272</td>\n",
       "      <td>15242.09</td>\n",
       "      <td>0.0</td>\n",
       "      <td>15607.17</td>\n",
       "    </tr>\n",
       "    <tr>\n",
       "      <th>4</th>\n",
       "      <td>4646684</td>\n",
       "      <td>2</td>\n",
       "      <td>68053.92</td>\n",
       "      <td>19665.00</td>\n",
       "      <td>13.68</td>\n",
       "      <td>127.280</td>\n",
       "      <td>65433.94</td>\n",
       "      <td>0.0</td>\n",
       "      <td>27472.86</td>\n",
       "    </tr>\n",
       "    <tr>\n",
       "      <th>...</th>\n",
       "      <td>...</td>\n",
       "      <td>...</td>\n",
       "      <td>...</td>\n",
       "      <td>...</td>\n",
       "      <td>...</td>\n",
       "      <td>...</td>\n",
       "      <td>...</td>\n",
       "      <td>...</td>\n",
       "      <td>...</td>\n",
       "    </tr>\n",
       "    <tr>\n",
       "      <th>87494</th>\n",
       "      <td>5409793</td>\n",
       "      <td>1</td>\n",
       "      <td>246400.00</td>\n",
       "      <td>20520.00</td>\n",
       "      <td>12.62</td>\n",
       "      <td>87.720</td>\n",
       "      <td>350087.11</td>\n",
       "      <td>0.0</td>\n",
       "      <td>10383.12</td>\n",
       "    </tr>\n",
       "    <tr>\n",
       "      <th>87495</th>\n",
       "      <td>4535984</td>\n",
       "      <td>10</td>\n",
       "      <td>75680.00</td>\n",
       "      <td>10260.00</td>\n",
       "      <td>8.35</td>\n",
       "      <td>51.084</td>\n",
       "      <td>15100.14</td>\n",
       "      <td>0.0</td>\n",
       "      <td>10012.05</td>\n",
       "    </tr>\n",
       "    <tr>\n",
       "      <th>87496</th>\n",
       "      <td>2624710</td>\n",
       "      <td>3</td>\n",
       "      <td>90423.52</td>\n",
       "      <td>27360.00</td>\n",
       "      <td>24.18</td>\n",
       "      <td>129.172</td>\n",
       "      <td>102811.88</td>\n",
       "      <td>0.0</td>\n",
       "      <td>24921.54</td>\n",
       "    </tr>\n",
       "    <tr>\n",
       "      <th>87497</th>\n",
       "      <td>5966919</td>\n",
       "      <td>10</td>\n",
       "      <td>91520.00</td>\n",
       "      <td>8550.00</td>\n",
       "      <td>11.03</td>\n",
       "      <td>83.420</td>\n",
       "      <td>14584.11</td>\n",
       "      <td>0.0</td>\n",
       "      <td>14517.90</td>\n",
       "    </tr>\n",
       "    <tr>\n",
       "      <th>87498</th>\n",
       "      <td>2630667</td>\n",
       "      <td>1</td>\n",
       "      <td>61600.00</td>\n",
       "      <td>23769.00</td>\n",
       "      <td>22.52</td>\n",
       "      <td>56.760</td>\n",
       "      <td>59281.66</td>\n",
       "      <td>0.0</td>\n",
       "      <td>8454.24</td>\n",
       "    </tr>\n",
       "  </tbody>\n",
       "</table>\n",
       "<p>77376 rows × 9 columns</p>\n",
       "</div>"
      ],
      "text/plain": [
       "       Asst_Reg  Experience  Yearly_Income  Lend_Amount  Interest_Charged  \\\n",
       "0        421802          10      633600.00     42023.25             15.39   \n",
       "1       3964312           7       85483.20     38133.00              9.94   \n",
       "2       4247560           1       79200.00     17100.00             22.35   \n",
       "3        197179           1       61600.00      5130.00             10.36   \n",
       "4       4646684           2       68053.92     19665.00             13.68   \n",
       "...         ...         ...            ...          ...               ...   \n",
       "87494   5409793           1      246400.00     20520.00             12.62   \n",
       "87495   4535984          10       75680.00     10260.00              8.35   \n",
       "87496   2624710           3       90423.52     27360.00             24.18   \n",
       "87497   5966919          10       91520.00      8550.00             11.03   \n",
       "87498   2630667           1       61600.00     23769.00             22.52   \n",
       "\n",
       "       Usage_Rate  Present_Balance  Due_Fee  Unpaid_Amount  \n",
       "0          88.924        607161.90      0.0       31216.05  \n",
       "1         102.856        269234.06      0.0       11660.49  \n",
       "2          60.372         22476.53      0.0        5637.87  \n",
       "3         116.272         15242.09      0.0       15607.17  \n",
       "4         127.280         65433.94      0.0       27472.86  \n",
       "...           ...              ...      ...            ...  \n",
       "87494      87.720        350087.11      0.0       10383.12  \n",
       "87495      51.084         15100.14      0.0       10012.05  \n",
       "87496     129.172        102811.88      0.0       24921.54  \n",
       "87497      83.420         14584.11      0.0       14517.90  \n",
       "87498      56.760         59281.66      0.0        8454.24  \n",
       "\n",
       "[77376 rows x 9 columns]"
      ]
     },
     "execution_count": 85,
     "metadata": {},
     "output_type": "execute_result"
    }
   ],
   "source": [
    "#DATA FRAME COM VARIÁVEIS CONTINUAS\n",
    "vnumcont=['Asst_Reg','Experience','Yearly_Income','Lend_Amount','Interest_Charged','Usage_Rate','Present_Balance',\\\n",
    "            'Due_Fee','Unpaid_Amount']\n",
    "numcont=df[vnumcont]\n",
    "#vale a pena ter duratio como continua?\n",
    "numcont"
   ]
  },
  {
   "cell_type": "code",
   "execution_count": 46,
   "metadata": {},
   "outputs": [
    {
     "data": {
      "image/png": "[encoded data removed]",
      "text/plain": [
       "<Figure size 1440x1080 with 9 Axes>"
      ]
     },
     "metadata": {
      "needs_background": "light"
     },
     "output_type": "display_data"
    }
   ],
   "source": [
    "#plots\n",
    "numcont.hist(bins=25,figsize=(20,15))\n",
    "plt.show()"
   ]
  },
  {
   "cell_type": "code",
   "execution_count": 14,
   "metadata": {},
   "outputs": [
    {
     "data": {
      "text/html": [
       "<div>\n",
       "<style scoped>\n",
       "    .dataframe tbody tr th:only-of-type {\n",
       "        vertical-align: middle;\n",
       "    }\n",
       "\n",
       "    .dataframe tbody tr th {\n",
       "        vertical-align: top;\n",
       "    }\n",
       "\n",
       "    .dataframe thead th {\n",
       "        text-align: right;\n",
       "    }\n",
       "</style>\n",
       "<table border=\"1\" class=\"dataframe\">\n",
       "  <thead>\n",
       "    <tr style=\"text-align: right;\">\n",
       "      <th></th>\n",
       "      <th>Asst_Reg</th>\n",
       "      <th>Experience</th>\n",
       "      <th>Yearly_Income</th>\n",
       "      <th>Lend_Amount</th>\n",
       "      <th>Interest_Charged</th>\n",
       "      <th>Usage_Rate</th>\n",
       "      <th>Present_Balance</th>\n",
       "      <th>Duration</th>\n",
       "      <th>Unpaid_Amount</th>\n",
       "    </tr>\n",
       "  </thead>\n",
       "  <tbody>\n",
       "    <tr>\n",
       "      <th>count</th>\n",
       "      <td>7.737600e+04</td>\n",
       "      <td>77376.000000</td>\n",
       "      <td>7.737600e+04</td>\n",
       "      <td>77376.000000</td>\n",
       "      <td>77376.000000</td>\n",
       "      <td>77376.000000</td>\n",
       "      <td>7.737600e+04</td>\n",
       "      <td>77376.000000</td>\n",
       "      <td>7.737600e+04</td>\n",
       "    </tr>\n",
       "    <tr>\n",
       "      <th>mean</th>\n",
       "      <td>3.801793e+06</td>\n",
       "      <td>6.144360</td>\n",
       "      <td>1.349915e+05</td>\n",
       "      <td>25927.213109</td>\n",
       "      <td>16.518339</td>\n",
       "      <td>95.489869</td>\n",
       "      <td>2.363786e+05</td>\n",
       "      <td>3.627197</td>\n",
       "      <td>2.953228e+04</td>\n",
       "    </tr>\n",
       "    <tr>\n",
       "      <th>std</th>\n",
       "      <td>2.289120e+06</td>\n",
       "      <td>3.538256</td>\n",
       "      <td>9.953162e+04</td>\n",
       "      <td>14443.738100</td>\n",
       "      <td>4.905345</td>\n",
       "      <td>40.610291</td>\n",
       "      <td>2.553444e+05</td>\n",
       "      <td>0.927917</td>\n",
       "      <td>3.757589e+04</td>\n",
       "    </tr>\n",
       "    <tr>\n",
       "      <th>min</th>\n",
       "      <td>2.484700e+04</td>\n",
       "      <td>1.000000</td>\n",
       "      <td>8.800000e+03</td>\n",
       "      <td>1710.000000</td>\n",
       "      <td>8.000000</td>\n",
       "      <td>0.000000</td>\n",
       "      <td>0.000000e+00</td>\n",
       "      <td>3.000000</td>\n",
       "      <td>0.000000e+00</td>\n",
       "    </tr>\n",
       "    <tr>\n",
       "      <th>25%</th>\n",
       "      <td>1.486830e+06</td>\n",
       "      <td>3.000000</td>\n",
       "      <td>8.330256e+04</td>\n",
       "      <td>15048.000000</td>\n",
       "      <td>12.310000</td>\n",
       "      <td>66.048000</td>\n",
       "      <td>5.181092e+04</td>\n",
       "      <td>3.000000</td>\n",
       "      <td>1.144332e+04</td>\n",
       "    </tr>\n",
       "    <tr>\n",
       "      <th>50%</th>\n",
       "      <td>4.133126e+06</td>\n",
       "      <td>7.000000</td>\n",
       "      <td>1.144000e+05</td>\n",
       "      <td>23940.000000</td>\n",
       "      <td>16.490000</td>\n",
       "      <td>97.008000</td>\n",
       "      <td>1.386309e+05</td>\n",
       "      <td>3.000000</td>\n",
       "      <td>2.088594e+04</td>\n",
       "    </tr>\n",
       "    <tr>\n",
       "      <th>75%</th>\n",
       "      <td>5.956216e+06</td>\n",
       "      <td>10.000000</td>\n",
       "      <td>1.601600e+05</td>\n",
       "      <td>34200.000000</td>\n",
       "      <td>20.772500</td>\n",
       "      <td>126.592000</td>\n",
       "      <td>3.535544e+05</td>\n",
       "      <td>5.000000</td>\n",
       "      <td>3.643497e+04</td>\n",
       "    </tr>\n",
       "    <tr>\n",
       "      <th>max</th>\n",
       "      <td>7.351847e+06</td>\n",
       "      <td>10.000000</td>\n",
       "      <td>8.264031e+06</td>\n",
       "      <td>59850.000000</td>\n",
       "      <td>25.000000</td>\n",
       "      <td>1534.756000</td>\n",
       "      <td>5.629234e+06</td>\n",
       "      <td>5.000000</td>\n",
       "      <td>1.338778e+06</td>\n",
       "    </tr>\n",
       "  </tbody>\n",
       "</table>\n",
       "</div>"
      ],
      "text/plain": [
       "           Asst_Reg    Experience  Yearly_Income   Lend_Amount  \\\n",
       "count  7.737600e+04  77376.000000   7.737600e+04  77376.000000   \n",
       "mean   3.801793e+06      6.144360   1.349915e+05  25927.213109   \n",
       "std    2.289120e+06      3.538256   9.953162e+04  14443.738100   \n",
       "min    2.484700e+04      1.000000   8.800000e+03   1710.000000   \n",
       "25%    1.486830e+06      3.000000   8.330256e+04  15048.000000   \n",
       "50%    4.133126e+06      7.000000   1.144000e+05  23940.000000   \n",
       "75%    5.956216e+06     10.000000   1.601600e+05  34200.000000   \n",
       "max    7.351847e+06     10.000000   8.264031e+06  59850.000000   \n",
       "\n",
       "       Interest_Charged    Usage_Rate  Present_Balance      Duration  \\\n",
       "count      77376.000000  77376.000000     7.737600e+04  77376.000000   \n",
       "mean          16.518339     95.489869     2.363786e+05      3.627197   \n",
       "std            4.905345     40.610291     2.553444e+05      0.927917   \n",
       "min            8.000000      0.000000     0.000000e+00      3.000000   \n",
       "25%           12.310000     66.048000     5.181092e+04      3.000000   \n",
       "50%           16.490000     97.008000     1.386309e+05      3.000000   \n",
       "75%           20.772500    126.592000     3.535544e+05      5.000000   \n",
       "max           25.000000   1534.756000     5.629234e+06      5.000000   \n",
       "\n",
       "       Unpaid_Amount  \n",
       "count   7.737600e+04  \n",
       "mean    2.953228e+04  \n",
       "std     3.757589e+04  \n",
       "min     0.000000e+00  \n",
       "25%     1.144332e+04  \n",
       "50%     2.088594e+04  \n",
       "75%     3.643497e+04  \n",
       "max     1.338778e+06  "
      ]
     },
     "execution_count": 14,
     "metadata": {},
     "output_type": "execute_result"
    }
   ],
   "source": [
    "numcont.describe()"
   ]
  },
  {
   "cell_type": "code",
   "execution_count": 87,
   "metadata": {},
   "outputs": [
    {
     "data": {
      "image/png": "[encoded data removed]",
      "text/plain": [
       "<Figure size 432x288 with 1 Axes>"
      ]
     },
     "metadata": {
      "needs_background": "light"
     },
     "output_type": "display_data"
    },
    {
     "data": {
      "image/png": "[encoded data removed]",
      "text/plain": [
       "<Figure size 432x288 with 1 Axes>"
      ]
     },
     "metadata": {
      "needs_background": "light"
     },
     "output_type": "display_data"
    },
    {
     "data": {
      "image/png": "[encoded data removed]",
      "text/plain": [
       "<Figure size 432x288 with 1 Axes>"
      ]
     },
     "metadata": {
      "needs_background": "light"
     },
     "output_type": "display_data"
    },
    {
     "data": {
      "image/png": "[encoded data removed]",
      "text/plain": [
       "<Figure size 432x288 with 1 Axes>"
      ]
     },
     "metadata": {
      "needs_background": "light"
     },
     "output_type": "display_data"
    },
    {
     "data": {
      "image/png": "[encoded data removed]",
      "text/plain": [
       "<Figure size 432x288 with 1 Axes>"
      ]
     },
     "metadata": {
      "needs_background": "light"
     },
     "output_type": "display_data"
    },
    {
     "data": {
      "image/png": "[encoded data removed]",
      "text/plain": [
       "<Figure size 432x288 with 1 Axes>"
      ]
     },
     "metadata": {
      "needs_background": "light"
     },
     "output_type": "display_data"
    },
    {
     "data": {
      "image/png": "[encoded data removed]",
      "text/plain": [
       "<Figure size 432x288 with 1 Axes>"
      ]
     },
     "metadata": {
      "needs_background": "light"
     },
     "output_type": "display_data"
    },
    {
     "data": {
      "image/png": "[encoded data removed]",
      "text/plain": [
       "<Figure size 432x288 with 1 Axes>"
      ]
     },
     "metadata": {
      "needs_background": "light"
     },
     "output_type": "display_data"
    },
    {
     "data": {
      "image/png": "[encoded data removed]",
      "text/plain": [
       "<Figure size 432x288 with 1 Axes>"
      ]
     },
     "metadata": {
      "needs_background": "light"
     },
     "output_type": "display_data"
    }
   ],
   "source": [
    "#df.boxplot(by ='day', column =['total_bill'], grid = False)\n",
    "#realnum.boxplot(figsize=(20,15))\n",
    "#plt.show()\n",
    "#DataFrame.boxplot(column=None, by=None, ax=None, fontsize=None, rot=0, \n",
    "#grid=True, figsize=None, layout=None, return_type=None, backend=None, **kwargs)\n",
    "\n",
    "for i in numcont.columns:\n",
    "    plt.figure()\n",
    "    df.boxplot(column = i)\n",
    "\n",
    "#fazer scroll na imagem, gerou todos os boxplots!"
   ]
  },
  {
   "cell_type": "code",
   "execution_count": 88,
   "metadata": {},
   "outputs": [
    {
     "data": {
      "text/html": [
       "<div>\n",
       "<style scoped>\n",
       "    .dataframe tbody tr th:only-of-type {\n",
       "        vertical-align: middle;\n",
       "    }\n",
       "\n",
       "    .dataframe tbody tr th {\n",
       "        vertical-align: top;\n",
       "    }\n",
       "\n",
       "    .dataframe thead th {\n",
       "        text-align: right;\n",
       "    }\n",
       "</style>\n",
       "<table border=\"1\" class=\"dataframe\">\n",
       "  <thead>\n",
       "    <tr style=\"text-align: right;\">\n",
       "      <th></th>\n",
       "      <th>Unpaid_2_years</th>\n",
       "      <th>Already_Defaulted</th>\n",
       "      <th>Account_Open</th>\n",
       "      <th>Duration</th>\n",
       "    </tr>\n",
       "  </thead>\n",
       "  <tbody>\n",
       "    <tr>\n",
       "      <th>0</th>\n",
       "      <td>0</td>\n",
       "      <td>0</td>\n",
       "      <td>17</td>\n",
       "      <td>3</td>\n",
       "    </tr>\n",
       "    <tr>\n",
       "      <th>1</th>\n",
       "      <td>0</td>\n",
       "      <td>0</td>\n",
       "      <td>15</td>\n",
       "      <td>5</td>\n",
       "    </tr>\n",
       "    <tr>\n",
       "      <th>2</th>\n",
       "      <td>0</td>\n",
       "      <td>0</td>\n",
       "      <td>7</td>\n",
       "      <td>5</td>\n",
       "    </tr>\n",
       "    <tr>\n",
       "      <th>3</th>\n",
       "      <td>0</td>\n",
       "      <td>0</td>\n",
       "      <td>9</td>\n",
       "      <td>3</td>\n",
       "    </tr>\n",
       "    <tr>\n",
       "      <th>4</th>\n",
       "      <td>0</td>\n",
       "      <td>0</td>\n",
       "      <td>10</td>\n",
       "      <td>5</td>\n",
       "    </tr>\n",
       "  </tbody>\n",
       "</table>\n",
       "</div>"
      ],
      "text/plain": [
       "   Unpaid_2_years  Already_Defaulted  Account_Open  Duration\n",
       "0               0                  0            17         3\n",
       "1               0                  0            15         5\n",
       "2               0                  0             7         5\n",
       "3               0                  0             9         3\n",
       "4               0                  0            10         5"
      ]
     },
     "execution_count": 88,
     "metadata": {},
     "output_type": "execute_result"
    }
   ],
   "source": [
    "#criar dataframe de variaveis numericas discretas\n",
    "vnumdisc=['Unpaid_2_years','Already_Defaulted','Account_Open','Duration']\n",
    "numdisc=df[vnumdisc]\n",
    "numdisc.head()\n",
    "#TEMOS QUE TER PELO MENOS UMA VARIÁVEL ORDINAL"
   ]
  },
  {
   "cell_type": "code",
   "execution_count": 92,
   "metadata": {},
   "outputs": [
    {
     "data": {
      "text/html": [
       "<div>\n",
       "<style scoped>\n",
       "    .dataframe tbody tr th:only-of-type {\n",
       "        vertical-align: middle;\n",
       "    }\n",
       "\n",
       "    .dataframe tbody tr th {\n",
       "        vertical-align: top;\n",
       "    }\n",
       "\n",
       "    .dataframe thead th {\n",
       "        text-align: right;\n",
       "    }\n",
       "</style>\n",
       "<table border=\"1\" class=\"dataframe\">\n",
       "  <thead>\n",
       "    <tr style=\"text-align: right;\">\n",
       "      <th></th>\n",
       "      <th>Unpaid_2_years</th>\n",
       "      <th>Already_Defaulted</th>\n",
       "      <th>Account_Open</th>\n",
       "      <th>Duration</th>\n",
       "    </tr>\n",
       "  </thead>\n",
       "  <tbody>\n",
       "    <tr>\n",
       "      <th>count</th>\n",
       "      <td>77376.000000</td>\n",
       "      <td>77376.000000</td>\n",
       "      <td>77376.000000</td>\n",
       "      <td>77376.000000</td>\n",
       "    </tr>\n",
       "    <tr>\n",
       "      <th>mean</th>\n",
       "      <td>0.331873</td>\n",
       "      <td>0.005609</td>\n",
       "      <td>12.781961</td>\n",
       "      <td>3.627197</td>\n",
       "    </tr>\n",
       "    <tr>\n",
       "      <th>std</th>\n",
       "      <td>0.875049</td>\n",
       "      <td>0.083197</td>\n",
       "      <td>5.381400</td>\n",
       "      <td>0.927917</td>\n",
       "    </tr>\n",
       "    <tr>\n",
       "      <th>min</th>\n",
       "      <td>0.000000</td>\n",
       "      <td>0.000000</td>\n",
       "      <td>2.000000</td>\n",
       "      <td>3.000000</td>\n",
       "    </tr>\n",
       "    <tr>\n",
       "      <th>25%</th>\n",
       "      <td>0.000000</td>\n",
       "      <td>0.000000</td>\n",
       "      <td>9.000000</td>\n",
       "      <td>3.000000</td>\n",
       "    </tr>\n",
       "    <tr>\n",
       "      <th>50%</th>\n",
       "      <td>0.000000</td>\n",
       "      <td>0.000000</td>\n",
       "      <td>12.000000</td>\n",
       "      <td>3.000000</td>\n",
       "    </tr>\n",
       "    <tr>\n",
       "      <th>75%</th>\n",
       "      <td>0.000000</td>\n",
       "      <td>0.000000</td>\n",
       "      <td>16.000000</td>\n",
       "      <td>5.000000</td>\n",
       "    </tr>\n",
       "    <tr>\n",
       "      <th>max</th>\n",
       "      <td>18.000000</td>\n",
       "      <td>6.000000</td>\n",
       "      <td>83.000000</td>\n",
       "      <td>5.000000</td>\n",
       "    </tr>\n",
       "  </tbody>\n",
       "</table>\n",
       "</div>"
      ],
      "text/plain": [
       "       Unpaid_2_years  Already_Defaulted  Account_Open      Duration\n",
       "count    77376.000000       77376.000000  77376.000000  77376.000000\n",
       "mean         0.331873           0.005609     12.781961      3.627197\n",
       "std          0.875049           0.083197      5.381400      0.927917\n",
       "min          0.000000           0.000000      2.000000      3.000000\n",
       "25%          0.000000           0.000000      9.000000      3.000000\n",
       "50%          0.000000           0.000000     12.000000      3.000000\n",
       "75%          0.000000           0.000000     16.000000      5.000000\n",
       "max         18.000000           6.000000     83.000000      5.000000"
      ]
     },
     "execution_count": 92,
     "metadata": {},
     "output_type": "execute_result"
    }
   ],
   "source": [
    "numdisc.describe()"
   ]
  },
  {
   "cell_type": "code",
   "execution_count": 93,
   "metadata": {},
   "outputs": [
    {
     "data": {
      "image/png": "[encoded data removed]",
      "text/plain": [
       "<Figure size 432x288 with 1 Axes>"
      ]
     },
     "metadata": {
      "needs_background": "light"
     },
     "output_type": "display_data"
    },
    {
     "data": {
      "image/png": "[encoded data removed]",
      "text/plain": [
       "<Figure size 432x288 with 1 Axes>"
      ]
     },
     "metadata": {
      "needs_background": "light"
     },
     "output_type": "display_data"
    },
    {
     "data": {
      "image/png": "[encoded data removed]",
      "text/plain": [
       "<Figure size 432x288 with 1 Axes>"
      ]
     },
     "metadata": {
      "needs_background": "light"
     },
     "output_type": "display_data"
    },
    {
     "data": {
      "image/png": "[encoded data removed]",
      "text/plain": [
       "<Figure size 432x288 with 1 Axes>"
      ]
     },
     "metadata": {
      "needs_background": "light"
     },
     "output_type": "display_data"
    }
   ],
   "source": [
    "#histograma de tudo o que está em numdisc\n",
    "for i in numdisc.columns:\n",
    "    plt.figure()\n",
    "    numdisc[i].value_counts().plot(kind='bar',title=i)"
   ]
  },
  {
   "cell_type": "code",
   "execution_count": 91,
   "metadata": {},
   "outputs": [
    {
     "data": {
      "text/html": [
       "<div>\n",
       "<style scoped>\n",
       "    .dataframe tbody tr th:only-of-type {\n",
       "        vertical-align: middle;\n",
       "    }\n",
       "\n",
       "    .dataframe tbody tr th {\n",
       "        vertical-align: top;\n",
       "    }\n",
       "\n",
       "    .dataframe thead th {\n",
       "        text-align: right;\n",
       "    }\n",
       "</style>\n",
       "<table border=\"1\" class=\"dataframe\">\n",
       "  <thead>\n",
       "    <tr style=\"text-align: right;\">\n",
       "      <th></th>\n",
       "      <th>Home_Status</th>\n",
       "      <th>State</th>\n",
       "      <th>Reason</th>\n",
       "      <th>Claim_Type</th>\n",
       "    </tr>\n",
       "  </thead>\n",
       "  <tbody>\n",
       "    <tr>\n",
       "      <th>0</th>\n",
       "      <td>MORTGAGE</td>\n",
       "      <td>California</td>\n",
       "      <td>debt  consolidation</td>\n",
       "      <td>I</td>\n",
       "    </tr>\n",
       "    <tr>\n",
       "      <th>1</th>\n",
       "      <td>RENT</td>\n",
       "      <td>NC</td>\n",
       "      <td>debt  consolidation</td>\n",
       "      <td>I</td>\n",
       "    </tr>\n",
       "    <tr>\n",
       "      <th>2</th>\n",
       "      <td>RENT</td>\n",
       "      <td>Florida</td>\n",
       "      <td>major  purchase</td>\n",
       "      <td>I</td>\n",
       "    </tr>\n",
       "    <tr>\n",
       "      <th>3</th>\n",
       "      <td>RENT</td>\n",
       "      <td>NewJersey</td>\n",
       "      <td>major  purchase</td>\n",
       "      <td>I</td>\n",
       "    </tr>\n",
       "    <tr>\n",
       "      <th>4</th>\n",
       "      <td>RENT</td>\n",
       "      <td>LA</td>\n",
       "      <td>debt  consolidation</td>\n",
       "      <td>I</td>\n",
       "    </tr>\n",
       "  </tbody>\n",
       "</table>\n",
       "</div>"
      ],
      "text/plain": [
       "  Home_Status       State               Reason Claim_Type\n",
       "0    MORTGAGE  California  debt  consolidation          I\n",
       "1        RENT          NC  debt  consolidation          I\n",
       "2        RENT     Florida      major  purchase          I\n",
       "3        RENT   NewJersey      major  purchase          I\n",
       "4        RENT          LA  debt  consolidation          I"
      ]
     },
     "execution_count": 91,
     "metadata": {},
     "output_type": "execute_result"
    }
   ],
   "source": [
    "#dataframe features categoricas\n",
    "vcat=['Home_Status','State','Reason','Claim_Type']\n",
    "cat=df[vcat]\n",
    "cat.head()"
   ]
  },
  {
   "cell_type": "code",
   "execution_count": 66,
   "metadata": {},
   "outputs": [
    {
     "data": {
      "text/html": [
       "<div>\n",
       "<style scoped>\n",
       "    .dataframe tbody tr th:only-of-type {\n",
       "        vertical-align: middle;\n",
       "    }\n",
       "\n",
       "    .dataframe tbody tr th {\n",
       "        vertical-align: top;\n",
       "    }\n",
       "\n",
       "    .dataframe thead th {\n",
       "        text-align: right;\n",
       "    }\n",
       "</style>\n",
       "<table border=\"1\" class=\"dataframe\">\n",
       "  <thead>\n",
       "    <tr style=\"text-align: right;\">\n",
       "      <th></th>\n",
       "      <th>Home_Status</th>\n",
       "      <th>State</th>\n",
       "      <th>Reason</th>\n",
       "      <th>Claim_Type</th>\n",
       "    </tr>\n",
       "  </thead>\n",
       "  <tbody>\n",
       "    <tr>\n",
       "      <th>count</th>\n",
       "      <td>77376</td>\n",
       "      <td>77376</td>\n",
       "      <td>77376</td>\n",
       "      <td>77376</td>\n",
       "    </tr>\n",
       "    <tr>\n",
       "      <th>unique</th>\n",
       "      <td>5</td>\n",
       "      <td>49</td>\n",
       "      <td>13</td>\n",
       "      <td>2</td>\n",
       "    </tr>\n",
       "    <tr>\n",
       "      <th>top</th>\n",
       "      <td>MORTGAGE</td>\n",
       "      <td>California</td>\n",
       "      <td>debt  consolidation</td>\n",
       "      <td>I</td>\n",
       "    </tr>\n",
       "    <tr>\n",
       "      <th>freq</th>\n",
       "      <td>39077</td>\n",
       "      <td>11194</td>\n",
       "      <td>46471</td>\n",
       "      <td>77337</td>\n",
       "    </tr>\n",
       "  </tbody>\n",
       "</table>\n",
       "</div>"
      ],
      "text/plain": [
       "       Home_Status       State               Reason Claim_Type\n",
       "count        77376       77376                77376      77376\n",
       "unique           5          49                   13          2\n",
       "top       MORTGAGE  California  debt  consolidation          I\n",
       "freq         39077       11194                46471      77337"
      ]
     },
     "execution_count": 66,
     "metadata": {},
     "output_type": "execute_result"
    }
   ],
   "source": [
    "cat.describe()"
   ]
  },
  {
   "cell_type": "code",
   "execution_count": 94,
   "metadata": {
    "scrolled": true
   },
   "outputs": [
    {
     "name": "stdout",
     "output_type": "stream",
     "text": [
      "MORTGAGE    39077\n",
      "RENT        30853\n",
      "OWN          7436\n",
      "OTHER           6\n",
      "NONE            4\n",
      "Name: Home_Status, dtype: int64\n",
      "California    11194\n",
      "Newyork        6414\n",
      "TX             6307\n",
      "Florida        5149\n",
      "IL             3091\n",
      "NewJersey      2877\n",
      "PA             2797\n",
      "Ohio           2602\n",
      "GA             2572\n",
      "VA             2251\n",
      "NC             2230\n",
      "MI             1995\n",
      "Maryland       1857\n",
      "AZ             1797\n",
      "MA             1764\n",
      "CO             1685\n",
      "WA             1627\n",
      "MN             1493\n",
      "IN             1276\n",
      "MO             1253\n",
      "TN             1184\n",
      "CT             1172\n",
      "NV             1039\n",
      "AL              999\n",
      "WI              990\n",
      "OR              929\n",
      "LA              908\n",
      "SC              888\n",
      "KY              728\n",
      "KS              722\n",
      "OK              676\n",
      "AR              564\n",
      "UT              556\n",
      "NM              424\n",
      "HI              423\n",
      "MS              370\n",
      "NH              365\n",
      "WV              344\n",
      "RI              337\n",
      "MT              225\n",
      "DC              206\n",
      "DE              205\n",
      "AK              198\n",
      "WY              167\n",
      "SD              162\n",
      "VT              155\n",
      "NE              120\n",
      "ND               45\n",
      "ME               44\n",
      "Name: State, dtype: int64\n",
      "debt  consolidation    46471\n",
      "credit  card           18626\n",
      "home  improvement       4326\n",
      "other                   3366\n",
      "major  purchase         1338\n",
      "medical                  717\n",
      "small  business          675\n",
      "car                      622\n",
      "moving                   446\n",
      "vacation                 367\n",
      "house                    290\n",
      "wedding                   96\n",
      "RENTwable  energy         36\n",
      "Name: Reason, dtype: int64\n",
      "I    77337\n",
      "J       39\n",
      "Name: Claim_Type, dtype: int64\n"
     ]
    },
    {
     "data": {
      "image/png": "[encoded data removed]",
      "text/plain": [
       "<Figure size 432x288 with 1 Axes>"
      ]
     },
     "metadata": {
      "needs_background": "light"
     },
     "output_type": "display_data"
    },
    {
     "data": {
      "image/png": "[encoded data removed]",
      "text/plain": [
       "<Figure size 432x288 with 1 Axes>"
      ]
     },
     "metadata": {
      "needs_background": "light"
     },
     "output_type": "display_data"
    },
    {
     "data": {
      "image/png": "[encoded data removed]",
      "text/plain": [
       "<Figure size 432x288 with 1 Axes>"
      ]
     },
     "metadata": {
      "needs_background": "light"
     },
     "output_type": "display_data"
    },
    {
     "data": {
      "image/png": "[encoded data removed]",
      "text/plain": [
       "<Figure size 432x288 with 1 Axes>"
      ]
     },
     "metadata": {
      "needs_background": "light"
     },
     "output_type": "display_data"
    }
   ],
   "source": [
    "#fazer histograma das categoricas e value_counts (para ver se há categorias de pouca relevancia)\n",
    "for i in cat.columns:\n",
    "    plt.figure()\n",
    "    print(cat[i].value_counts())\n",
    "    cat[i].value_counts().plot(kind='bar',title=i)"
   ]
  },
  {
   "cell_type": "code",
   "execution_count": 23,
   "metadata": {},
   "outputs": [
    {
     "data": {
      "text/plain": [
       "0    0.810936\n",
       "1    0.189064\n",
       "Name: Default, dtype: float64"
      ]
     },
     "execution_count": 23,
     "metadata": {},
     "output_type": "execute_result"
    }
   ],
   "source": []
  },
  {
   "cell_type": "code",
   "execution_count": 67,
   "metadata": {
    "scrolled": true
   },
   "outputs": [
    {
     "data": {
      "text/html": [
       "<div>\n",
       "<style scoped>\n",
       "    .dataframe tbody tr th:only-of-type {\n",
       "        vertical-align: middle;\n",
       "    }\n",
       "\n",
       "    .dataframe tbody tr th {\n",
       "        vertical-align: top;\n",
       "    }\n",
       "\n",
       "    .dataframe thead th {\n",
       "        text-align: right;\n",
       "    }\n",
       "</style>\n",
       "<table border=\"1\" class=\"dataframe\">\n",
       "  <thead>\n",
       "    <tr style=\"text-align: right;\">\n",
       "      <th></th>\n",
       "      <th>Asst_Reg</th>\n",
       "      <th>Experience</th>\n",
       "      <th>Yearly_Income</th>\n",
       "      <th>Lend_Amount</th>\n",
       "      <th>Interest_Charged</th>\n",
       "      <th>Usage_Rate</th>\n",
       "      <th>Present_Balance</th>\n",
       "      <th>Due_Fee</th>\n",
       "      <th>Unpaid_Amount</th>\n",
       "    </tr>\n",
       "  </thead>\n",
       "  <tbody>\n",
       "    <tr>\n",
       "      <th>Asst_Reg</th>\n",
       "      <td>1.000000</td>\n",
       "      <td>-0.011723</td>\n",
       "      <td>0.035239</td>\n",
       "      <td>0.037186</td>\n",
       "      <td>-0.002571</td>\n",
       "      <td>-0.074240</td>\n",
       "      <td>0.011439</td>\n",
       "      <td>-0.064270</td>\n",
       "      <td>0.032632</td>\n",
       "    </tr>\n",
       "    <tr>\n",
       "      <th>Experience</th>\n",
       "      <td>-0.011723</td>\n",
       "      <td>1.000000</td>\n",
       "      <td>0.065124</td>\n",
       "      <td>0.092587</td>\n",
       "      <td>-0.001331</td>\n",
       "      <td>0.035039</td>\n",
       "      <td>0.099956</td>\n",
       "      <td>-0.005956</td>\n",
       "      <td>0.086779</td>\n",
       "    </tr>\n",
       "    <tr>\n",
       "      <th>Yearly_Income</th>\n",
       "      <td>0.035239</td>\n",
       "      <td>0.065124</td>\n",
       "      <td>1.000000</td>\n",
       "      <td>0.377743</td>\n",
       "      <td>0.000422</td>\n",
       "      <td>0.046129</td>\n",
       "      <td>0.480897</td>\n",
       "      <td>0.010549</td>\n",
       "      <td>0.346428</td>\n",
       "    </tr>\n",
       "    <tr>\n",
       "      <th>Lend_Amount</th>\n",
       "      <td>0.037186</td>\n",
       "      <td>0.092587</td>\n",
       "      <td>0.377743</td>\n",
       "      <td>1.000000</td>\n",
       "      <td>-0.002254</td>\n",
       "      <td>0.114093</td>\n",
       "      <td>0.322504</td>\n",
       "      <td>0.036823</td>\n",
       "      <td>0.343429</td>\n",
       "    </tr>\n",
       "    <tr>\n",
       "      <th>Interest_Charged</th>\n",
       "      <td>-0.002571</td>\n",
       "      <td>-0.001331</td>\n",
       "      <td>0.000422</td>\n",
       "      <td>-0.002254</td>\n",
       "      <td>1.000000</td>\n",
       "      <td>-0.001309</td>\n",
       "      <td>-0.002172</td>\n",
       "      <td>-0.001261</td>\n",
       "      <td>0.003999</td>\n",
       "    </tr>\n",
       "    <tr>\n",
       "      <th>Usage_Rate</th>\n",
       "      <td>-0.074240</td>\n",
       "      <td>0.035039</td>\n",
       "      <td>0.046129</td>\n",
       "      <td>0.114093</td>\n",
       "      <td>-0.001309</td>\n",
       "      <td>1.000000</td>\n",
       "      <td>0.080116</td>\n",
       "      <td>0.024741</td>\n",
       "      <td>0.219969</td>\n",
       "    </tr>\n",
       "    <tr>\n",
       "      <th>Present_Balance</th>\n",
       "      <td>0.011439</td>\n",
       "      <td>0.099956</td>\n",
       "      <td>0.480897</td>\n",
       "      <td>0.322504</td>\n",
       "      <td>-0.002172</td>\n",
       "      <td>0.080116</td>\n",
       "      <td>1.000000</td>\n",
       "      <td>0.008945</td>\n",
       "      <td>0.431912</td>\n",
       "    </tr>\n",
       "    <tr>\n",
       "      <th>Due_Fee</th>\n",
       "      <td>-0.064270</td>\n",
       "      <td>-0.005956</td>\n",
       "      <td>0.010549</td>\n",
       "      <td>0.036823</td>\n",
       "      <td>-0.001261</td>\n",
       "      <td>0.024741</td>\n",
       "      <td>0.008945</td>\n",
       "      <td>1.000000</td>\n",
       "      <td>-0.004922</td>\n",
       "    </tr>\n",
       "    <tr>\n",
       "      <th>Unpaid_Amount</th>\n",
       "      <td>0.032632</td>\n",
       "      <td>0.086779</td>\n",
       "      <td>0.346428</td>\n",
       "      <td>0.343429</td>\n",
       "      <td>0.003999</td>\n",
       "      <td>0.219969</td>\n",
       "      <td>0.431912</td>\n",
       "      <td>-0.004922</td>\n",
       "      <td>1.000000</td>\n",
       "    </tr>\n",
       "  </tbody>\n",
       "</table>\n",
       "</div>"
      ],
      "text/plain": [
       "                  Asst_Reg  Experience  Yearly_Income  Lend_Amount  \\\n",
       "Asst_Reg          1.000000   -0.011723       0.035239     0.037186   \n",
       "Experience       -0.011723    1.000000       0.065124     0.092587   \n",
       "Yearly_Income     0.035239    0.065124       1.000000     0.377743   \n",
       "Lend_Amount       0.037186    0.092587       0.377743     1.000000   \n",
       "Interest_Charged -0.002571   -0.001331       0.000422    -0.002254   \n",
       "Usage_Rate       -0.074240    0.035039       0.046129     0.114093   \n",
       "Present_Balance   0.011439    0.099956       0.480897     0.322504   \n",
       "Due_Fee          -0.064270   -0.005956       0.010549     0.036823   \n",
       "Unpaid_Amount     0.032632    0.086779       0.346428     0.343429   \n",
       "\n",
       "                  Interest_Charged  Usage_Rate  Present_Balance   Due_Fee  \\\n",
       "Asst_Reg                 -0.002571   -0.074240         0.011439 -0.064270   \n",
       "Experience               -0.001331    0.035039         0.099956 -0.005956   \n",
       "Yearly_Income             0.000422    0.046129         0.480897  0.010549   \n",
       "Lend_Amount              -0.002254    0.114093         0.322504  0.036823   \n",
       "Interest_Charged          1.000000   -0.001309        -0.002172 -0.001261   \n",
       "Usage_Rate               -0.001309    1.000000         0.080116  0.024741   \n",
       "Present_Balance          -0.002172    0.080116         1.000000  0.008945   \n",
       "Due_Fee                  -0.001261    0.024741         0.008945  1.000000   \n",
       "Unpaid_Amount             0.003999    0.219969         0.431912 -0.004922   \n",
       "\n",
       "                  Unpaid_Amount  \n",
       "Asst_Reg               0.032632  \n",
       "Experience             0.086779  \n",
       "Yearly_Income          0.346428  \n",
       "Lend_Amount            0.343429  \n",
       "Interest_Charged       0.003999  \n",
       "Usage_Rate             0.219969  \n",
       "Present_Balance        0.431912  \n",
       "Due_Fee               -0.004922  \n",
       "Unpaid_Amount          1.000000  "
      ]
     },
     "execution_count": 67,
     "metadata": {},
     "output_type": "execute_result"
    }
   ],
   "source": [
    "#ver correlações\n",
    "#falta acrescentar label\n",
    "numcont.corr()\n",
    "#cuidado com a corr nas categoricas!"
   ]
  },
  {
   "cell_type": "code",
   "execution_count": 68,
   "metadata": {},
   "outputs": [
    {
     "data": {
      "text/plain": [
       "<matplotlib.axes._subplots.AxesSubplot at 0x7f001c89d910>"
      ]
     },
     "execution_count": 68,
     "metadata": {},
     "output_type": "execute_result"
    },
    {
     "data": {
      "image/png": "[encoded data removed]",
      "text/plain": [
       "<Figure size 432x288 with 2 Axes>"
      ]
     },
     "metadata": {
      "needs_background": "light"
     },
     "output_type": "display_data"
    }
   ],
   "source": [
    "c=numcont.corr()\n",
    "sns.heatmap(c,vmin=-1,vmax=1,center=0,cmap=sns.diverging_palette(20,220,50))"
   ]
  },
  {
   "cell_type": "code",
   "execution_count": 27,
   "metadata": {},
   "outputs": [],
   "source": [
    "#train_set, test_set = train_test_split(df,test_size=0.2,random_state=1)\n",
    "#ver como fazer para manter a % de defaults entre train e test!"
   ]
  },
  {
   "cell_type": "code",
   "execution_count": 28,
   "metadata": {},
   "outputs": [],
   "source": [
    "#pipeline\n",
    "class NewAttributes(BaseEstimator,TransformerMixin):\n",
    "    \n",
    "    def fit(self,X,y=None):\n",
    "        return self\n",
    "    \n",
    "    def transform(self,X,y=None):\n",
    "        test=X[:,2]/X[:,3]"
   ]
  },
  {
   "cell_type": "code",
   "execution_count": 29,
   "metadata": {},
   "outputs": [
    {
     "data": {
      "text/plain": [
       "10    27298\n",
       "1     11526\n",
       "2      7133\n",
       "3      6474\n",
       "5      4997\n",
       "4      4693\n",
       "7      4233\n",
       "8      4080\n",
       "6      3758\n",
       "9      3184\n",
       "Name: Experience, dtype: int64"
      ]
     },
     "execution_count": 29,
     "metadata": {},
     "output_type": "execute_result"
    }
   ],
   "source": [
    "#Análise das features\n",
    "df['Experience'].value_counts()"
   ]
  },
  {
   "cell_type": "code",
   "execution_count": 30,
   "metadata": {},
   "outputs": [
    {
     "data": {
      "image/png": "[encoded data removed]",
      "text/plain": [
       "<Figure size 432x288 with 1 Axes>"
      ]
     },
     "metadata": {
      "needs_background": "light"
     },
     "output_type": "display_data"
    }
   ],
   "source": [
    "#adicionar dataframe com o valor de values_count das variavei ordinais\n",
    "#Identificar os o número de pessoas por idade de experiencian\n",
    "degree_experience_counts=df['Experience'].value_counts()\n",
    "degree_experience_counts\n",
    "degree_experience_counts.plot(kind='bar');\n",
    "plt.title('Anos de experiencia');\n",
    "#adicionar verificação nas colunas de datatype object se não é para ser númerico"
   ]
  },
  {
   "cell_type": "code",
   "execution_count": 31,
   "metadata": {},
   "outputs": [
    {
     "data": {
      "text/html": [
       "<div>\n",
       "<style scoped>\n",
       "    .dataframe tbody tr th:only-of-type {\n",
       "        vertical-align: middle;\n",
       "    }\n",
       "\n",
       "    .dataframe tbody tr th {\n",
       "        vertical-align: top;\n",
       "    }\n",
       "\n",
       "    .dataframe thead th {\n",
       "        text-align: right;\n",
       "    }\n",
       "</style>\n",
       "<table border=\"1\" class=\"dataframe\">\n",
       "  <thead>\n",
       "    <tr style=\"text-align: right;\">\n",
       "      <th></th>\n",
       "      <th>Home_Status</th>\n",
       "      <th>File_Status</th>\n",
       "      <th>State</th>\n",
       "      <th>Reason</th>\n",
       "      <th>Claim_Type</th>\n",
       "    </tr>\n",
       "  </thead>\n",
       "  <tbody>\n",
       "    <tr>\n",
       "      <th>0</th>\n",
       "      <td>MORTGAGE</td>\n",
       "      <td>fully paid</td>\n",
       "      <td>California</td>\n",
       "      <td>debt  consolidation</td>\n",
       "      <td>I</td>\n",
       "    </tr>\n",
       "    <tr>\n",
       "      <th>1</th>\n",
       "      <td>RENT</td>\n",
       "      <td>whole</td>\n",
       "      <td>NC</td>\n",
       "      <td>debt  consolidation</td>\n",
       "      <td>I</td>\n",
       "    </tr>\n",
       "    <tr>\n",
       "      <th>2</th>\n",
       "      <td>RENT</td>\n",
       "      <td>whole</td>\n",
       "      <td>Florida</td>\n",
       "      <td>major  purchase</td>\n",
       "      <td>I</td>\n",
       "    </tr>\n",
       "    <tr>\n",
       "      <th>3</th>\n",
       "      <td>RENT</td>\n",
       "      <td>fully paid</td>\n",
       "      <td>NewJersey</td>\n",
       "      <td>major  purchase</td>\n",
       "      <td>I</td>\n",
       "    </tr>\n",
       "    <tr>\n",
       "      <th>4</th>\n",
       "      <td>RENT</td>\n",
       "      <td>fully paid</td>\n",
       "      <td>LA</td>\n",
       "      <td>debt  consolidation</td>\n",
       "      <td>I</td>\n",
       "    </tr>\n",
       "    <tr>\n",
       "      <th>...</th>\n",
       "      <td>...</td>\n",
       "      <td>...</td>\n",
       "      <td>...</td>\n",
       "      <td>...</td>\n",
       "      <td>...</td>\n",
       "    </tr>\n",
       "    <tr>\n",
       "      <th>87494</th>\n",
       "      <td>RENT</td>\n",
       "      <td>fully paid</td>\n",
       "      <td>Newyork</td>\n",
       "      <td>small  business</td>\n",
       "      <td>I</td>\n",
       "    </tr>\n",
       "    <tr>\n",
       "      <th>87495</th>\n",
       "      <td>RENT</td>\n",
       "      <td>whole</td>\n",
       "      <td>MI</td>\n",
       "      <td>debt  consolidation</td>\n",
       "      <td>I</td>\n",
       "    </tr>\n",
       "    <tr>\n",
       "      <th>87496</th>\n",
       "      <td>RENT</td>\n",
       "      <td>whole</td>\n",
       "      <td>MA</td>\n",
       "      <td>debt  consolidation</td>\n",
       "      <td>I</td>\n",
       "    </tr>\n",
       "    <tr>\n",
       "      <th>87497</th>\n",
       "      <td>MORTGAGE</td>\n",
       "      <td>fully paid</td>\n",
       "      <td>CT</td>\n",
       "      <td>debt  consolidation</td>\n",
       "      <td>I</td>\n",
       "    </tr>\n",
       "    <tr>\n",
       "      <th>87498</th>\n",
       "      <td>MORTGAGE</td>\n",
       "      <td>whole</td>\n",
       "      <td>PA</td>\n",
       "      <td>debt  consolidation</td>\n",
       "      <td>I</td>\n",
       "    </tr>\n",
       "  </tbody>\n",
       "</table>\n",
       "<p>77376 rows × 5 columns</p>\n",
       "</div>"
      ],
      "text/plain": [
       "      Home_Status File_Status       State               Reason Claim_Type\n",
       "0        MORTGAGE  fully paid  California  debt  consolidation          I\n",
       "1            RENT       whole          NC  debt  consolidation          I\n",
       "2            RENT       whole     Florida      major  purchase          I\n",
       "3            RENT  fully paid   NewJersey      major  purchase          I\n",
       "4            RENT  fully paid          LA  debt  consolidation          I\n",
       "...           ...         ...         ...                  ...        ...\n",
       "87494        RENT  fully paid     Newyork      small  business          I\n",
       "87495        RENT       whole          MI  debt  consolidation          I\n",
       "87496        RENT       whole          MA  debt  consolidation          I\n",
       "87497    MORTGAGE  fully paid          CT  debt  consolidation          I\n",
       "87498    MORTGAGE       whole          PA  debt  consolidation          I\n",
       "\n",
       "[77376 rows x 5 columns]"
      ]
     },
     "execution_count": 31,
     "metadata": {},
     "output_type": "execute_result"
    }
   ],
   "source": [
    "\n",
    "#adicionar dataframe com dados ordinais e categoricos com countable\n",
    "#DATA FRAME COM VARIÁVEIS CONTINUAS\n",
    "df.columns\n",
    "countable=df[['Home_Status','File_Status','State','Reason','Claim_Type']]\n",
    "countable\n"
   ]
  },
  {
   "cell_type": "code",
   "execution_count": 134,
   "metadata": {},
   "outputs": [
    {
     "data": {
      "image/png": "[encoded data removed]",
      "text/plain": [
       "<Figure size 432x288 with 1 Axes>"
      ]
     },
     "metadata": {
      "needs_background": "light"
     },
     "output_type": "display_data"
    }
   ],
   "source": [
    "#\n",
    "home_counts=df['Home_Status'].value_counts()\n",
    "home_counts.plot(kind='bar');\n",
    "plt.title('Estado da Casa');\n"
   ]
  },
  {
   "cell_type": "code",
   "execution_count": 135,
   "metadata": {},
   "outputs": [
    {
     "data": {
      "image/png": "[encoded data removed]",
      "text/plain": [
       "<Figure size 432x288 with 1 Axes>"
      ]
     },
     "metadata": {
      "needs_background": "light"
     },
     "output_type": "display_data"
    }
   ],
   "source": [
    "#Emprestimos pagos e não pagas\n",
    "file_counts=df['File_Status'].value_counts()\n",
    "file_counts.plot(kind='bar');\n",
    "plt.title('Estado empréstimos');"
   ]
  },
  {
   "cell_type": "code",
   "execution_count": 136,
   "metadata": {},
   "outputs": [
    {
     "data": {
      "image/png": "[encoded data removed]",
      "text/plain": [
       "<Figure size 432x288 with 1 Axes>"
      ]
     },
     "metadata": {
      "needs_background": "light"
     },
     "output_type": "display_data"
    }
   ],
   "source": [
    "#Pessoas por Estado\n",
    "state_counts=df['State'].value_counts()\n",
    "state_counts.plot(kind='bar');\n",
    "plt.title('Pessoas por Estado');"
   ]
  },
  {
   "cell_type": "code",
   "execution_count": 137,
   "metadata": {},
   "outputs": [
    {
     "data": {
      "image/png": "[encoded data removed]",
      "text/plain": [
       "<Figure size 432x288 with 1 Axes>"
      ]
     },
     "metadata": {
      "needs_background": "light"
     },
     "output_type": "display_data"
    }
   ],
   "source": [
    "#Razões por Pessoas\n",
    "reason_counts=df['Reason'].value_counts()\n",
    "reason_counts.plot(kind='bar');\n",
    "plt.title('Razões por Pessoas');"
   ]
  },
  {
   "cell_type": "code",
   "execution_count": 138,
   "metadata": {},
   "outputs": [
    {
     "data": {
      "image/png": "[encoded data removed]",
      "text/plain": [
       "<Figure size 432x288 with 1 Axes>"
      ]
     },
     "metadata": {
      "needs_background": "light"
     },
     "output_type": "display_data"
    }
   ],
   "source": [
    "#Tipo de empréstimo\n",
    "claim_counts=df['Claim_Type'].value_counts()\n",
    "claim_counts.plot(kind='bar', label='Model length');\n",
    "plt.legend(['I - Conta individual || J - Conta conjunta'],bbox_to_anchor =(0.85, 1.20))\n",
    "plt.title('Tipo de empréstimo');"
   ]
  },
  {
   "cell_type": "code",
   "execution_count": 139,
   "metadata": {},
   "outputs": [
    {
     "data": {
      "text/plain": [
       "<seaborn.axisgrid.FacetGrid at 0x2b41cdb2220>"
      ]
     },
     "execution_count": 139,
     "metadata": {},
     "output_type": "execute_result"
    },
    {
     "data": {
      "image/png": "[encoded data removed]",
      "text/plain": [
       "<Figure size 1800x360 with 5 Axes>"
      ]
     },
     "metadata": {
      "needs_background": "light"
     },
     "output_type": "display_data"
    }
   ],
   "source": [
    "sns.displot(data=df,x=\"Duration\",col=\"Home_Status\",kde=True)"
   ]
  },
  {
   "cell_type": "code",
   "execution_count": 112,
   "metadata": {},
   "outputs": [
    {
     "data": {
      "image/png": "[encoded data removed]",
      "text/plain": [
       "<Figure size 2073.6x324 with 2 Axes>"
      ]
     },
     "metadata": {
      "needs_background": "light"
     },
     "output_type": "display_data"
    }
   ],
   "source": [
    "\n",
    "g = sns.catplot(x=\"Home_Status\", col=\"File_Status\", col_wrap=8, \n",
    "                data=countable, \n",
    "                kind=\"count\", height=4.5, aspect=.8)"
   ]
  },
  {
   "cell_type": "code",
   "execution_count": 141,
   "metadata": {},
   "outputs": [
    {
     "data": {
      "image/png": "[encoded data removed]",
      "text/plain": [
       "<Figure size 2073.6x324 with 2 Axes>"
      ]
     },
     "metadata": {
      "needs_background": "light"
     },
     "output_type": "display_data"
    }
   ],
   "source": [
    "\n",
    "g = sns.catplot(x=\"Home_Status\", col=\"Claim_Type\", col_wrap=8, \n",
    "                data=countable, \n",
    "                kind=\"count\", height=4.5, aspect=.8)"
   ]
  },
  {
   "cell_type": "code",
   "execution_count": null,
   "metadata": {},
   "outputs": [],
   "source": []
  }
 ],
 "metadata": {
  "kernelspec": {
   "display_name": "Python 3",
   "language": "python",
   "name": "python3"
  },
  "language_info": {
   "codemirror_mode": {
    "name": "ipython",
    "version": 3
   },
   "file_extension": ".py",
   "mimetype": "text/x-python",
   "name": "python",
   "nbconvert_exporter": "python",
   "pygments_lexer": "ipython3",
   "version": "3.8.3"
  },
  "toc": {
   "base_numbering": 1,
   "nav_menu": {},
   "number_sections": true,
   "sideBar": true,
   "skip_h1_title": true,
   "title_cell": "Table of Contents",
   "title_sidebar": "Contents",
   "toc_cell": false,
   "toc_position": {
    "height": "calc(100% - 180px)",
    "left": "10px",
    "top": "150px",
    "width": "384px"
   },
   "toc_section_display": true,
   "toc_window_display": false
  }
 },
 "nbformat": 4,
 "nbformat_minor": 5
}
