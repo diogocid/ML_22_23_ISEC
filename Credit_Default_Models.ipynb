 "cells": [
  {
   "cell_type": "code",
   "execution_count": 1,
   "execution_count": null,
   "metadata": {},
   "outputs": [],
   "source": [
  },
  {
   "cell_type": "code",
   "execution_count": 2,
   "execution_count": null,
   "metadata": {},
   "outputs": [
    {
   "outputs": [],
   "source": [
    "#Import Dataset\n",
    "df = pd.read_csv('loan_default_prediction.csv')\n",
    "print(df.shape)"
   ]
  },
  {
   "cell_type": "code",
   "execution_count": null,
   "metadata": {},
   "outputs": [
    {
       "(87500, 17)"
      ]
     },
     "execution_count": 240,
     "metadata": {},
     "output_type": "execute_result"
    }
  },
  {
   "cell_type": "code",
   "outputs": [],
   "source": [
    "#drop\n",
    "vdrop=['ID','Validation','Designation','Debt_to_Income','Postal_Code','Deprecatory_Records',\\\n",
    "            'Inquiries','Gross_Collection','Sub_GGGrade','Total_Unpaid_CL','File_Status','Claim_Type','Due_Fee']\n",
    "df=df.drop(vdrop,axis=1)\n",
    "df.shape"
   ]
  },
  {
   "cell_type": "code",
   "execution_count": null,
   "metadata": {},
   "outputs": [],
   "source": [
    "def romanToInt(i):\n",
    "    roman = {'I':1,'V':5,'X':10,'L':50,'C':100,'D':500,'M':1000,'IV':4,'IX':9,'XL':40,'XC':90,'CD':400,'CM':900}\n",
    "    j = 0\n",
    "    num = 0\n",
    "    while j < len(i):\n",
    "        if j+1<len(i) and i[j:j+2] in roman:\n",
    "            num+=roman[i[j:j+2]]\n",
    "            j+=2\n",
    "        else:\n",
    "\n",
    "            num+=roman[i[j]]\n",
    "            j+=1\n",
    "    return num"
   ]
  },
  {
   "cell_type": "code",
   "execution_count": 242,
   "metadata": {},
   "outputs": [
    {
       "(77376, 18)"
      ]
     },
     "execution_count": 243,
     "metadata": {},
     "output_type": "execute_result"
    }
   "execution_count": null,
   "metadata": {},
   "outputs": [],
   "source": [
    "#eliminar observações com pelo menos uma feature sem valores\n",
    "df=df.dropna()\n",
    "#drop duplicates\n",
    "df.drop_duplicates()\n",
    "df.shape"
   ]
  },
  {
   "cell_type": "code",
   "execution_count": null,
   "metadata": {},
   "outputs": [
    {
       "4  debt  consolidation        0        0.403693  "
      ]
     },
     "execution_count": 244,
     "metadata": {},
     "output_type": "execute_result"
    }
  },
  {
   "cell_type": "code",
   "execution_count": 245,
   "outputs": [],
   "source": [
    "#df.describe()\n",
    "df.head(5)"
   ]
  },
  {
   "cell_type": "code",
   "execution_count": null,
   "metadata": {},
   "outputs": [],
   "source": [
    "v_num_cont=['Asst_Reg','Experience','Yearly_Income','Lend_Amount','Interest_Charged','Usage_Rate',\n",
    "            'Present_Balance','Unpaid_Amount','debt_to_income']\n",
    "v_num_disc=['Unpaid_2_years','Already_Defaulted','Account_Open']\n",
    "v_cat_ord=['Home_Status','State','Reason','Duration']#,'GGGrade']"
   ]
  },
  {
   "cell_type": "code",
   "execution_count": null,
   "metadata": {
    "scrolled": true
   },
   "outputs": [
    {
     "name": "stdout",
      "house                    290\n",
      "wedding                   96\n",
      "RENTwable  energy         36\n",
      "Name: Reason, dtype: int64\n",
      "3years    53111\n",
      "5years    24265\n",
      "Name: Duration, dtype: int64\n"
     ]
    }
   ],
  },
  {
   "cell_type": "code",
   "execution_count": 247,
   "metadata": {},
   "outputs": [
    {
    {
     "data": {
      "text/plain": [
       "(74542, 18)"
      ]
     },
     "execution_count": 9,
     "metadata": {},
     "output_type": "execute_result"
    }
  },
  {
   "cell_type": "code",
   "execution_count": 248,
   "metadata": {},
   "outputs": [
    {
     "data": {
      "text/plain": [
       "14184"
      ]
     },
      ]
     },
     "execution_count": 10,
     "metadata": {},
     "output_type": "execute_result"
    }
   "outputs": [],
   "source": [
    "#fazer histograma das categoricas e value_counts (verificar se há categorias de pouca relevancia)\n",
    "for i in v_cat_ord:\n",
    "    print(df[i].value_counts())"
   ]
  },
  {
   "cell_type": "code",
   "execution_count": null,
   "metadata": {},
   "outputs": [],
   "source": [
    "from scipy import stats\n",
    "display(df.shape)\n",
    "#remover observações com home status 'none' e 'other'\n",
    "df=df[(df['Home_Status']!='OTHER')&(df['Home_Status']!='NONE')]\n",
    "#remover linhas com outliers, definidos como mais que 3 desvios-padrão acima/abaixo da média\n",
    "df=df[(np.abs(stats.zscore(df[v_num_cont])) < 3).all(axis=1)]\n",
    "df.shape\n"
   ]
  },
  {
   "cell_type": "code",
   "execution_count": null,
   "metadata": {},
   "outputs": [],
   "source": [
    "#ver quantas observações têm default=1\n",
    "display((df['Default']==1).sum())\n",
    "#sample de 5000 obs com default =1\n",
    "defaulted = df[df['Default']==1].sample(n=5000, random_state=101)\n",
    "#sample de 5000 obs com default =0\n",
    "notdefault = df[df['Default']==0].sample(n=5000, random_state=101)\n",
    "#agregar as observações\n",
    "df = pd.concat([defaulted,notdefault],axis=0)\n",
    "df.shape"
   ]
  },
  {
   "cell_type": "code",
   "execution_count": null,
   "metadata": {},
   "outputs": [],
  {
   "cell_type": "code",
   "execution_count": null,
   "metadata": {},
   "outputs": [
    {
  },
  {
   "cell_type": "code",
   "execution_count": 250,
   "metadata": {},
   "outputs": [
    {
     "data": {
      "text/html": [
       "<div>\n",
       "<style scoped>\n",
       "    .dataframe tbody tr th:only-of-type {\n",
       "        vertical-align: middle;\n",
       "    }\n",
       "\n",
       "    .dataframe tbody tr th {\n",
       "        vertical-align: top;\n",
       "    }\n",
       "\n",
       "    .dataframe thead th {\n",
       "        text-align: right;\n",
       "    }\n",
       "</style>\n",
       "<table border=\"1\" class=\"dataframe\">\n",
       "  <thead>\n",
       "    <tr style=\"text-align: right;\">\n",
       "      <th></th>\n",
       "      <th>Asst_Reg</th>\n",
       "      <th>Experience</th>\n",
       "      <th>Yearly_Income</th>\n",
       "      <th>Lend_Amount</th>\n",
       "      <th>Interest_Charged</th>\n",
       "      <th>Usage_Rate</th>\n",
       "      <th>Present_Balance</th>\n",
       "      <th>Due_Fee</th>\n",
       "      <th>Unpaid_Amount</th>\n",
       "      <th>GGGrade</th>\n",
       "      <th>Duration</th>\n",
       "    </tr>\n",
       "  </thead>\n",
       "  <tbody>\n",
       "    <tr>\n",
       "      <th>0</th>\n",
       "      <td>2711809</td>\n",
       "      <td>10</td>\n",
       "      <td>79200.0</td>\n",
       "      <td>10260.0</td>\n",
       "      <td>21.48</td>\n",
       "      <td>103.372</td>\n",
       "      <td>36733.32</td>\n",
       "      <td>0.0</td>\n",
       "      <td>12431.70</td>\n",
       "      <td>6</td>\n",
       "      <td>3</td>\n",
       "    </tr>\n",
       "    <tr>\n",
       "      <th>1</th>\n",
       "      <td>3429099</td>\n",
       "      <td>10</td>\n",
       "      <td>59840.0</td>\n",
       "      <td>23940.0</td>\n",
       "      <td>12.81</td>\n",
       "      <td>56.760</td>\n",
       "      <td>20253.76</td>\n",
       "      <td>0.0</td>\n",
       "      <td>14333.22</td>\n",
       "      <td>2</td>\n",
       "      <td>5</td>\n",
       "    </tr>\n",
       "    <tr>\n",
       "      <th>2</th>\n",
       "      <td>763877</td>\n",
       "      <td>1</td>\n",
       "      <td>88000.0</td>\n",
       "      <td>21375.0</td>\n",
       "      <td>14.81</td>\n",
       "      <td>123.152</td>\n",
       "      <td>331024.06</td>\n",
       "      <td>0.0</td>\n",
       "      <td>21783.69</td>\n",
       "      <td>2</td>\n",
       "      <td>3</td>\n",
       "    </tr>\n",
       "  </tbody>\n",
       "</table>\n",
       "</div>"
      ],
      "text/plain": [
       "   Asst_Reg  Experience  Yearly_Income  Lend_Amount  Interest_Charged  \\\n",
       "0   2711809          10        79200.0      10260.0             21.48   \n",
       "1   3429099          10        59840.0      23940.0             12.81   \n",
       "2    763877           1        88000.0      21375.0             14.81   \n",
       "\n",
       "   Usage_Rate  Present_Balance  Due_Fee  Unpaid_Amount  GGGrade  Duration  \n",
       "0     103.372         36733.32      0.0       12431.70        6         3  \n",
       "1      56.760         20253.76      0.0       14333.22        2         5  \n",
       "2     123.152        331024.06      0.0       21783.69        2         3  "
      ]
     },
     "execution_count": 250,
     "metadata": {},
     "output_type": "execute_result"
    }
   ],
   "source": [
    "# Split the data into features (X) and labels (y)\n",
    "#QUANDO PIPELINE ESTIVER PARA TODAS AS VARIÁVEIS, MUDAR O X\n",
    "\n",
    "#script não ativado para fazer cross validation manual (normalmente o scikit learn faz tudo automático)\n",
    "from sklearn.model_selection import KFold\n",
    "X.head(3)\n",
    "#kfold = KFold(n_splits=5,shuffle=True)\n",
    "#for train_index, test_index in kfold.split(X):\n",
    "#    print(\"Train index:\", train_index, \"Test index:\", test_index)\n",
    "#    y_train, y_test = y.loc[train_index], y.loc[test_index]"
   ]
  },
  {
   "cell_type": "code",
   "execution_count": 251,
   "metadata": {
    "scrolled": true
   },
   "outputs": [
    {
     "data": {
      "text/plain": [
       "<matplotlib.collections.PathCollection at 0x25e62710910>"
      ]
     },
     "execution_count": 251,
     "metadata": {},
     "output_type": "execute_result"
    },
    {
     "data": {
      "image/png": "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\n",
      "text/plain": [
       "<Figure size 432x288 with 1 Axes>"
      ]
     },
     "metadata": {
      "needs_background": "light"
     },
     "output_type": "display_data"
    }
   ],
   "source": [
    "plt.scatter(x=df['Experience'], y=df['Interest_Charged'])"
   ]
  },
  {
   "cell_type": "code",
   "execution_count": 252,
   "metadata": {},
   "outputs": [
    {
     "data": {
      "text/plain": [
       "Text(0.5, 1.0, 'Yearly_Income vs Lend_Amount')"
      ]
     },
     "execution_count": 252,
     "metadata": {},
     "output_type": "execute_result"
    },
    {
     "data": {
      "image/png": "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\n",
      "text/plain": [
       "<Figure size 432x288 with 1 Axes>"
      ]
     },
     "metadata": {
      "needs_background": "light"
     },
     "output_type": "display_data"
    }
   ],
   "source": [
    "df.plot(x='Yearly_Income', y='Lend_Amount',style='.b');\n",
    "plt.title('Yearly_Income vs Lend_Amount')"
   ]
  },
  {
   "cell_type": "code",
   "execution_count": 253,
   "metadata": {},
   "outputs": [
    {
     "name": "stdout",
     "output_type": "stream",
     "text": [
      "MAE 0.506\n",
      "MSE 0.506\n",
      "RMSE 0.7113367697511496\n"
     ]
    }
   ],
   "source": [
    "\n",
    "print('MAE', metrics.mean_absolute_error(y_pred,y_test))\n",
    "print('MSE', metrics.mean_squared_error(y_pred,y_test))\n",
    "print('RMSE', np.sqrt(metrics.mean_squared_error(y_pred,y_test)))"
   ]
  },
  {
   "cell_type": "markdown",
   "metadata": {},
  },
  {
   "cell_type": "code",
   "execution_count": 254,
   "metadata": {},
   "outputs": [
    {
       "      <th>Usage_Rate</th>\n",
       "      <th>Present_Balance</th>\n",
       "      <th>Unpaid_Amount</th>\n",
       "      <th>debt_to_income</th>\n",
       "      <th>Unpaid_2_years</th>\n",
       "      <th>Already_Defaulted</th>\n",
       "      <th>Account_Open</th>\n",
       "    </tr>\n",
       "  </thead>\n",
       "  <tbody>\n",
       "    <tr>\n",
       "      <th>skewness</th>\n",
       "      <td>13.77</td>\n",
       "      <td>-6.1</td>\n",
       "      <td>37.61</td>\n",
       "      <td>76.38</td>\n",
       "      <td>108.42</td>\n",
       "      <td>35.89</td>\n",
       "    </tr>\n",
       "    <tr>\n",
       "      <th>p_value</th>\n",
       "      <td>0.00</td>\n",
       "      <td>0.00</td>\n",
       "      <td>0.00</td>\n",
       "      <td>0.59</td>\n",
       "      <td>0.00</td>\n",
       "      <td>0.00</td>\n",
       "      <td>0.0</td>\n",
       "      <td>0.00</td>\n",
       "      <td>0.00</td>\n",
       "      <td>0.00</td>\n",
       "      <td>0.00</td>\n",
       "      <td>0.00</td>\n",
       "      <td>0.00</td>\n",
      ],
      "text/plain": [
       "          Asst_Reg  Experience  Yearly_Income  Lend_Amount  Interest_Charged  \\\n",
       "skewness     15.26       -8.41          42.33         25.6             -0.02   \n",
       "p_value       0.00        0.00           0.00          0.0              0.98   \n",
       "\n",
       "          Usage_Rate  Present_Balance  Due_Fee  Unpaid_Amount  GGGrade  \\\n",
       "skewness       -6.41            38.25     1.00          49.84    18.41   \n",
       "p_value         0.00             0.00     0.32           0.00     0.00   \n",
       "\n",
       "          Duration  \n",
       "skewness     33.93  \n",
       "p_value       0.00  "
      ]
     },
     "metadata": {},
  },
  {
   "cell_type": "code",
   "execution_count": 255,
   "metadata": {},
   "outputs": [
    {
       "      <th>Usage_Rate</th>\n",
       "      <th>Present_Balance</th>\n",
       "      <th>Unpaid_Amount</th>\n",
       "      <th>debt_to_income</th>\n",
       "      <th>Unpaid_2_years</th>\n",
       "      <th>Already_Defaulted</th>\n",
       "      <th>Other_Cat2</th>\n",
       "      <th>3years</th>\n",
       "      <th>5years</th>\n",
       "    </tr>\n",
       "  </thead>\n",
       "  <tbody>\n",
       "    <tr>\n",
       "      <th>0</th>\n",
       "      <td>-0.327250</td>\n",
       "      <td>1.068532</td>\n",
       "      <td>0.014882</td>\n",
       "      <td>1.523272</td>\n",
       "      <td>1.521500</td>\n",
       "      <td>-0.590370</td>\n",
       "      <td>1.594491</td>\n",
       "      <td>0.983887</td>\n",
       "      <td>1.596636</td>\n",
       "      <td>0.0</td>\n",
       "      <td>0.052238</td>\n",
       "    </tr>\n",
       "    <tr>\n",
       "      <th>1</th>\n",
       "      <td>-0.573643</td>\n",
       "      <td>0.002468</td>\n",
       "      <td>0.234218</td>\n",
       "      <td>0.754747</td>\n",
       "      <td>0.525392</td>\n",
       "      <td>0.659618</td>\n",
       "      <td>0.095775</td>\n",
       "      <td>0.983887</td>\n",
       "      <td>1.596636</td>\n",
       "      <td>0.0</td>\n",
       "      <td>0.939631</td>\n",
       "    </tr>\n",
       "    <tr>\n",
       "      <th>2</th>\n",
       "      <td>-0.986437</td>\n",
       "      <td>1.068532</td>\n",
       "      <td>-0.532236</td>\n",
       "      <td>-0.451603</td>\n",
       "      <td>0.085203</td>\n",
       "      <td>0.559535</td>\n",
       "      <td>-0.596871</td>\n",
       "      <td>-1.607869</td>\n",
       "      <td>-0.626317</td>\n",
       "      <td>0.0</td>\n",
       "      <td>-0.647908</td>\n",
       "    </tr>\n",
       "  </tbody>\n",
       "</table>\n",
       "</div>"
      ],
      "text/plain": [
       "   Asst_Reg  Experience  Yearly_Income  Lend_Amount  Usage_Rate  \\\n",
       "0 -0.327250    1.068532       0.014882     1.523272    1.521500   \n",
       "1 -0.573643    0.002468       0.234218     0.754747    0.525392   \n",
       "2 -0.986437    1.068532      -0.532236    -0.451603    0.085203   \n",
       "\n",
       "   Present_Balance  Unpaid_Amount   GGGrade  Duration  Due_Fee  \\\n",
       "0        -0.590370       1.594491  0.983887  1.596636      0.0   \n",
       "1         0.659618       0.095775  0.983887  1.596636      0.0   \n",
       "2         0.559535      -0.596871 -1.607869 -0.626317      0.0   \n",
       "\n",
       "   Interest_Charged  \n",
       "0          0.052238  \n",
       "1          0.939631  \n",
       "2         -0.647908  "
      ]
     },
     "metadata": {},
       "      <th>Usage_Rate</th>\n",
       "      <th>Present_Balance</th>\n",
       "      <th>Unpaid_Amount</th>\n",
       "      <th>debt_to_income</th>\n",
       "      <th>Unpaid_2_years</th>\n",
       "      <th>Already_Defaulted</th>\n",
       "      <th>Account_Open</th>\n",
       "      <th>Interest_Charged</th>\n",
       "    </tr>\n",
       "  </thead>\n",
       "  <tbody>\n",
       "    <tr>\n",
       "      <th>0</th>\n",
       "      <td>-1.032218</td>\n",
       "      <td>1.068532</td>\n",
       "      <td>0.173771</td>\n",
       "      <td>1.225344</td>\n",
       "      <td>-0.101717</td>\n",
       "      <td>0.556773</td>\n",
       "      <td>0.909468</td>\n",
       "      <td>0.297198</td>\n",
       "      <td>1.596636</td>\n",
       "      <td>0.0</td>\n",
       "      <td>1.645883</td>\n",
       "    </tr>\n",
       "    <tr>\n",
       "      <th>1</th>\n",
       "      <td>0.697910</td>\n",
       "      <td>1.068532</td>\n",
       "      <td>0.941016</td>\n",
       "      <td>0.416970</td>\n",
       "      <td>0.976202</td>\n",
       "      <td>1.836485</td>\n",
       "      <td>-0.168564</td>\n",
       "      <td>1.573996</td>\n",
       "      <td>1.596636</td>\n",
       "      <td>0.0</td>\n",
       "      <td>-1.541408</td>\n",
       "    </tr>\n",
       "    <tr>\n",
       "      <th>2</th>\n",
       "      <td>0.614750</td>\n",
       "      <td>1.068532</td>\n",
       "      <td>-0.052070</td>\n",
       "      <td>-0.770010</td>\n",
       "      <td>-0.785642</td>\n",
       "      <td>-1.346926</td>\n",
       "      <td>-1.658139</td>\n",
       "      <td>0.297198</td>\n",
       "      <td>-0.626317</td>\n",
       "      <td>0.0</td>\n",
       "      <td>1.680483</td>\n",
       "    </tr>\n",
       "  </tbody>\n",
       "</table>\n",
       "</div>"
      ],
      "text/plain": [
       "          Asst_Reg  Experience  Yearly_Income  Lend_Amount  Usage_Rate  \\\n",
       "skewness     -5.86       -9.16          -0.01        -1.69        -6.8   \n",
       "p_value       0.00        0.00           0.99         0.09         0.0   \n",
       "          Already_Defaulted  Account_Open  Interest_Charged  \n",
       "skewness             104.96          -0.0             -0.54  \n",
       "p_value                0.00           1.0              0.59  "
      ]
     },
     "execution_count": 37,
  },
  {
   "cell_type": "code",
   "execution_count": 256,
   "metadata": {},
   "outputs": [
    {
     "name": "stdout",
     "output_type": "stream",
     "text": [
      "Best parameters: {'C': 0.001}\n",
      "Best score: 0.74\n"
     ]
    }
   ],
  },
  {
   "cell_type": "code",
   "execution_count": 257,
   "metadata": {},
   "outputs": [
    {
     "data": {
      "text/plain": [
       "LinearRegression()"
      ]
     },
     "execution_count": 257,
     "metadata": {},
     "output_type": "execute_result"
    }
   ],
   "outputs": [],
   "source": [
    "df[v_num_disc].describe()"
   ]
  },
  {
   "cell_type": "code",
   "execution_count": null,
   "metadata": {},
   "outputs": [],
   "source": [
    "#fazer histograma das categoricas e value_counts (verificar se há categorias de pouca relevancia)\n",
    "for i in v_cat_ord:\n",
    "    print(df[i].value_counts())"
   ]
  },
  {
   "cell_type": "markdown",
   "metadata": {},
   "source": [
    "# Train vs test sample: standard and cross-validation"
   ]
  },
  {
   "cell_type": "code",
   "execution_count": null,
   "metadata": {},
   "outputs": [],
   "source": [
    "# Split the data into features (X) and labels (y)\n",
    "#QUANDO PIPELINE ESTIVER PARA TODAS AS VARIÁVEIS, MUDAR O X\n",
    "X = df[v_num_cont]\n",
    "X = df[v_num_cont+v_num_disc+v_cat_ord]\n",
    "y = df['Default']\n",
    "\n",
    "# Split the data into training and test sets\n",
    "from sklearn.model_selection import train_test_split\n",
    "X_train, X_test, y_train, y_test = train_test_split(X, y, test_size=0.2, random_state=42)\n",
    "\n",
    "#script não ativado para fazer cross validation manual (normalmente o scikit learn faz tudo automático)\n",
    "from sklearn.model_selection import KFold\n",
    "#kfold = KFold(n_splits=5,shuffle=True)\n",
    "#for train_index, test_index in kfold.split(X):\n",
    "#    print(\"Train index:\", train_index, \"Test index:\", test_index)\n",
    "#    X_train, X_test = X.loc[train_index], X.loc[test_index]\n",
    "#    y_train, y_test = y.loc[train_index], y.loc[test_index]"
   ]
  },
  {
   "cell_type": "markdown",
   "metadata": {},
   "source": [
    "# Pipelines"
   ]
  },
  {
   "cell_type": "code",
   "execution_count": null,
   "metadata": {},
   "outputs": [],
   "source": [
    "#1a parte: tentar reduzir assimetria das variáveis\n",
    "\n",
    "#criar função que devolve uma métrica de assimetria das variáveis e avalia se essa variável\n",
    "#está suficientemente distante de 0 para ter certeza que é assimétrica\n",
    "#como se vê isso? quanto mais pequeno for o p-value (2a linha dataframe), mais certezas temos que é assimétrica\n",
    "\n",
    "def skew_df(df):\n",
    "    from scipy.stats import skewtest\n",
    "    skewness, p_value = skewtest(df)\n",
    "    dskew=pd.DataFrame(np.round(np.vstack((skewness.T,p_value.T)),2),columns=df.columns,\n",
    "                    index=['skewness', 'p_value'])\n",
    "    return(dskew)\n",
    "#verificar assimetria das features numéricas\n",
    "dskew=skew_df(X_train[v_num_cont+v_num_disc])\n",
    "#mostrar output\n",
    "display(dskew)\n",
    "#ver lista de features assimétricas, pvalue < 5%\n",
    "v_skew=list(dskew.columns[dskew.loc['p_value']<0.05])\n",
    "#lista de simétricas são as restantes\n",
    "v_sym=list(set(X_train[v_num_cont+v_num_disc].columns) - set(v_skew))\n",
    "#check\n",
    "v_skew"
   ]
  },
  {
   "cell_type": "code",
   "execution_count": null,
   "metadata": {},
   "outputs": [],
   "source": [
    "from sklearn.compose import ColumnTransformer\n",
    "from sklearn.preprocessing import PowerTransformer\n",
    "from sklearn.preprocessing import FunctionTransformer\n",
    "from sklearn.preprocessing import StandardScaler\n",
    "from sklearn.preprocessing import OneHotEncoder\n",
    "from sklearn.pipeline import Pipeline\n",
    "\n",
    "# Define the transformations to apply to the column\n",
    "transformer = ColumnTransformer([\n",
    "    ('yeoj', PowerTransformer(), v_skew), #aplico transformação que corrige assimetria às assimétricas\n",
    "    ('std', StandardScaler(), v_sym),     #aplico transformação às simétricas (sub média e dividir desvio padrao)7\n",
    "    ('oneh', OneHotEncoder(min_frequency=0.05,handle_unknown='ignore',#drop='if_binary',\n",
    "                           sparse_output=False), v_cat_ord)\n",
    "])\n",
    "\n",
    "#pipeline= Pipeline([\n",
    "    #('ct', transformer),\n",
    "    #('to_df', pd.DataFrame, {'columns': v_skew+v_sym})\n",
    "    #(\"pandarizer\",FunctionTransformer(lambda x: pd.DataFrame(x, columns = (v_skew + v_sym))))\n",
    "#])\n",
    "\n",
    "# Transform the data\n",
    "#pfit = pipeline.fit(X_train)\n",
    "pfit = transformer.fit(X_train)\n",
    "\n",
    "categories= pfit.transformers_[2][1].categories_\n",
    "categories_out=pfit.transformers_[2][1].infrequent_categories_\n",
    "\n",
    "v_onehot_drop=list(np.concatenate([np.concatenate([categories[i][np.isin(categories[i], categories_out[i], invert=True)]],axis=0) \n",
    "                        for i in range(0,len(categories))],axis=0))\n",
    "#display(v_onehot_drop)\n",
    "\n",
    "v_onehot=list(np.concatenate([(np.concatenate((np.array(j),\n",
    "                       (np.array(['Other_Cat'+str(k)]) if categories_out[k] is not None else np.array([]))),axis=0)) \n",
    "                         for k,j in enumerate(\n",
    "                         [np.concatenate([categories[i][np.isin(categories[i], categories_out[i], invert=True)]],axis=0) \n",
    "                        for i in range(0,len(categories))]\n",
    "                         )]))\n",
    "#display(v_onehot)\n",
    "\n",
    "X_train_transf = transformer.transform(X_train)\n",
    "#X_train_transf = pipeline.transform(X_train)\n",
    "X_train_transf = pd.DataFrame(transformer.transform(X_train),columns = (v_skew + v_sym+v_onehot)\n",
    "                              ,index=X_train.index)\n",
    "#display(X_train_transf)\n",
    "#aplicar transformações ao teste calcula\n",
    "#X_test_transf = pipeline.transform(X_test)\n",
    "X_test_transf = transformer.transform(X_test)\n",
    "X_test_transf = pd.DataFrame(transformer.transform(X_test),columns = (v_skew + v_sym+v_onehot)\n",
    "                            ,index=X_test.index)\n",
    "\n",
    "#X_train_transformed= pd.DataFrame(df_transformed,\n",
    "                                  #columns=(v_skew+v_sym),index=X_train.index)\n",
    "\n",
    "display(round(X_train_transf.describe(),2))\n",
    "#vamos dar um check se o dataframe ficou \"menos assimétrico\"\n",
    "skew_df(X_train_transf[v_skew+v_sym])\n"
   ]
  },
  {
   "cell_type": "code",
   "execution_count": null,
   "metadata": {},
   "outputs": [],
   "source": [
    "#Obter os parametro do modelo de regressão\n",
    "from sklearn.linear_model import LinearRegression\n",
    "#display(X_train_transf.head(3))\n",
    "#display(X_test_transf.head(3))\n",
    "#grid_search.intercept_\n",
    "regressor = LinearRegression()\n",
    "regressor.fit(X_train,y_train)"
   ]
  },
  {
   "cell_type": "code",
   "execution_count": 258,
   "metadata": {},
   "outputs": [
    {
     "data": {
      "text/plain": [
       "1.006339551448902"
      ]
     },
     "execution_count": 258,
     "metadata": {},
     "output_type": "execute_result"
    }
   ],
   "execution_count": null,
   "metadata": {},
   "outputs": [],
   "source": [
    "regressor.intercept_"
   ]
  },
  {
   "cell_type": "code",
<<<<<<< HEAD
   "execution_count": 259,
   "metadata": {},
   "outputs": [
    {
     "data": {
      "text/plain": [
       "array([-1.16072593e-07,  1.62748733e-04,  5.84860047e-07, -2.10823704e-06,\n",
       "       -7.95302437e-04, -1.20439215e-03,  7.23785910e-08,  1.73472348e-17,\n",
       "       -4.31211241e-07,  1.85632043e-02, -2.95741022e-02])"
      ]
     },
     "execution_count": 259,
     "metadata": {},
     "output_type": "execute_result"
    }
   ],
   "execution_count": null,
   "metadata": {},
   "outputs": [],
   "source": [
    "pca = PCA(n_components=0.80)\n",
    "\n",
    "X_pca=pca.fit(X_train_transf[v_skew+v_sym])\n",
    "\n",
    "X_train_pca=pd.DataFrame(pca.transform(X_train_transf[v_skew+v_sym]),\n",
    "                         columns=['pca_v'+str(i+1) for i in range (0,X_pca.n_components_)],\n",
    "                        index=X_train_transf.index)\n",
    "\n",
    "X_test_pca=pd.DataFrame(pca.transform(X_test_transf[v_skew+v_sym]),\n",
    "                         columns=['pca_v'+str(i+1) for i in range (0,X_pca.n_components_)],\n",
    "                        index=X_test_transf.index)"
   ]
  },
  {
   "cell_type": "code",
   "execution_count": null,
   "metadata": {},
   "outputs": [],
   "source": [
    "regressor.coef_"
   ]
  },
  {
   "cell_type": "code",
<<<<<<< HEAD
   "execution_count": 260,
   "metadata": {},
   "outputs": [
    {
     "data": {
      "text/html": [
       "<div>\n",
       "<style scoped>\n",
       "    .dataframe tbody tr th:only-of-type {\n",
       "        vertical-align: middle;\n",
       "    }\n",
       "\n",
       "    .dataframe tbody tr th {\n",
       "        vertical-align: top;\n",
       "    }\n",
       "\n",
       "    .dataframe thead th {\n",
       "        text-align: right;\n",
       "    }\n",
       "</style>\n",
       "<table border=\"1\" class=\"dataframe\">\n",
       "  <thead>\n",
       "    <tr style=\"text-align: right;\">\n",
       "      <th></th>\n",
       "      <th>Coenficients</th>\n",
       "    </tr>\n",
       "  </thead>\n",
       "  <tbody>\n",
       "    <tr>\n",
       "      <th>Asst_Reg</th>\n",
       "      <td>-1.160726e-07</td>\n",
       "    </tr>\n",
       "    <tr>\n",
       "      <th>Experience</th>\n",
       "      <td>1.627487e-04</td>\n",
       "    </tr>\n",
       "    <tr>\n",
       "      <th>Yearly_Income</th>\n",
       "      <td>5.848600e-07</td>\n",
       "    </tr>\n",
       "    <tr>\n",
       "      <th>Lend_Amount</th>\n",
       "      <td>-2.108237e-06</td>\n",
       "    </tr>\n",
       "    <tr>\n",
       "      <th>Usage_Rate</th>\n",
       "      <td>-7.953024e-04</td>\n",
       "    </tr>\n",
       "    <tr>\n",
       "      <th>Present_Balance</th>\n",
       "      <td>-1.204392e-03</td>\n",
       "    </tr>\n",
       "    <tr>\n",
       "      <th>Unpaid_Amount</th>\n",
       "      <td>7.237859e-08</td>\n",
       "    </tr>\n",
       "    <tr>\n",
       "      <th>GGGrade</th>\n",
       "      <td>1.734723e-17</td>\n",
       "    </tr>\n",
       "    <tr>\n",
       "      <th>Duration</th>\n",
       "      <td>-4.312112e-07</td>\n",
       "    </tr>\n",
       "    <tr>\n",
       "      <th>Due_Fee</th>\n",
       "      <td>1.856320e-02</td>\n",
       "    </tr>\n",
       "    <tr>\n",
       "      <th>Interest_Charged</th>\n",
       "      <td>-2.957410e-02</td>\n",
       "    </tr>\n",
       "  </tbody>\n",
       "</table>\n",
       "</div>"
      ],
      "text/plain": [
       "                  Coenficients\n",
       "Asst_Reg         -1.160726e-07\n",
       "Experience        1.627487e-04\n",
       "Yearly_Income     5.848600e-07\n",
       "Lend_Amount      -2.108237e-06\n",
       "Usage_Rate       -7.953024e-04\n",
       "Present_Balance  -1.204392e-03\n",
       "Unpaid_Amount     7.237859e-08\n",
       "GGGrade           1.734723e-17\n",
       "Duration         -4.312112e-07\n",
       "Due_Fee           1.856320e-02\n",
       "Interest_Charged -2.957410e-02"
      ]
     },
     "execution_count": 260,
     "metadata": {},
     "output_type": "execute_result"
    }
   ],
   "execution_count": null,
   "metadata": {},
   "outputs": [],
   "source": [
    "coef_df=pd.DataFrame(regressor.coef_,X_train_transf.columns,columns=[\"Coenficients\"])\n",
    "coef_df"
   ]
  },
  {
   "cell_type": "code",
   "execution_count": 261,
   "metadata": {},
   "outputs": [],
   "source": [
    "#Fazer a predição\n",
    "y_pred = regressor.predict(X_test)"
    "#CROSS VALIDATION TO PICK OPTIMAL NUMBER OF ELEMENTS OF PCA\n",
    "\n",
    "from sklearn.decomposition import PCA\n",
    "from sklearn.linear_model import LogisticRegression\n",
    "from sklearn.model_selection import cross_val_score\n",
    "\n",
    "# Set the number of components to try\n",
    "num_components = [2, 5, 10, 20, 50]\n",
    "\n",
    "# Create a list to store the scores\n",
    "scores = []\n",
    "\n",
    "# Perform k-fold cross-validation for each number of components\n",
    "for n in num_components:\n",
    "    # Perform PCA\n",
    "    pca = PCA(n_components=n)\n",
    "    features = pca.fit_transform(data)\n",
    "    \n",
    "    # Train a logistic regression model\n",
    "    model = LogisticRegression()\n",
    "    \n",
    "    # Calculate the cross-validation score\n",
    "    score = cross_val_score(model, features, labels, cv=5).mean()\n",
    "    scores.append(score)\n",
    "\n",
    "# Plot the results\n",
    "plt.plot(num_components, scores)\n",
    "plt.xlabel('Number of Components')\n",
    "plt.ylabel('Cross-Validation Score')"
   ]
  },
  {
   "cell_type": "code",
   "execution_count": null,
   "metadata": {},
   "outputs": [],
   "source": [
    "from sklearn.cluster import KMeans\n",
    "from sklearn.pipeline import Pipeline\n",
    "from sklearn.metrics import silhouette_score\n",
    "from sklearn.linear_model import LogisticRegression\n",
    "#############\n",
    "\n",
    "kmeans=KMeans(n_clusters=5,n_init=10)\n",
    "kmeans_f=kmeans.fit(X_train_transf[v_skew+v_sym])\n",
    "kmeans_f.predict(X_train_transf[v_skew+v_sym])\n",
    "kmeans_f.predict(X_train_transf[v_skew+v_sym])\n"
   ]
  },
  {
   "cell_type": "code",
   "execution_count": null,
   "metadata": {},
   "outputs": [],
   "source": [
    "#################Silhouette\n",
    "from sklearn.cluster import KMeans\n",
    "from sklearn.metrics import silhouette_score\n",
    "\n",
    "def select_n_clusters(data, max_k):\n",
    "    \"\"\"\n",
    "    Select the optimal number of clusters using silhouette analysis.\n",
    "    \n",
    "    Parameters:\n",
    "    - data: the data to cluster, as a NumPy array\n",
    "    - max_k: the maximum number of clusters to consider\n",
    "    \n",
    "    Returns:\n",
    "    - The optimal number of clusters.\n",
    "    \"\"\"\n",
    "    n_samples, _ = data.shape\n",
    "    scores = []\n",
    "    for k in range(2, max_k+1):\n",
    "        # Fit the model and predict the cluster assignments\n",
    "        model = KMeans(n_clusters=k,n_init=10)\n",
    "        clusters = model.fit_predict(data)\n",
    "        \n",
    "        # Calculate the silhouette score\n",
    "        score = silhouette_score(data, clusters, metric='euclidean')\n",
    "        scores.append(score)\n",
    "        \n",
    "    # Determine the optimal number of clusters\n",
    "    optimal_k = np.argmax(scores) + 2\n",
    "    return [optimal_k,score]\n",
    "\n",
    "\n",
    "select_n_clusters(X_train_transf[v_skew+v_sym],50)"
   ]
  },
  {
   "cell_type": "code",
   "execution_count": null,
   "metadata": {},
   "outputs": [],
   "source": [
    "#ELBOW\n",
    "from sklearn.cluster import KMeans\n",
    "\n",
    "def select_n_clusters(data, max_k):\n",
    "    \"\"\"\n",
    "    Select the optimal number of clusters using the elbow method.\n",
    "    \n",
    "    Parameters:\n",
    "    - data: the data to cluster, as a NumPy array\n",
    "    - max_k: the maximum number of clusters to consider\n",
    "    \n",
    "    Returns:\n",
    "    - The optimal number of clusters.\n",
    "    \"\"\"\n",
    "    inertia = []\n",
    "    for k in range(1, max_k+1):\n",
    "        # Fit the model and predict the cluster assignments\n",
    "        model = KMeans(n_clusters=k)\n",
    "        clusters = model.fit_predict(data)\n",
    "        \n",
    "        # Calculate the inertia\n",
    "        inertia.append(model.inertia_)\n",
    "        \n",
    "    # Determine the optimal number of clusters\n",
    "    elbow = np.argmin(np.diff(inertia)) + 1\n",
    "    return elbow"
   ]
  },
  {
   "cell_type": "code",
   "execution_count": null,
   "metadata": {},
   "outputs": [],
   "source": [
    "#OPTIMAL CLUSTERS USING CROSS VALIDATION\n",
    "\n",
    "from sklearn.pipeline import Pipeline\n",
    "from sklearn.cluster import KMeans\n",
    "from sklearn.linear_model import LogisticRegression\n",
    "from sklearn.model_selection import cross_val_score\n",
    "\n",
    "def select_n_clusters(data, labels, max_k):\n",
    "    \"\"\"\n",
    "    Select the optimal number of clusters for k-means in a classification problem using cross-validation.\n",
    "    \n",
    "    Parameters:\n",
    "    - data: the data to cluster, as a NumPy array\n",
    "    - labels: the class labels for the data, as a NumPy array\n",
    "    - max_k: the maximum number of clusters to consider\n",
    "    \n",
    "    Returns:\n",
    "    - The optimal number of clusters.\n",
    "    \"\"\"\n",
    "    scores = []\n",
    "    for k in range(2, max_k+1):\n",
    "        # Create a pipeline for k-means clustering and logistic regression\n",
    "        model = Pipeline([\n",
    "            ('cluster', KMeans(n_clusters=k)),\n",
    "            ('classify', LogisticRegression())\n",
    "        ])\n",
    "        \n",
    "        # Calculate the cross-validation score\n",
    "        score = cross_val_score(model, data, labels, cv=5).mean()\n",
    "        scores.append(score)\n",
    "        \n",
    "    # Determine the optimal number of clusters\n",
    "    optimal_k = np.argmax(scores) + 2\n",
    "    return optimal_k"
   ]
  },
  {
   "cell_type": "code",
   "execution_count": null,
   "metadata": {},
   "outputs": [],
   "source": [
    "#CLUSTER ENCODED\n",
    "from sklearn.cluster import KMeans\n",
    "from sklearn.preprocessing import OneHotEncoder\n",
    "from sklearn.linear_model import LogisticRegression\n",
    "\n",
    "def classify_with_clustering(data, labels, num_clusters):\n",
    "    \"\"\"\n",
    "    Perform k-means clustering as a preprocessing step for logistic regression.\n",
    "    \n",
    "    Parameters:\n",
    "    - data: the feature matrix, as a NumPy array\n",
    "    - labels: the class labels, as a NumPy array\n",
    "    - num_clusters: the number of clusters to use for k-means\n",
    "    \n",
    "    Returns:\n",
    "    - The trained logistic regression model.\n",
    "    \"\"\"\n",
    "    # Perform k-means clustering\n",
    "    kmeans = KMeans(n_clusters=num_clusters)\n",
    "    clusters = kmeans.fit_predict(data)\n",
    "    \n",
    "    # Encode the clusters as binary variables\n",
    "    encoder = OneHotEncoder(categories='auto')\n",
    "    cluster_features = encoder.fit_transform(clusters.reshape(-1, 1))\n",
    "    \n",
    "    # Concatenate the original features and the cluster features\n",
    "    features = np.concatenate([data, cluster_features.toarray()], axis=1)\n",
    "    \n",
    "    # Train a logistic regression model\n",
    "    model = LogisticRegression()\n",
    "    model.fit(features, labels)\n",
    "    \n",
    "    return model"
   ]
  },
  {
   "cell_type": "code",
   "execution_count": null,
   "metadata": {},
   "outputs": [],
   "source": [
    "#CROSS VALIDATION TO PICK OPTIMAL NUMBER OF CLUSTERS USING THE F1 SCORE\n",
    "\n",
    "from sklearn.cluster import KMeans\n",
    "from sklearn.preprocessing import OneHotEncoder\n",
    "from sklearn.linear_model import LogisticRegression\n",
    "from sklearn.model_selection import cross_val_score\n",
    "\n",
    "def classify_with_clustering(data, labels, max_k):\n",
    "    \"\"\"\n",
    "    Perform k-means clustering as a preprocessing step for logistic regression, and select the optimal number of clusters\n",
    "    using cross-validation.\n",
    "    \n",
    "    Parameters:\n",
    "    - data: the feature matrix, as a NumPy array\n",
    "    - labels: the class labels, as a NumPy array\n",
    "    - max_k: the maximum number of clusters to consider\n",
    "    \n",
    "    Returns:\n",
    "    - The trained logistic regression model.\n",
    "    \"\"\"\n",
    "    scores = []\n",
    "    for k in range(2, max_k+1):\n",
    "        # Perform k-means clustering\n",
    "        kmeans = KMeans(n_clusters=k)\n",
    "        clusters = kmeans.fit_predict(data)\n",
    "        \n",
    "        # Encode the clusters as binary variables\n",
    "        encoder = OneHotEncoder(categories='auto')\n",
    "        cluster_features = encoder.fit_transform(clusters.reshape(-1, 1))\n",
    "        \n",
    "        # Concatenate the original features and the cluster features\n",
    "        features = np.concatenate([data, cluster_features.toarray()], axis=1)\n",
    "        \n",
    "        # Train a logistic regression model\n",
    "        model = LogisticRegression()\n",
    "        \n",
    "        # Calculate the cross-validation F1 score\n",
    "        score = cross_val_score(model, features, labels, cv=5, scoring='f1').mean()\n",
    "        scores.append(score)\n",
    "        \n",
    "    # Determine the optimal number of clusters\n",
    "    optimal_k = np.argmax(scores) + 2\n",
    "    \n",
    "    # Perform k-means with the optimal number of clusters\n",
    "    kmeans = KMeans(n_clusters=optimal_k)\n",
    "    clusters = kmeans"
   ]
  },
  {
   "cell_type": "code",
   "execution_count": null,
   "metadata": {},
   "outputs": [],
   "source": [
    "####USE RFE\n",
    "from sklearn.feature_selection import RFECV\n",
    "from sklearn.linear_model import LogisticRegression\n",
    "from sklearn.model_selection import StratifiedKFold\n",
    "\n",
    "def select_features(data, labels):\n",
    "    \"\"\"\n",
    "    Select the optimal number of features using RFECV with logistic regression and cross-validation.\n",
    "    \n",
    "    Parameters:\n",
    "    - data: the feature matrix, as a NumPy array\n",
    "    - labels: the class labels, as a NumPy array\n",
    "    \n",
    "    Returns:\n",
    "    - The indices of the selected features.\n",
    "    \"\"\"\n",
    "    model = LogisticRegression()\n",
    "    rfecv = RFECV(model, cv=StratifiedKFold(5), scoring='accuracy')\n",
    "    fit = rfecv.fit(data, labels)\n",
    "    return fit.support_"
   ]
  },
  {
   "cell_type": "code",
   "execution_count": null,
   "metadata": {},
   "outputs": [],
   "source": []
  },
  {
   "cell_type": "code",
   "execution_count": null,
   "metadata": {},
   "outputs": [],
   "source": [
    "from sklearn.cluster import KMeans\n",
    "from sklearn.pipeline import Pipeline\n",
    "from sklearn.linear_model import LogisticRegression\n",
    "#############\n",
    "pipeline = Pipeline([\n",
    "(\"kmeans\", KMeans(n_clusters=10)),\n",
    "(\"log_reg\", LogisticRegression()),\n",
    "])\n",
    "#pipeline.fit(X_train, y_train)\n",
    "\n",
    "from sklearn.model_selection import GridSearchCV\n",
    "param_grid = dict(kmeans__n_clusters=range(2, 50))\n",
    "display(param_grid)\n",
    "grid_clf = GridSearchCV(pipeline, param_grid, cv=5)#, score='f1')\n",
    "grid_clf.fit(X_train_transf, y_train)\n",
    "\n",
    "display(grid_clf.best_params_)\n",
    "\n",
    "#grid_clf.score(X_test, y_test)"
   ]
  },
  {
   "cell_type": "code",
   "execution_count": 262,
   "metadata": {},
   "outputs": [
    {
     "name": "stdout",
     "output_type": "stream",
     "text": [
      "MAE 0.35756499610732906\n",
      "MSE 0.17817806696109034\n",
      "RMSE 0.4221114390313183\n"
     ]
    }
   ],
   "execution_count": null,
   "metadata": {},
   "outputs": [],
   "source": [
    "display(grid_clf.best_params_)\n",
    "\n",
    "grid_clf.score(X_test, y_test)"
   ]
  },
  {
   "cell_type": "code",
   "execution_count": null,
   "metadata": {},
   "outputs": [],
   "source": []
  },
  {
   "cell_type": "code",
   "execution_count": null,
   "metadata": {},
   "outputs": [],
   "source": []
  },
  {
   "cell_type": "code",
   "execution_count": null,
   "metadata": {},
   "outputs": [],
   "source": []
  },
  {
   "cell_type": "code",
   "execution_count": null,
   "metadata": {},
   "outputs": [],
   "source": []
  },
  {
   "cell_type": "code",
   "execution_count": null,
   "metadata": {},
   "outputs": [],
   "source": []
  },
  {
   "cell_type": "code",
   "execution_count": null,
   "metadata": {},
   "outputs": [],
   "source": []
  },
  {
   "cell_type": "code",
   "execution_count": null,
   "metadata": {},
   "outputs": [],
   "source": []
  },
  {
   "cell_type": "code",
   "execution_count": null,
   "metadata": {},
   "outputs": [],
   "source": []
  },
  {
   "cell_type": "code",
   "execution_count": null,
   "metadata": {},
   "outputs": [],
   "source": []
  },
  {
   "cell_type": "code",
   "execution_count": null,
   "metadata": {},
   "outputs": [],
   "source": []
  },
  {
   "cell_type": "code",
   "execution_count": null,
   "metadata": {},
   "outputs": [],
   "source": []
  },
  {
   "cell_type": "markdown",
   "metadata": {},
   "source": [
    "# Models"
   ]
  },
  {
   "cell_type": "code",
   "execution_count": null,
   "metadata": {},
   "outputs": [],
   "source": [
    "#métricas\n",
    "from sklearn import metrics\n",
    "print('MAE', metrics.mean_absolute_error(y_pred,y_test))\n",
    "print('MSE', metrics.mean_squared_error(y_pred,y_test))\n",
    "print('RMSE', np.sqrt(metrics.mean_squared_error(y_pred,y_test)))"
   ]
  },
  {
   "cell_type": "code",
   "execution_count": 266,
   "metadata": {},
   "outputs": [
    {
     "name": "stderr",
     "output_type": "stream",
     "text": [
      "/home/goncalo/anaconda3/lib/python3.8/site-packages/sklearn/svm/_base.py:1244: ConvergenceWarning: Liblinear failed to converge, increase the number of iterations.\n",
      "  warnings.warn(\n",
      "/home/goncalo/anaconda3/lib/python3.8/site-packages/sklearn/svm/_base.py:1244: ConvergenceWarning: Liblinear failed to converge, increase the number of iterations.\n",
      "  warnings.warn(\n",
      "/home/goncalo/anaconda3/lib/python3.8/site-packages/sklearn/svm/_base.py:1244: ConvergenceWarning: Liblinear failed to converge, increase the number of iterations.\n",
      "  warnings.warn(\n",
      "/home/goncalo/anaconda3/lib/python3.8/site-packages/sklearn/svm/_base.py:1244: ConvergenceWarning: Liblinear failed to converge, increase the number of iterations.\n",
      "  warnings.warn(\n",
      "/home/goncalo/anaconda3/lib/python3.8/site-packages/sklearn/svm/_base.py:1244: ConvergenceWarning: Liblinear failed to converge, increase the number of iterations.\n",
      "  warnings.warn(\n",
      "/home/goncalo/anaconda3/lib/python3.8/site-packages/sklearn/svm/_base.py:1244: ConvergenceWarning: Liblinear failed to converge, increase the number of iterations.\n",
      "  warnings.warn(\n",
      "/home/goncalo/anaconda3/lib/python3.8/site-packages/sklearn/svm/_base.py:1244: ConvergenceWarning: Liblinear failed to converge, increase the number of iterations.\n",
      "  warnings.warn(\n",
      "/home/goncalo/anaconda3/lib/python3.8/site-packages/sklearn/svm/_base.py:1244: ConvergenceWarning: Liblinear failed to converge, increase the number of iterations.\n",
      "  warnings.warn(\n",
      "/home/goncalo/anaconda3/lib/python3.8/site-packages/sklearn/svm/_base.py:1244: ConvergenceWarning: Liblinear failed to converge, increase the number of iterations.\n",
      "  warnings.warn(\n",
      "/home/goncalo/anaconda3/lib/python3.8/site-packages/sklearn/svm/_base.py:1244: ConvergenceWarning: Liblinear failed to converge, increase the number of iterations.\n",
      "  warnings.warn(\n",
      "/home/goncalo/anaconda3/lib/python3.8/site-packages/sklearn/svm/_base.py:1244: ConvergenceWarning: Liblinear failed to converge, increase the number of iterations.\n",
      "  warnings.warn(\n",
      "/home/goncalo/anaconda3/lib/python3.8/site-packages/sklearn/svm/_base.py:1244: ConvergenceWarning: Liblinear failed to converge, increase the number of iterations.\n",
      "  warnings.warn(\n",
      "/home/goncalo/anaconda3/lib/python3.8/site-packages/sklearn/svm/_base.py:1244: ConvergenceWarning: Liblinear failed to converge, increase the number of iterations.\n",
      "  warnings.warn(\n",
      "/home/goncalo/anaconda3/lib/python3.8/site-packages/sklearn/svm/_base.py:1244: ConvergenceWarning: Liblinear failed to converge, increase the number of iterations.\n",
      "  warnings.warn(\n",
      "/home/goncalo/anaconda3/lib/python3.8/site-packages/sklearn/svm/_base.py:1244: ConvergenceWarning: Liblinear failed to converge, increase the number of iterations.\n", 
      "  warnings.warn(\n"
     ]
    },
    {
     "name": "stdout",
     "output_type": "stream",
     "text": [
      "Best parameters: {'C': 10}\n",
      "Best score: 0.73\n"
     ]
    },
    {
     "name": "stderr",
     "output_type": "stream",
     "text": [ 
      "C:\\Users\\familia feliz\\anaconda3\\lib\\site-packages\\sklearn\\svm\\_base.py:1206: ConvergenceWarning: Liblinear failed to converge, increase the number of iterations.\n",
      "  warnings.warn(\n",
      "C:\\Users\\familia feliz\\anaconda3\\lib\\site-packages\\sklearn\\svm\\_base.py:1206: ConvergenceWarning: Liblinear failed to converge, increase the number of iterations.\n",
      "  warnings.warn(\n"
     ]
    }
   ],
   "execution_count": null,
   "metadata": {},
   "outputs": [],
   "source": [
    "from sklearn.svm import LinearSVC\n",
    "from sklearn.model_selection import GridSearchCV\n",
    "\n",
    "# Define the logistic regression model\n",
    "model = LinearSVC(loss='hinge',max_iter=10000)\n",
    "# Define the parameter grid\n",
    "param_grid = {'C': [0.001, 0.01, 0.1, 1, 10, 100]}\n",
    "\n",
    "# Create the GridSearchCV object\n",
    "grid_search = GridSearchCV(model, param_grid, cv=5, scoring='f1')\n",
    "\n",
  },
  {
   "cell_type": "code",
   "execution_count": 267,
   "metadata": {},
   "outputs": [
    {
     "name": "stderr",
     "output_type": "stream",
     "text": [
      "C:\\Users\\familia feliz\\anaconda3\\lib\\site-packages\\sklearn\\base.py:493: FutureWarning: The feature names should match those that were passed during fit. Starting version 1.2, an error will be raised.\n",
      "Feature names must be in the same order as they were in fit.\n",
      "\n",
      "  warnings.warn(message, FutureWarning)\n"
     ]
    }
   ],
   "execution_count": null,
   "metadata": {},
   "outputs": [],
   "source": [
  },
  {
   "cell_type": "code",
   "execution_count": 268,
   "metadata": {},
   "outputs": [
    {
     "data": {
      "image/png": "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\n",
      "text/plain": [
       "<Figure size 432x288 with 1 Axes>"
      ]
   "execution_count": null,
   "metadata": {},
   "outputs": [],
   "source": [
    "from sklearn.tree import plot_tree\n",
    "plot_tree(tree_clf);"
   ]
>>>>>>> ce3a71f3ef5fdebdc3d8ac7dd04eb242e39d54eb
  },
  {
   "cell_type": "code",
   "execution_count": 269,
   "metadata": {},
   "outputs": [
    {
     "name": "stderr",
     "output_type": "stream",
     "text": [
      "C:\\Users\\familia feliz\\anaconda3\\lib\\site-packages\\sklearn\\preprocessing\\_discretization.py:194: UserWarning: Feature 7 is constant and will be replaced with 0.\n",
      "  warnings.warn(\n",
      "C:\\Users\\familia feliz\\anaconda3\\lib\\site-packages\\sklearn\\base.py:493: FutureWarning: The feature names should match those that were passed during fit. Starting version 1.2, an error will be raised.\n",
      "Feature names must be in the same order as they were in fit.\n",
      "\n",
      "  warnings.warn(message, FutureWarning)\n"
     ]
    }
   ],
   "source": [
    "from sklearn.preprocessing import KBinsDiscretizer\n",
    "est=KBinsDiscretizer(n_bins=5,encode='ordinal',strategy='uniform')\n",
  },
  {
   "cell_type": "code",
   "execution_count": 271,
   "metadata": {},
   "outputs": [
    {
     "ename": "ValueError",
     "evalue": "Negative values in data passed to MultinomialNB (input X)",
     "output_type": "error",
     "traceback": [
      "\u001b[1;31m---------------------------------------------------------------------------\u001b[0m",
      "\u001b[1;31mValueError\u001b[0m                                Traceback (most recent call last)",
      "Input \u001b[1;32mIn [271]\u001b[0m, in \u001b[0;36m<cell line: 8>\u001b[1;34m()\u001b[0m\n\u001b[0;32m      6\u001b[0m \u001b[38;5;28;01mfrom\u001b[39;00m \u001b[38;5;21;01msklearn\u001b[39;00m\u001b[38;5;21;01m.\u001b[39;00m\u001b[38;5;21;01mnaive_bayes\u001b[39;00m \u001b[38;5;28;01mimport\u001b[39;00m GaussianNB\n\u001b[0;32m      7\u001b[0m gNB\u001b[38;5;241m=\u001b[39mMultinomialNB()\n\u001b[1;32m----> 8\u001b[0m \u001b[43mgNB\u001b[49m\u001b[38;5;241;43m.\u001b[39;49m\u001b[43mfit\u001b[49m\u001b[43m(\u001b[49m\u001b[43mX_train_transf\u001b[49m\u001b[43m,\u001b[49m\u001b[43my_train\u001b[49m\u001b[43m)\u001b[49m\n\u001b[0;32m      9\u001b[0m y_pred\u001b[38;5;241m=\u001b[39mgNB\u001b[38;5;241m.\u001b[39mpredict(X_test)\n",
      "File \u001b[1;32m~\\anaconda3\\lib\\site-packages\\sklearn\\naive_bayes.py:690\u001b[0m, in \u001b[0;36m_BaseDiscreteNB.fit\u001b[1;34m(self, X, y, sample_weight)\u001b[0m\n\u001b[0;32m    688\u001b[0m n_classes \u001b[38;5;241m=\u001b[39m Y\u001b[38;5;241m.\u001b[39mshape[\u001b[38;5;241m1\u001b[39m]\n\u001b[0;32m    689\u001b[0m \u001b[38;5;28mself\u001b[39m\u001b[38;5;241m.\u001b[39m_init_counters(n_classes, n_features)\n\u001b[1;32m--> 690\u001b[0m \u001b[38;5;28;43mself\u001b[39;49m\u001b[38;5;241;43m.\u001b[39;49m\u001b[43m_count\u001b[49m\u001b[43m(\u001b[49m\u001b[43mX\u001b[49m\u001b[43m,\u001b[49m\u001b[43m \u001b[49m\u001b[43mY\u001b[49m\u001b[43m)\u001b[49m\n\u001b[0;32m    691\u001b[0m alpha \u001b[38;5;241m=\u001b[39m \u001b[38;5;28mself\u001b[39m\u001b[38;5;241m.\u001b[39m_check_alpha()\n\u001b[0;32m    692\u001b[0m \u001b[38;5;28mself\u001b[39m\u001b[38;5;241m.\u001b[39m_update_feature_log_prob(alpha)\n",
      "File \u001b[1;32m~\\anaconda3\\lib\\site-packages\\sklearn\\naive_bayes.py:863\u001b[0m, in \u001b[0;36mMultinomialNB._count\u001b[1;34m(self, X, Y)\u001b[0m\n\u001b[0;32m    861\u001b[0m \u001b[38;5;28;01mdef\u001b[39;00m \u001b[38;5;21m_count\u001b[39m(\u001b[38;5;28mself\u001b[39m, X, Y):\n\u001b[0;32m    862\u001b[0m     \u001b[38;5;124;03m\"\"\"Count and smooth feature occurrences.\"\"\"\u001b[39;00m\n\u001b[1;32m--> 863\u001b[0m     \u001b[43mcheck_non_negative\u001b[49m\u001b[43m(\u001b[49m\u001b[43mX\u001b[49m\u001b[43m,\u001b[49m\u001b[43m \u001b[49m\u001b[38;5;124;43m\"\u001b[39;49m\u001b[38;5;124;43mMultinomialNB (input X)\u001b[39;49m\u001b[38;5;124;43m\"\u001b[39;49m\u001b[43m)\u001b[49m\n\u001b[0;32m    864\u001b[0m     \u001b[38;5;28mself\u001b[39m\u001b[38;5;241m.\u001b[39mfeature_count_ \u001b[38;5;241m+\u001b[39m\u001b[38;5;241m=\u001b[39m safe_sparse_dot(Y\u001b[38;5;241m.\u001b[39mT, X)\n\u001b[0;32m    865\u001b[0m     \u001b[38;5;28mself\u001b[39m\u001b[38;5;241m.\u001b[39mclass_count_ \u001b[38;5;241m+\u001b[39m\u001b[38;5;241m=\u001b[39m Y\u001b[38;5;241m.\u001b[39msum(axis\u001b[38;5;241m=\u001b[39m\u001b[38;5;241m0\u001b[39m)\n",
      "File \u001b[1;32m~\\anaconda3\\lib\\site-packages\\sklearn\\utils\\validation.py:1249\u001b[0m, in \u001b[0;36mcheck_non_negative\u001b[1;34m(X, whom)\u001b[0m\n\u001b[0;32m   1246\u001b[0m     X_min \u001b[38;5;241m=\u001b[39m X\u001b[38;5;241m.\u001b[39mmin()\n\u001b[0;32m   1248\u001b[0m \u001b[38;5;28;01mif\u001b[39;00m X_min \u001b[38;5;241m<\u001b[39m \u001b[38;5;241m0\u001b[39m:\n\u001b[1;32m-> 1249\u001b[0m     \u001b[38;5;28;01mraise\u001b[39;00m \u001b[38;5;167;01mValueError\u001b[39;00m(\u001b[38;5;124m\"\u001b[39m\u001b[38;5;124mNegative values in data passed to \u001b[39m\u001b[38;5;132;01m%s\u001b[39;00m\u001b[38;5;124m\"\u001b[39m \u001b[38;5;241m%\u001b[39m whom)\n",
      "\u001b[1;31mValueError\u001b[0m: Negative values in data passed to MultinomialNB (input X)"
     ]
    }
   ],
   "source": [
    "from sklearn.naive_bayes import MultinomialNB\n",
    "mnNB=MultinomialNB()\n",
  },
  {
   "cell_type": "code",
   "execution_count": 272,
   "metadata": {},
   "outputs": [],
   "source": [
  },
  {
   "cell_type": "code",
   "execution_count": 275,
   "metadata": {},
   "outputs": [],
   "source": [
  },
  {
   "cell_type": "code",
   "execution_count": 276,
   "metadata": {},
   "outputs": [
    {
     "ename": "KeyboardInterrupt",
     "evalue": "",
     "output_type": "error",
     "traceback": [
      "\u001b[1;31m---------------------------------------------------------------------------\u001b[0m",
      "\u001b[1;31mKeyboardInterrupt\u001b[0m                         Traceback (most recent call last)",
      "Input \u001b[1;32mIn [276]\u001b[0m, in \u001b[0;36m<cell line: 3>\u001b[1;34m()\u001b[0m\n\u001b[0;32m      1\u001b[0m \u001b[38;5;28;01mfrom\u001b[39;00m \u001b[38;5;21;01msklearn\u001b[39;00m\u001b[38;5;21;01m.\u001b[39;00m\u001b[38;5;21;01mmodel_selection\u001b[39;00m \u001b[38;5;28;01mimport\u001b[39;00m GridSearchCV\n\u001b[0;32m      2\u001b[0m rf_Grid\u001b[38;5;241m=\u001b[39mGridSearchCV(rf_Model,param_grid,cv\u001b[38;5;241m=\u001b[39m\u001b[38;5;241m5\u001b[39m)\n\u001b[1;32m----> 3\u001b[0m \u001b[43mrf_Grid\u001b[49m\u001b[38;5;241;43m.\u001b[39;49m\u001b[43mfit\u001b[49m\u001b[43m(\u001b[49m\u001b[43mX_train_transf\u001b[49m\u001b[43m,\u001b[49m\u001b[43my_train\u001b[49m\u001b[43m)\u001b[49m\n",
      "File \u001b[1;32m~\\anaconda3\\lib\\site-packages\\sklearn\\model_selection\\_search.py:891\u001b[0m, in \u001b[0;36mBaseSearchCV.fit\u001b[1;34m(self, X, y, groups, **fit_params)\u001b[0m\n\u001b[0;32m    885\u001b[0m     results \u001b[38;5;241m=\u001b[39m \u001b[38;5;28mself\u001b[39m\u001b[38;5;241m.\u001b[39m_format_results(\n\u001b[0;32m    886\u001b[0m         all_candidate_params, n_splits, all_out, all_more_results\n\u001b[0;32m    887\u001b[0m     )\n\u001b[0;32m    889\u001b[0m     \u001b[38;5;28;01mreturn\u001b[39;00m results\n\u001b[1;32m--> 891\u001b[0m \u001b[38;5;28;43mself\u001b[39;49m\u001b[38;5;241;43m.\u001b[39;49m\u001b[43m_run_search\u001b[49m\u001b[43m(\u001b[49m\u001b[43mevaluate_candidates\u001b[49m\u001b[43m)\u001b[49m\n\u001b[0;32m    893\u001b[0m \u001b[38;5;66;03m# multimetric is determined here because in the case of a callable\u001b[39;00m\n\u001b[0;32m    894\u001b[0m \u001b[38;5;66;03m# self.scoring the return type is only known after calling\u001b[39;00m\n\u001b[0;32m    895\u001b[0m first_test_score \u001b[38;5;241m=\u001b[39m all_out[\u001b[38;5;241m0\u001b[39m][\u001b[38;5;124m\"\u001b[39m\u001b[38;5;124mtest_scores\u001b[39m\u001b[38;5;124m\"\u001b[39m]\n",
      "File \u001b[1;32m~\\anaconda3\\lib\\site-packages\\sklearn\\model_selection\\_search.py:1392\u001b[0m, in \u001b[0;36mGridSearchCV._run_search\u001b[1;34m(self, evaluate_candidates)\u001b[0m\n\u001b[0;32m   1390\u001b[0m \u001b[38;5;28;01mdef\u001b[39;00m \u001b[38;5;21m_run_search\u001b[39m(\u001b[38;5;28mself\u001b[39m, evaluate_candidates):\n\u001b[0;32m   1391\u001b[0m     \u001b[38;5;124;03m\"\"\"Search all candidates in param_grid\"\"\"\u001b[39;00m\n\u001b[1;32m-> 1392\u001b[0m     \u001b[43mevaluate_candidates\u001b[49m\u001b[43m(\u001b[49m\u001b[43mParameterGrid\u001b[49m\u001b[43m(\u001b[49m\u001b[38;5;28;43mself\u001b[39;49m\u001b[38;5;241;43m.\u001b[39;49m\u001b[43mparam_grid\u001b[49m\u001b[43m)\u001b[49m\u001b[43m)\u001b[49m\n",
      "File \u001b[1;32m~\\anaconda3\\lib\\site-packages\\sklearn\\model_selection\\_search.py:838\u001b[0m, in \u001b[0;36mBaseSearchCV.fit.<locals>.evaluate_candidates\u001b[1;34m(candidate_params, cv, more_results)\u001b[0m\n\u001b[0;32m    830\u001b[0m \u001b[38;5;28;01mif\u001b[39;00m \u001b[38;5;28mself\u001b[39m\u001b[38;5;241m.\u001b[39mverbose \u001b[38;5;241m>\u001b[39m \u001b[38;5;241m0\u001b[39m:\n\u001b[0;32m    831\u001b[0m     \u001b[38;5;28mprint\u001b[39m(\n\u001b[0;32m    832\u001b[0m         \u001b[38;5;124m\"\u001b[39m\u001b[38;5;124mFitting \u001b[39m\u001b[38;5;132;01m{0}\u001b[39;00m\u001b[38;5;124m folds for each of \u001b[39m\u001b[38;5;132;01m{1}\u001b[39;00m\u001b[38;5;124m candidates,\u001b[39m\u001b[38;5;124m\"\u001b[39m\n\u001b[0;32m    833\u001b[0m         \u001b[38;5;124m\"\u001b[39m\u001b[38;5;124m totalling \u001b[39m\u001b[38;5;132;01m{2}\u001b[39;00m\u001b[38;5;124m fits\u001b[39m\u001b[38;5;124m\"\u001b[39m\u001b[38;5;241m.\u001b[39mformat(\n\u001b[0;32m    834\u001b[0m             n_splits, n_candidates, n_candidates \u001b[38;5;241m*\u001b[39m n_splits\n\u001b[0;32m    835\u001b[0m         )\n\u001b[0;32m    836\u001b[0m     )\n\u001b[1;32m--> 838\u001b[0m out \u001b[38;5;241m=\u001b[39m \u001b[43mparallel\u001b[49m\u001b[43m(\u001b[49m\n\u001b[0;32m    839\u001b[0m \u001b[43m    \u001b[49m\u001b[43mdelayed\u001b[49m\u001b[43m(\u001b[49m\u001b[43m_fit_and_score\u001b[49m\u001b[43m)\u001b[49m\u001b[43m(\u001b[49m\n\u001b[0;32m    840\u001b[0m \u001b[43m        \u001b[49m\u001b[43mclone\u001b[49m\u001b[43m(\u001b[49m\u001b[43mbase_estimator\u001b[49m\u001b[43m)\u001b[49m\u001b[43m,\u001b[49m\n\u001b[0;32m    841\u001b[0m \u001b[43m        \u001b[49m\u001b[43mX\u001b[49m\u001b[43m,\u001b[49m\n\u001b[0;32m    842\u001b[0m \u001b[43m        \u001b[49m\u001b[43my\u001b[49m\u001b[43m,\u001b[49m\n\u001b[0;32m    843\u001b[0m \u001b[43m        \u001b[49m\u001b[43mtrain\u001b[49m\u001b[38;5;241;43m=\u001b[39;49m\u001b[43mtrain\u001b[49m\u001b[43m,\u001b[49m\n\u001b[0;32m    844\u001b[0m \u001b[43m        \u001b[49m\u001b[43mtest\u001b[49m\u001b[38;5;241;43m=\u001b[39;49m\u001b[43mtest\u001b[49m\u001b[43m,\u001b[49m\n\u001b[0;32m    845\u001b[0m \u001b[43m        \u001b[49m\u001b[43mparameters\u001b[49m\u001b[38;5;241;43m=\u001b[39;49m\u001b[43mparameters\u001b[49m\u001b[43m,\u001b[49m\n\u001b[0;32m    846\u001b[0m \u001b[43m        \u001b[49m\u001b[43msplit_progress\u001b[49m\u001b[38;5;241;43m=\u001b[39;49m\u001b[43m(\u001b[49m\u001b[43msplit_idx\u001b[49m\u001b[43m,\u001b[49m\u001b[43m \u001b[49m\u001b[43mn_splits\u001b[49m\u001b[43m)\u001b[49m\u001b[43m,\u001b[49m\n\u001b[0;32m    847\u001b[0m \u001b[43m        \u001b[49m\u001b[43mcandidate_progress\u001b[49m\u001b[38;5;241;43m=\u001b[39;49m\u001b[43m(\u001b[49m\u001b[43mcand_idx\u001b[49m\u001b[43m,\u001b[49m\u001b[43m \u001b[49m\u001b[43mn_candidates\u001b[49m\u001b[43m)\u001b[49m\u001b[43m,\u001b[49m\n\u001b[0;32m    848\u001b[0m \u001b[43m        \u001b[49m\u001b[38;5;241;43m*\u001b[39;49m\u001b[38;5;241;43m*\u001b[39;49m\u001b[43mfit_and_score_kwargs\u001b[49m\u001b[43m,\u001b[49m\n\u001b[0;32m    849\u001b[0m \u001b[43m    \u001b[49m\u001b[43m)\u001b[49m\n\u001b[0;32m    850\u001b[0m \u001b[43m    \u001b[49m\u001b[38;5;28;43;01mfor\u001b[39;49;00m\u001b[43m \u001b[49m\u001b[43m(\u001b[49m\u001b[43mcand_idx\u001b[49m\u001b[43m,\u001b[49m\u001b[43m \u001b[49m\u001b[43mparameters\u001b[49m\u001b[43m)\u001b[49m\u001b[43m,\u001b[49m\u001b[43m \u001b[49m\u001b[43m(\u001b[49m\u001b[43msplit_idx\u001b[49m\u001b[43m,\u001b[49m\u001b[43m \u001b[49m\u001b[43m(\u001b[49m\u001b[43mtrain\u001b[49m\u001b[43m,\u001b[49m\u001b[43m \u001b[49m\u001b[43mtest\u001b[49m\u001b[43m)\u001b[49m\u001b[43m)\u001b[49m\u001b[43m \u001b[49m\u001b[38;5;129;43;01min\u001b[39;49;00m\u001b[43m \u001b[49m\u001b[43mproduct\u001b[49m\u001b[43m(\u001b[49m\n\u001b[0;32m    851\u001b[0m \u001b[43m        \u001b[49m\u001b[38;5;28;43menumerate\u001b[39;49m\u001b[43m(\u001b[49m\u001b[43mcandidate_params\u001b[49m\u001b[43m)\u001b[49m\u001b[43m,\u001b[49m\u001b[43m \u001b[49m\u001b[38;5;28;43menumerate\u001b[39;49m\u001b[43m(\u001b[49m\u001b[43mcv\u001b[49m\u001b[38;5;241;43m.\u001b[39;49m\u001b[43msplit\u001b[49m\u001b[43m(\u001b[49m\u001b[43mX\u001b[49m\u001b[43m,\u001b[49m\u001b[43m \u001b[49m\u001b[43my\u001b[49m\u001b[43m,\u001b[49m\u001b[43m \u001b[49m\u001b[43mgroups\u001b[49m\u001b[43m)\u001b[49m\u001b[43m)\u001b[49m\n\u001b[0;32m    852\u001b[0m \u001b[43m    \u001b[49m\u001b[43m)\u001b[49m\n\u001b[0;32m    853\u001b[0m \u001b[43m\u001b[49m\u001b[43m)\u001b[49m\n\u001b[0;32m    855\u001b[0m \u001b[38;5;28;01mif\u001b[39;00m \u001b[38;5;28mlen\u001b[39m(out) \u001b[38;5;241m<\u001b[39m \u001b[38;5;241m1\u001b[39m:\n\u001b[0;32m    856\u001b[0m     \u001b[38;5;28;01mraise\u001b[39;00m \u001b[38;5;167;01mValueError\u001b[39;00m(\n\u001b[0;32m    857\u001b[0m         \u001b[38;5;124m\"\u001b[39m\u001b[38;5;124mNo fits were performed. \u001b[39m\u001b[38;5;124m\"\u001b[39m\n\u001b[0;32m    858\u001b[0m         \u001b[38;5;124m\"\u001b[39m\u001b[38;5;124mWas the CV iterator empty? \u001b[39m\u001b[38;5;124m\"\u001b[39m\n\u001b[0;32m    859\u001b[0m         \u001b[38;5;124m\"\u001b[39m\u001b[38;5;124mWere there no candidates?\u001b[39m\u001b[38;5;124m\"\u001b[39m\n\u001b[0;32m    860\u001b[0m     )\n",
      "File \u001b[1;32m~\\anaconda3\\lib\\site-packages\\joblib\\parallel.py:1046\u001b[0m, in \u001b[0;36mParallel.__call__\u001b[1;34m(self, iterable)\u001b[0m\n\u001b[0;32m   1043\u001b[0m \u001b[38;5;28;01mif\u001b[39;00m \u001b[38;5;28mself\u001b[39m\u001b[38;5;241m.\u001b[39mdispatch_one_batch(iterator):\n\u001b[0;32m   1044\u001b[0m     \u001b[38;5;28mself\u001b[39m\u001b[38;5;241m.\u001b[39m_iterating \u001b[38;5;241m=\u001b[39m \u001b[38;5;28mself\u001b[39m\u001b[38;5;241m.\u001b[39m_original_iterator \u001b[38;5;129;01mis\u001b[39;00m \u001b[38;5;129;01mnot\u001b[39;00m \u001b[38;5;28;01mNone\u001b[39;00m\n\u001b[1;32m-> 1046\u001b[0m \u001b[38;5;28;01mwhile\u001b[39;00m \u001b[38;5;28;43mself\u001b[39;49m\u001b[38;5;241;43m.\u001b[39;49m\u001b[43mdispatch_one_batch\u001b[49m\u001b[43m(\u001b[49m\u001b[43miterator\u001b[49m\u001b[43m)\u001b[49m:\n\u001b[0;32m   1047\u001b[0m     \u001b[38;5;28;01mpass\u001b[39;00m\n\u001b[0;32m   1049\u001b[0m \u001b[38;5;28;01mif\u001b[39;00m pre_dispatch \u001b[38;5;241m==\u001b[39m \u001b[38;5;124m\"\u001b[39m\u001b[38;5;124mall\u001b[39m\u001b[38;5;124m\"\u001b[39m \u001b[38;5;129;01mor\u001b[39;00m n_jobs \u001b[38;5;241m==\u001b[39m \u001b[38;5;241m1\u001b[39m:\n\u001b[0;32m   1050\u001b[0m     \u001b[38;5;66;03m# The iterable was consumed all at once by the above for loop.\u001b[39;00m\n\u001b[0;32m   1051\u001b[0m     \u001b[38;5;66;03m# No need to wait for async callbacks to trigger to\u001b[39;00m\n\u001b[0;32m   1052\u001b[0m     \u001b[38;5;66;03m# consumption.\u001b[39;00m\n",
      "File \u001b[1;32m~\\anaconda3\\lib\\site-packages\\joblib\\parallel.py:861\u001b[0m, in \u001b[0;36mParallel.dispatch_one_batch\u001b[1;34m(self, iterator)\u001b[0m\n\u001b[0;32m    859\u001b[0m     \u001b[38;5;28;01mreturn\u001b[39;00m \u001b[38;5;28;01mFalse\u001b[39;00m\n\u001b[0;32m    860\u001b[0m \u001b[38;5;28;01melse\u001b[39;00m:\n\u001b[1;32m--> 861\u001b[0m     \u001b[38;5;28;43mself\u001b[39;49m\u001b[38;5;241;43m.\u001b[39;49m\u001b[43m_dispatch\u001b[49m\u001b[43m(\u001b[49m\u001b[43mtasks\u001b[49m\u001b[43m)\u001b[49m\n\u001b[0;32m    862\u001b[0m     \u001b[38;5;28;01mreturn\u001b[39;00m \u001b[38;5;28;01mTrue\u001b[39;00m\n",
      "File \u001b[1;32m~\\anaconda3\\lib\\site-packages\\joblib\\parallel.py:779\u001b[0m, in \u001b[0;36mParallel._dispatch\u001b[1;34m(self, batch)\u001b[0m\n\u001b[0;32m    777\u001b[0m \u001b[38;5;28;01mwith\u001b[39;00m \u001b[38;5;28mself\u001b[39m\u001b[38;5;241m.\u001b[39m_lock:\n\u001b[0;32m    778\u001b[0m     job_idx \u001b[38;5;241m=\u001b[39m \u001b[38;5;28mlen\u001b[39m(\u001b[38;5;28mself\u001b[39m\u001b[38;5;241m.\u001b[39m_jobs)\n\u001b[1;32m--> 779\u001b[0m     job \u001b[38;5;241m=\u001b[39m \u001b[38;5;28;43mself\u001b[39;49m\u001b[38;5;241;43m.\u001b[39;49m\u001b[43m_backend\u001b[49m\u001b[38;5;241;43m.\u001b[39;49m\u001b[43mapply_async\u001b[49m\u001b[43m(\u001b[49m\u001b[43mbatch\u001b[49m\u001b[43m,\u001b[49m\u001b[43m \u001b[49m\u001b[43mcallback\u001b[49m\u001b[38;5;241;43m=\u001b[39;49m\u001b[43mcb\u001b[49m\u001b[43m)\u001b[49m\n\u001b[0;32m    780\u001b[0m     \u001b[38;5;66;03m# A job can complete so quickly than its callback is\u001b[39;00m\n\u001b[0;32m    781\u001b[0m     \u001b[38;5;66;03m# called before we get here, causing self._jobs to\u001b[39;00m\n\u001b[0;32m    782\u001b[0m     \u001b[38;5;66;03m# grow. To ensure correct results ordering, .insert is\u001b[39;00m\n\u001b[0;32m    783\u001b[0m     \u001b[38;5;66;03m# used (rather than .append) in the following line\u001b[39;00m\n\u001b[0;32m    784\u001b[0m     \u001b[38;5;28mself\u001b[39m\u001b[38;5;241m.\u001b[39m_jobs\u001b[38;5;241m.\u001b[39minsert(job_idx, job)\n",
      "File \u001b[1;32m~\\anaconda3\\lib\\site-packages\\joblib\\_parallel_backends.py:208\u001b[0m, in \u001b[0;36mSequentialBackend.apply_async\u001b[1;34m(self, func, callback)\u001b[0m\n\u001b[0;32m    206\u001b[0m \u001b[38;5;28;01mdef\u001b[39;00m \u001b[38;5;21mapply_async\u001b[39m(\u001b[38;5;28mself\u001b[39m, func, callback\u001b[38;5;241m=\u001b[39m\u001b[38;5;28;01mNone\u001b[39;00m):\n\u001b[0;32m    207\u001b[0m     \u001b[38;5;124;03m\"\"\"Schedule a func to be run\"\"\"\u001b[39;00m\n\u001b[1;32m--> 208\u001b[0m     result \u001b[38;5;241m=\u001b[39m \u001b[43mImmediateResult\u001b[49m\u001b[43m(\u001b[49m\u001b[43mfunc\u001b[49m\u001b[43m)\u001b[49m\n\u001b[0;32m    209\u001b[0m     \u001b[38;5;28;01mif\u001b[39;00m callback:\n\u001b[0;32m    210\u001b[0m         callback(result)\n",
      "File \u001b[1;32m~\\anaconda3\\lib\\site-packages\\joblib\\_parallel_backends.py:572\u001b[0m, in \u001b[0;36mImmediateResult.__init__\u001b[1;34m(self, batch)\u001b[0m\n\u001b[0;32m    569\u001b[0m \u001b[38;5;28;01mdef\u001b[39;00m \u001b[38;5;21m__init__\u001b[39m(\u001b[38;5;28mself\u001b[39m, batch):\n\u001b[0;32m    570\u001b[0m     \u001b[38;5;66;03m# Don't delay the application, to avoid keeping the input\u001b[39;00m\n\u001b[0;32m    571\u001b[0m     \u001b[38;5;66;03m# arguments in memory\u001b[39;00m\n\u001b[1;32m--> 572\u001b[0m     \u001b[38;5;28mself\u001b[39m\u001b[38;5;241m.\u001b[39mresults \u001b[38;5;241m=\u001b[39m \u001b[43mbatch\u001b[49m\u001b[43m(\u001b[49m\u001b[43m)\u001b[49m\n",
      "File \u001b[1;32m~\\anaconda3\\lib\\site-packages\\joblib\\parallel.py:262\u001b[0m, in \u001b[0;36mBatchedCalls.__call__\u001b[1;34m(self)\u001b[0m\n\u001b[0;32m    258\u001b[0m \u001b[38;5;28;01mdef\u001b[39;00m \u001b[38;5;21m__call__\u001b[39m(\u001b[38;5;28mself\u001b[39m):\n\u001b[0;32m    259\u001b[0m     \u001b[38;5;66;03m# Set the default nested backend to self._backend but do not set the\u001b[39;00m\n\u001b[0;32m    260\u001b[0m     \u001b[38;5;66;03m# change the default number of processes to -1\u001b[39;00m\n\u001b[0;32m    261\u001b[0m     \u001b[38;5;28;01mwith\u001b[39;00m parallel_backend(\u001b[38;5;28mself\u001b[39m\u001b[38;5;241m.\u001b[39m_backend, n_jobs\u001b[38;5;241m=\u001b[39m\u001b[38;5;28mself\u001b[39m\u001b[38;5;241m.\u001b[39m_n_jobs):\n\u001b[1;32m--> 262\u001b[0m         \u001b[38;5;28;01mreturn\u001b[39;00m [func(\u001b[38;5;241m*\u001b[39margs, \u001b[38;5;241m*\u001b[39m\u001b[38;5;241m*\u001b[39mkwargs)\n\u001b[0;32m    263\u001b[0m                 \u001b[38;5;28;01mfor\u001b[39;00m func, args, kwargs \u001b[38;5;129;01min\u001b[39;00m \u001b[38;5;28mself\u001b[39m\u001b[38;5;241m.\u001b[39mitems]\n",
      "File \u001b[1;32m~\\anaconda3\\lib\\site-packages\\joblib\\parallel.py:262\u001b[0m, in \u001b[0;36m<listcomp>\u001b[1;34m(.0)\u001b[0m\n\u001b[0;32m    258\u001b[0m \u001b[38;5;28;01mdef\u001b[39;00m \u001b[38;5;21m__call__\u001b[39m(\u001b[38;5;28mself\u001b[39m):\n\u001b[0;32m    259\u001b[0m     \u001b[38;5;66;03m# Set the default nested backend to self._backend but do not set the\u001b[39;00m\n\u001b[0;32m    260\u001b[0m     \u001b[38;5;66;03m# change the default number of processes to -1\u001b[39;00m\n\u001b[0;32m    261\u001b[0m     \u001b[38;5;28;01mwith\u001b[39;00m parallel_backend(\u001b[38;5;28mself\u001b[39m\u001b[38;5;241m.\u001b[39m_backend, n_jobs\u001b[38;5;241m=\u001b[39m\u001b[38;5;28mself\u001b[39m\u001b[38;5;241m.\u001b[39m_n_jobs):\n\u001b[1;32m--> 262\u001b[0m         \u001b[38;5;28;01mreturn\u001b[39;00m [func(\u001b[38;5;241m*\u001b[39margs, \u001b[38;5;241m*\u001b[39m\u001b[38;5;241m*\u001b[39mkwargs)\n\u001b[0;32m    263\u001b[0m                 \u001b[38;5;28;01mfor\u001b[39;00m func, args, kwargs \u001b[38;5;129;01min\u001b[39;00m \u001b[38;5;28mself\u001b[39m\u001b[38;5;241m.\u001b[39mitems]\n",
      "File \u001b[1;32m~\\anaconda3\\lib\\site-packages\\sklearn\\utils\\fixes.py:216\u001b[0m, in \u001b[0;36m_FuncWrapper.__call__\u001b[1;34m(self, *args, **kwargs)\u001b[0m\n\u001b[0;32m    214\u001b[0m \u001b[38;5;28;01mdef\u001b[39;00m \u001b[38;5;21m__call__\u001b[39m(\u001b[38;5;28mself\u001b[39m, \u001b[38;5;241m*\u001b[39margs, \u001b[38;5;241m*\u001b[39m\u001b[38;5;241m*\u001b[39mkwargs):\n\u001b[0;32m    215\u001b[0m     \u001b[38;5;28;01mwith\u001b[39;00m config_context(\u001b[38;5;241m*\u001b[39m\u001b[38;5;241m*\u001b[39m\u001b[38;5;28mself\u001b[39m\u001b[38;5;241m.\u001b[39mconfig):\n\u001b[1;32m--> 216\u001b[0m         \u001b[38;5;28;01mreturn\u001b[39;00m \u001b[38;5;28mself\u001b[39m\u001b[38;5;241m.\u001b[39mfunction(\u001b[38;5;241m*\u001b[39margs, \u001b[38;5;241m*\u001b[39m\u001b[38;5;241m*\u001b[39mkwargs)\n",
      "File \u001b[1;32m~\\anaconda3\\lib\\site-packages\\sklearn\\model_selection\\_validation.py:680\u001b[0m, in \u001b[0;36m_fit_and_score\u001b[1;34m(estimator, X, y, scorer, train, test, verbose, parameters, fit_params, return_train_score, return_parameters, return_n_test_samples, return_times, return_estimator, split_progress, candidate_progress, error_score)\u001b[0m\n\u001b[0;32m    678\u001b[0m         estimator\u001b[38;5;241m.\u001b[39mfit(X_train, \u001b[38;5;241m*\u001b[39m\u001b[38;5;241m*\u001b[39mfit_params)\n\u001b[0;32m    679\u001b[0m     \u001b[38;5;28;01melse\u001b[39;00m:\n\u001b[1;32m--> 680\u001b[0m         estimator\u001b[38;5;241m.\u001b[39mfit(X_train, y_train, \u001b[38;5;241m*\u001b[39m\u001b[38;5;241m*\u001b[39mfit_params)\n\u001b[0;32m    682\u001b[0m \u001b[38;5;28;01mexcept\u001b[39;00m \u001b[38;5;167;01mException\u001b[39;00m:\n\u001b[0;32m    683\u001b[0m     \u001b[38;5;66;03m# Note fit time as time until error\u001b[39;00m\n\u001b[0;32m    684\u001b[0m     fit_time \u001b[38;5;241m=\u001b[39m time\u001b[38;5;241m.\u001b[39mtime() \u001b[38;5;241m-\u001b[39m start_time\n",
      "File \u001b[1;32m~\\anaconda3\\lib\\site-packages\\sklearn\\ensemble\\_forest.py:450\u001b[0m, in \u001b[0;36mBaseForest.fit\u001b[1;34m(self, X, y, sample_weight)\u001b[0m\n\u001b[0;32m    439\u001b[0m trees \u001b[38;5;241m=\u001b[39m [\n\u001b[0;32m    440\u001b[0m     \u001b[38;5;28mself\u001b[39m\u001b[38;5;241m.\u001b[39m_make_estimator(append\u001b[38;5;241m=\u001b[39m\u001b[38;5;28;01mFalse\u001b[39;00m, random_state\u001b[38;5;241m=\u001b[39mrandom_state)\n\u001b[0;32m    441\u001b[0m     \u001b[38;5;28;01mfor\u001b[39;00m i \u001b[38;5;129;01min\u001b[39;00m \u001b[38;5;28mrange\u001b[39m(n_more_estimators)\n\u001b[0;32m    442\u001b[0m ]\n\u001b[0;32m    444\u001b[0m \u001b[38;5;66;03m# Parallel loop: we prefer the threading backend as the Cython code\u001b[39;00m\n\u001b[0;32m    445\u001b[0m \u001b[38;5;66;03m# for fitting the trees is internally releasing the Python GIL\u001b[39;00m\n\u001b[0;32m    446\u001b[0m \u001b[38;5;66;03m# making threading more efficient than multiprocessing in\u001b[39;00m\n\u001b[0;32m    447\u001b[0m \u001b[38;5;66;03m# that case. However, for joblib 0.12+ we respect any\u001b[39;00m\n\u001b[0;32m    448\u001b[0m \u001b[38;5;66;03m# parallel_backend contexts set at a higher level,\u001b[39;00m\n\u001b[0;32m    449\u001b[0m \u001b[38;5;66;03m# since correctness does not rely on using threads.\u001b[39;00m\n\u001b[1;32m--> 450\u001b[0m trees \u001b[38;5;241m=\u001b[39m \u001b[43mParallel\u001b[49m\u001b[43m(\u001b[49m\n\u001b[0;32m    451\u001b[0m \u001b[43m    \u001b[49m\u001b[43mn_jobs\u001b[49m\u001b[38;5;241;43m=\u001b[39;49m\u001b[38;5;28;43mself\u001b[39;49m\u001b[38;5;241;43m.\u001b[39;49m\u001b[43mn_jobs\u001b[49m\u001b[43m,\u001b[49m\n\u001b[0;32m    452\u001b[0m \u001b[43m    \u001b[49m\u001b[43mverbose\u001b[49m\u001b[38;5;241;43m=\u001b[39;49m\u001b[38;5;28;43mself\u001b[39;49m\u001b[38;5;241;43m.\u001b[39;49m\u001b[43mverbose\u001b[49m\u001b[43m,\u001b[49m\n\u001b[0;32m    453\u001b[0m \u001b[43m    \u001b[49m\u001b[38;5;241;43m*\u001b[39;49m\u001b[38;5;241;43m*\u001b[39;49m\u001b[43m_joblib_parallel_args\u001b[49m\u001b[43m(\u001b[49m\u001b[43mprefer\u001b[49m\u001b[38;5;241;43m=\u001b[39;49m\u001b[38;5;124;43m\"\u001b[39;49m\u001b[38;5;124;43mthreads\u001b[39;49m\u001b[38;5;124;43m\"\u001b[39;49m\u001b[43m)\u001b[49m\u001b[43m,\u001b[49m\n\u001b[0;32m    454\u001b[0m \u001b[43m\u001b[49m\u001b[43m)\u001b[49m\u001b[43m(\u001b[49m\n\u001b[0;32m    455\u001b[0m \u001b[43m    \u001b[49m\u001b[43mdelayed\u001b[49m\u001b[43m(\u001b[49m\u001b[43m_parallel_build_trees\u001b[49m\u001b[43m)\u001b[49m\u001b[43m(\u001b[49m\n\u001b[0;32m    456\u001b[0m \u001b[43m        \u001b[49m\u001b[43mt\u001b[49m\u001b[43m,\u001b[49m\n\u001b[0;32m    457\u001b[0m \u001b[43m        \u001b[49m\u001b[38;5;28;43mself\u001b[39;49m\u001b[43m,\u001b[49m\n\u001b[0;32m    458\u001b[0m \u001b[43m        \u001b[49m\u001b[43mX\u001b[49m\u001b[43m,\u001b[49m\n\u001b[0;32m    459\u001b[0m \u001b[43m        \u001b[49m\u001b[43my\u001b[49m\u001b[43m,\u001b[49m\n\u001b[0;32m    460\u001b[0m \u001b[43m        \u001b[49m\u001b[43msample_weight\u001b[49m\u001b[43m,\u001b[49m\n\u001b[0;32m    461\u001b[0m \u001b[43m        \u001b[49m\u001b[43mi\u001b[49m\u001b[43m,\u001b[49m\n\u001b[0;32m    462\u001b[0m \u001b[43m        \u001b[49m\u001b[38;5;28;43mlen\u001b[39;49m\u001b[43m(\u001b[49m\u001b[43mtrees\u001b[49m\u001b[43m)\u001b[49m\u001b[43m,\u001b[49m\n\u001b[0;32m    463\u001b[0m \u001b[43m        \u001b[49m\u001b[43mverbose\u001b[49m\u001b[38;5;241;43m=\u001b[39;49m\u001b[38;5;28;43mself\u001b[39;49m\u001b[38;5;241;43m.\u001b[39;49m\u001b[43mverbose\u001b[49m\u001b[43m,\u001b[49m\n\u001b[0;32m    464\u001b[0m \u001b[43m        \u001b[49m\u001b[43mclass_weight\u001b[49m\u001b[38;5;241;43m=\u001b[39;49m\u001b[38;5;28;43mself\u001b[39;49m\u001b[38;5;241;43m.\u001b[39;49m\u001b[43mclass_weight\u001b[49m\u001b[43m,\u001b[49m\n\u001b[0;32m    465\u001b[0m \u001b[43m        \u001b[49m\u001b[43mn_samples_bootstrap\u001b[49m\u001b[38;5;241;43m=\u001b[39;49m\u001b[43mn_samples_bootstrap\u001b[49m\u001b[43m,\u001b[49m\n\u001b[0;32m    466\u001b[0m \u001b[43m    \u001b[49m\u001b[43m)\u001b[49m\n\u001b[0;32m    467\u001b[0m \u001b[43m    \u001b[49m\u001b[38;5;28;43;01mfor\u001b[39;49;00m\u001b[43m \u001b[49m\u001b[43mi\u001b[49m\u001b[43m,\u001b[49m\u001b[43m \u001b[49m\u001b[43mt\u001b[49m\u001b[43m \u001b[49m\u001b[38;5;129;43;01min\u001b[39;49;00m\u001b[43m \u001b[49m\u001b[38;5;28;43menumerate\u001b[39;49m\u001b[43m(\u001b[49m\u001b[43mtrees\u001b[49m\u001b[43m)\u001b[49m\n\u001b[0;32m    468\u001b[0m \u001b[43m\u001b[49m\u001b[43m)\u001b[49m\n\u001b[0;32m    470\u001b[0m \u001b[38;5;66;03m# Collect newly grown trees\u001b[39;00m\n\u001b[0;32m    471\u001b[0m \u001b[38;5;28mself\u001b[39m\u001b[38;5;241m.\u001b[39mestimators_\u001b[38;5;241m.\u001b[39mextend(trees)\n",
      "File \u001b[1;32m~\\anaconda3\\lib\\site-packages\\joblib\\parallel.py:1046\u001b[0m, in \u001b[0;36mParallel.__call__\u001b[1;34m(self, iterable)\u001b[0m\n\u001b[0;32m   1043\u001b[0m \u001b[38;5;28;01mif\u001b[39;00m \u001b[38;5;28mself\u001b[39m\u001b[38;5;241m.\u001b[39mdispatch_one_batch(iterator):\n\u001b[0;32m   1044\u001b[0m     \u001b[38;5;28mself\u001b[39m\u001b[38;5;241m.\u001b[39m_iterating \u001b[38;5;241m=\u001b[39m \u001b[38;5;28mself\u001b[39m\u001b[38;5;241m.\u001b[39m_original_iterator \u001b[38;5;129;01mis\u001b[39;00m \u001b[38;5;129;01mnot\u001b[39;00m \u001b[38;5;28;01mNone\u001b[39;00m\n\u001b[1;32m-> 1046\u001b[0m \u001b[38;5;28;01mwhile\u001b[39;00m \u001b[38;5;28;43mself\u001b[39;49m\u001b[38;5;241;43m.\u001b[39;49m\u001b[43mdispatch_one_batch\u001b[49m\u001b[43m(\u001b[49m\u001b[43miterator\u001b[49m\u001b[43m)\u001b[49m:\n\u001b[0;32m   1047\u001b[0m     \u001b[38;5;28;01mpass\u001b[39;00m\n\u001b[0;32m   1049\u001b[0m \u001b[38;5;28;01mif\u001b[39;00m pre_dispatch \u001b[38;5;241m==\u001b[39m \u001b[38;5;124m\"\u001b[39m\u001b[38;5;124mall\u001b[39m\u001b[38;5;124m\"\u001b[39m \u001b[38;5;129;01mor\u001b[39;00m n_jobs \u001b[38;5;241m==\u001b[39m \u001b[38;5;241m1\u001b[39m:\n\u001b[0;32m   1050\u001b[0m     \u001b[38;5;66;03m# The iterable was consumed all at once by the above for loop.\u001b[39;00m\n\u001b[0;32m   1051\u001b[0m     \u001b[38;5;66;03m# No need to wait for async callbacks to trigger to\u001b[39;00m\n\u001b[0;32m   1052\u001b[0m     \u001b[38;5;66;03m# consumption.\u001b[39;00m\n",
      "File \u001b[1;32m~\\anaconda3\\lib\\site-packages\\joblib\\parallel.py:861\u001b[0m, in \u001b[0;36mParallel.dispatch_one_batch\u001b[1;34m(self, iterator)\u001b[0m\n\u001b[0;32m    859\u001b[0m     \u001b[38;5;28;01mreturn\u001b[39;00m \u001b[38;5;28;01mFalse\u001b[39;00m\n\u001b[0;32m    860\u001b[0m \u001b[38;5;28;01melse\u001b[39;00m:\n\u001b[1;32m--> 861\u001b[0m     \u001b[38;5;28;43mself\u001b[39;49m\u001b[38;5;241;43m.\u001b[39;49m\u001b[43m_dispatch\u001b[49m\u001b[43m(\u001b[49m\u001b[43mtasks\u001b[49m\u001b[43m)\u001b[49m\n\u001b[0;32m    862\u001b[0m     \u001b[38;5;28;01mreturn\u001b[39;00m \u001b[38;5;28;01mTrue\u001b[39;00m\n",
      "File \u001b[1;32m~\\anaconda3\\lib\\site-packages\\joblib\\parallel.py:779\u001b[0m, in \u001b[0;36mParallel._dispatch\u001b[1;34m(self, batch)\u001b[0m\n\u001b[0;32m    777\u001b[0m \u001b[38;5;28;01mwith\u001b[39;00m \u001b[38;5;28mself\u001b[39m\u001b[38;5;241m.\u001b[39m_lock:\n\u001b[0;32m    778\u001b[0m     job_idx \u001b[38;5;241m=\u001b[39m \u001b[38;5;28mlen\u001b[39m(\u001b[38;5;28mself\u001b[39m\u001b[38;5;241m.\u001b[39m_jobs)\n\u001b[1;32m--> 779\u001b[0m     job \u001b[38;5;241m=\u001b[39m \u001b[38;5;28;43mself\u001b[39;49m\u001b[38;5;241;43m.\u001b[39;49m\u001b[43m_backend\u001b[49m\u001b[38;5;241;43m.\u001b[39;49m\u001b[43mapply_async\u001b[49m\u001b[43m(\u001b[49m\u001b[43mbatch\u001b[49m\u001b[43m,\u001b[49m\u001b[43m \u001b[49m\u001b[43mcallback\u001b[49m\u001b[38;5;241;43m=\u001b[39;49m\u001b[43mcb\u001b[49m\u001b[43m)\u001b[49m\n\u001b[0;32m    780\u001b[0m     \u001b[38;5;66;03m# A job can complete so quickly than its callback is\u001b[39;00m\n\u001b[0;32m    781\u001b[0m     \u001b[38;5;66;03m# called before we get here, causing self._jobs to\u001b[39;00m\n\u001b[0;32m    782\u001b[0m     \u001b[38;5;66;03m# grow. To ensure correct results ordering, .insert is\u001b[39;00m\n\u001b[0;32m    783\u001b[0m     \u001b[38;5;66;03m# used (rather than .append) in the following line\u001b[39;00m\n\u001b[0;32m    784\u001b[0m     \u001b[38;5;28mself\u001b[39m\u001b[38;5;241m.\u001b[39m_jobs\u001b[38;5;241m.\u001b[39minsert(job_idx, job)\n",
      "File \u001b[1;32m~\\anaconda3\\lib\\site-packages\\joblib\\_parallel_backends.py:208\u001b[0m, in \u001b[0;36mSequentialBackend.apply_async\u001b[1;34m(self, func, callback)\u001b[0m\n\u001b[0;32m    206\u001b[0m \u001b[38;5;28;01mdef\u001b[39;00m \u001b[38;5;21mapply_async\u001b[39m(\u001b[38;5;28mself\u001b[39m, func, callback\u001b[38;5;241m=\u001b[39m\u001b[38;5;28;01mNone\u001b[39;00m):\n\u001b[0;32m    207\u001b[0m     \u001b[38;5;124;03m\"\"\"Schedule a func to be run\"\"\"\u001b[39;00m\n\u001b[1;32m--> 208\u001b[0m     result \u001b[38;5;241m=\u001b[39m \u001b[43mImmediateResult\u001b[49m\u001b[43m(\u001b[49m\u001b[43mfunc\u001b[49m\u001b[43m)\u001b[49m\n\u001b[0;32m    209\u001b[0m     \u001b[38;5;28;01mif\u001b[39;00m callback:\n\u001b[0;32m    210\u001b[0m         callback(result)\n",
      "File \u001b[1;32m~\\anaconda3\\lib\\site-packages\\joblib\\_parallel_backends.py:572\u001b[0m, in \u001b[0;36mImmediateResult.__init__\u001b[1;34m(self, batch)\u001b[0m\n\u001b[0;32m    569\u001b[0m \u001b[38;5;28;01mdef\u001b[39;00m \u001b[38;5;21m__init__\u001b[39m(\u001b[38;5;28mself\u001b[39m, batch):\n\u001b[0;32m    570\u001b[0m     \u001b[38;5;66;03m# Don't delay the application, to avoid keeping the input\u001b[39;00m\n\u001b[0;32m    571\u001b[0m     \u001b[38;5;66;03m# arguments in memory\u001b[39;00m\n\u001b[1;32m--> 572\u001b[0m     \u001b[38;5;28mself\u001b[39m\u001b[38;5;241m.\u001b[39mresults \u001b[38;5;241m=\u001b[39m \u001b[43mbatch\u001b[49m\u001b[43m(\u001b[49m\u001b[43m)\u001b[49m\n",
      "File \u001b[1;32m~\\anaconda3\\lib\\site-packages\\joblib\\parallel.py:262\u001b[0m, in \u001b[0;36mBatchedCalls.__call__\u001b[1;34m(self)\u001b[0m\n\u001b[0;32m    258\u001b[0m \u001b[38;5;28;01mdef\u001b[39;00m \u001b[38;5;21m__call__\u001b[39m(\u001b[38;5;28mself\u001b[39m):\n\u001b[0;32m    259\u001b[0m     \u001b[38;5;66;03m# Set the default nested backend to self._backend but do not set the\u001b[39;00m\n\u001b[0;32m    260\u001b[0m     \u001b[38;5;66;03m# change the default number of processes to -1\u001b[39;00m\n\u001b[0;32m    261\u001b[0m     \u001b[38;5;28;01mwith\u001b[39;00m parallel_backend(\u001b[38;5;28mself\u001b[39m\u001b[38;5;241m.\u001b[39m_backend, n_jobs\u001b[38;5;241m=\u001b[39m\u001b[38;5;28mself\u001b[39m\u001b[38;5;241m.\u001b[39m_n_jobs):\n\u001b[1;32m--> 262\u001b[0m         \u001b[38;5;28;01mreturn\u001b[39;00m [func(\u001b[38;5;241m*\u001b[39margs, \u001b[38;5;241m*\u001b[39m\u001b[38;5;241m*\u001b[39mkwargs)\n\u001b[0;32m    263\u001b[0m                 \u001b[38;5;28;01mfor\u001b[39;00m func, args, kwargs \u001b[38;5;129;01min\u001b[39;00m \u001b[38;5;28mself\u001b[39m\u001b[38;5;241m.\u001b[39mitems]\n",
      "File \u001b[1;32m~\\anaconda3\\lib\\site-packages\\joblib\\parallel.py:262\u001b[0m, in \u001b[0;36m<listcomp>\u001b[1;34m(.0)\u001b[0m\n\u001b[0;32m    258\u001b[0m \u001b[38;5;28;01mdef\u001b[39;00m \u001b[38;5;21m__call__\u001b[39m(\u001b[38;5;28mself\u001b[39m):\n\u001b[0;32m    259\u001b[0m     \u001b[38;5;66;03m# Set the default nested backend to self._backend but do not set the\u001b[39;00m\n\u001b[0;32m    260\u001b[0m     \u001b[38;5;66;03m# change the default number of processes to -1\u001b[39;00m\n\u001b[0;32m    261\u001b[0m     \u001b[38;5;28;01mwith\u001b[39;00m parallel_backend(\u001b[38;5;28mself\u001b[39m\u001b[38;5;241m.\u001b[39m_backend, n_jobs\u001b[38;5;241m=\u001b[39m\u001b[38;5;28mself\u001b[39m\u001b[38;5;241m.\u001b[39m_n_jobs):\n\u001b[1;32m--> 262\u001b[0m         \u001b[38;5;28;01mreturn\u001b[39;00m [func(\u001b[38;5;241m*\u001b[39margs, \u001b[38;5;241m*\u001b[39m\u001b[38;5;241m*\u001b[39mkwargs)\n\u001b[0;32m    263\u001b[0m                 \u001b[38;5;28;01mfor\u001b[39;00m func, args, kwargs \u001b[38;5;129;01min\u001b[39;00m \u001b[38;5;28mself\u001b[39m\u001b[38;5;241m.\u001b[39mitems]\n",
      "File \u001b[1;32m~\\anaconda3\\lib\\site-packages\\sklearn\\utils\\fixes.py:216\u001b[0m, in \u001b[0;36m_FuncWrapper.__call__\u001b[1;34m(self, *args, **kwargs)\u001b[0m\n\u001b[0;32m    214\u001b[0m \u001b[38;5;28;01mdef\u001b[39;00m \u001b[38;5;21m__call__\u001b[39m(\u001b[38;5;28mself\u001b[39m, \u001b[38;5;241m*\u001b[39margs, \u001b[38;5;241m*\u001b[39m\u001b[38;5;241m*\u001b[39mkwargs):\n\u001b[0;32m    215\u001b[0m     \u001b[38;5;28;01mwith\u001b[39;00m config_context(\u001b[38;5;241m*\u001b[39m\u001b[38;5;241m*\u001b[39m\u001b[38;5;28mself\u001b[39m\u001b[38;5;241m.\u001b[39mconfig):\n\u001b[1;32m--> 216\u001b[0m         \u001b[38;5;28;01mreturn\u001b[39;00m \u001b[38;5;28mself\u001b[39m\u001b[38;5;241m.\u001b[39mfunction(\u001b[38;5;241m*\u001b[39margs, \u001b[38;5;241m*\u001b[39m\u001b[38;5;241m*\u001b[39mkwargs)\n",
      "File \u001b[1;32m~\\anaconda3\\lib\\site-packages\\sklearn\\ensemble\\_forest.py:187\u001b[0m, in \u001b[0;36m_parallel_build_trees\u001b[1;34m(tree, forest, X, y, sample_weight, tree_idx, n_trees, verbose, class_weight, n_samples_bootstrap)\u001b[0m\n\u001b[0;32m    185\u001b[0m     tree\u001b[38;5;241m.\u001b[39mfit(X, y, sample_weight\u001b[38;5;241m=\u001b[39mcurr_sample_weight, check_input\u001b[38;5;241m=\u001b[39m\u001b[38;5;28;01mFalse\u001b[39;00m)\n\u001b[0;32m    186\u001b[0m \u001b[38;5;28;01melse\u001b[39;00m:\n\u001b[1;32m--> 187\u001b[0m     \u001b[43mtree\u001b[49m\u001b[38;5;241;43m.\u001b[39;49m\u001b[43mfit\u001b[49m\u001b[43m(\u001b[49m\u001b[43mX\u001b[49m\u001b[43m,\u001b[49m\u001b[43m \u001b[49m\u001b[43my\u001b[49m\u001b[43m,\u001b[49m\u001b[43m \u001b[49m\u001b[43msample_weight\u001b[49m\u001b[38;5;241;43m=\u001b[39;49m\u001b[43msample_weight\u001b[49m\u001b[43m,\u001b[49m\u001b[43m \u001b[49m\u001b[43mcheck_input\u001b[49m\u001b[38;5;241;43m=\u001b[39;49m\u001b[38;5;28;43;01mFalse\u001b[39;49;00m\u001b[43m)\u001b[49m\n\u001b[0;32m    189\u001b[0m \u001b[38;5;28;01mreturn\u001b[39;00m tree\n",
      "File \u001b[1;32m~\\anaconda3\\lib\\site-packages\\sklearn\\tree\\_classes.py:937\u001b[0m, in \u001b[0;36mDecisionTreeClassifier.fit\u001b[1;34m(self, X, y, sample_weight, check_input, X_idx_sorted)\u001b[0m\n\u001b[0;32m    899\u001b[0m \u001b[38;5;28;01mdef\u001b[39;00m \u001b[38;5;21mfit\u001b[39m(\n\u001b[0;32m    900\u001b[0m     \u001b[38;5;28mself\u001b[39m, X, y, sample_weight\u001b[38;5;241m=\u001b[39m\u001b[38;5;28;01mNone\u001b[39;00m, check_input\u001b[38;5;241m=\u001b[39m\u001b[38;5;28;01mTrue\u001b[39;00m, X_idx_sorted\u001b[38;5;241m=\u001b[39m\u001b[38;5;124m\"\u001b[39m\u001b[38;5;124mdeprecated\u001b[39m\u001b[38;5;124m\"\u001b[39m\n\u001b[0;32m    901\u001b[0m ):\n\u001b[0;32m    902\u001b[0m     \u001b[38;5;124;03m\"\"\"Build a decision tree classifier from the training set (X, y).\u001b[39;00m\n\u001b[0;32m    903\u001b[0m \n\u001b[0;32m    904\u001b[0m \u001b[38;5;124;03m    Parameters\u001b[39;00m\n\u001b[1;32m   (...)\u001b[0m\n\u001b[0;32m    934\u001b[0m \u001b[38;5;124;03m        Fitted estimator.\u001b[39;00m\n\u001b[0;32m    935\u001b[0m \u001b[38;5;124;03m    \"\"\"\u001b[39;00m\n\u001b[1;32m--> 937\u001b[0m     \u001b[38;5;28;43msuper\u001b[39;49m\u001b[43m(\u001b[49m\u001b[43m)\u001b[49m\u001b[38;5;241;43m.\u001b[39;49m\u001b[43mfit\u001b[49m\u001b[43m(\u001b[49m\n\u001b[0;32m    938\u001b[0m \u001b[43m        \u001b[49m\u001b[43mX\u001b[49m\u001b[43m,\u001b[49m\n\u001b[0;32m    939\u001b[0m \u001b[43m        \u001b[49m\u001b[43my\u001b[49m\u001b[43m,\u001b[49m\n\u001b[0;32m    940\u001b[0m \u001b[43m        \u001b[49m\u001b[43msample_weight\u001b[49m\u001b[38;5;241;43m=\u001b[39;49m\u001b[43msample_weight\u001b[49m\u001b[43m,\u001b[49m\n\u001b[0;32m    941\u001b[0m \u001b[43m        \u001b[49m\u001b[43mcheck_input\u001b[49m\u001b[38;5;241;43m=\u001b[39;49m\u001b[43mcheck_input\u001b[49m\u001b[43m,\u001b[49m\n\u001b[0;32m    942\u001b[0m \u001b[43m        \u001b[49m\u001b[43mX_idx_sorted\u001b[49m\u001b[38;5;241;43m=\u001b[39;49m\u001b[43mX_idx_sorted\u001b[49m\u001b[43m,\u001b[49m\n\u001b[0;32m    943\u001b[0m \u001b[43m    \u001b[49m\u001b[43m)\u001b[49m\n\u001b[0;32m    944\u001b[0m     \u001b[38;5;28;01mreturn\u001b[39;00m \u001b[38;5;28mself\u001b[39m\n",
      "File \u001b[1;32m~\\anaconda3\\lib\\site-packages\\sklearn\\tree\\_classes.py:203\u001b[0m, in \u001b[0;36mBaseDecisionTree.fit\u001b[1;34m(self, X, y, sample_weight, check_input, X_idx_sorted)\u001b[0m\n\u001b[0;32m    200\u001b[0m \u001b[38;5;28mself\u001b[39m\u001b[38;5;241m.\u001b[39mn_outputs_ \u001b[38;5;241m=\u001b[39m y\u001b[38;5;241m.\u001b[39mshape[\u001b[38;5;241m1\u001b[39m]\n\u001b[0;32m    202\u001b[0m \u001b[38;5;28;01mif\u001b[39;00m is_classification:\n\u001b[1;32m--> 203\u001b[0m     \u001b[43mcheck_classification_targets\u001b[49m\u001b[43m(\u001b[49m\u001b[43my\u001b[49m\u001b[43m)\u001b[49m\n\u001b[0;32m    204\u001b[0m     y \u001b[38;5;241m=\u001b[39m np\u001b[38;5;241m.\u001b[39mcopy(y)\n\u001b[0;32m    206\u001b[0m     \u001b[38;5;28mself\u001b[39m\u001b[38;5;241m.\u001b[39mclasses_ \u001b[38;5;241m=\u001b[39m []\n",
      "File \u001b[1;32m~\\anaconda3\\lib\\site-packages\\sklearn\\utils\\multiclass.py:189\u001b[0m, in \u001b[0;36mcheck_classification_targets\u001b[1;34m(y)\u001b[0m\n\u001b[0;32m    178\u001b[0m \u001b[38;5;28;01mdef\u001b[39;00m \u001b[38;5;21mcheck_classification_targets\u001b[39m(y):\n\u001b[0;32m    179\u001b[0m     \u001b[38;5;124;03m\"\"\"Ensure that target y is of a non-regression type.\u001b[39;00m\n\u001b[0;32m    180\u001b[0m \n\u001b[0;32m    181\u001b[0m \u001b[38;5;124;03m    Only the following target types (as defined in type_of_target) are allowed:\u001b[39;00m\n\u001b[1;32m   (...)\u001b[0m\n\u001b[0;32m    187\u001b[0m \u001b[38;5;124;03m    y : array-like\u001b[39;00m\n\u001b[0;32m    188\u001b[0m \u001b[38;5;124;03m    \"\"\"\u001b[39;00m\n\u001b[1;32m--> 189\u001b[0m     y_type \u001b[38;5;241m=\u001b[39m \u001b[43mtype_of_target\u001b[49m\u001b[43m(\u001b[49m\u001b[43my\u001b[49m\u001b[43m)\u001b[49m\n\u001b[0;32m    190\u001b[0m     \u001b[38;5;28;01mif\u001b[39;00m y_type \u001b[38;5;129;01mnot\u001b[39;00m \u001b[38;5;129;01min\u001b[39;00m [\n\u001b[0;32m    191\u001b[0m         \u001b[38;5;124m\"\u001b[39m\u001b[38;5;124mbinary\u001b[39m\u001b[38;5;124m\"\u001b[39m,\n\u001b[0;32m    192\u001b[0m         \u001b[38;5;124m\"\u001b[39m\u001b[38;5;124mmulticlass\u001b[39m\u001b[38;5;124m\"\u001b[39m,\n\u001b[1;32m   (...)\u001b[0m\n\u001b[0;32m    195\u001b[0m         \u001b[38;5;124m\"\u001b[39m\u001b[38;5;124mmultilabel-sequences\u001b[39m\u001b[38;5;124m\"\u001b[39m,\n\u001b[0;32m    196\u001b[0m     ]:\n\u001b[0;32m    197\u001b[0m         \u001b[38;5;28;01mraise\u001b[39;00m \u001b[38;5;167;01mValueError\u001b[39;00m(\u001b[38;5;124m\"\u001b[39m\u001b[38;5;124mUnknown label type: \u001b[39m\u001b[38;5;132;01m%r\u001b[39;00m\u001b[38;5;124m\"\u001b[39m \u001b[38;5;241m%\u001b[39m y_type)\n",
      "File \u001b[1;32m~\\anaconda3\\lib\\site-packages\\sklearn\\utils\\multiclass.py:327\u001b[0m, in \u001b[0;36mtype_of_target\u001b[1;34m(y)\u001b[0m\n\u001b[0;32m    324\u001b[0m     _assert_all_finite(y)\n\u001b[0;32m    325\u001b[0m     \u001b[38;5;28;01mreturn\u001b[39;00m \u001b[38;5;124m\"\u001b[39m\u001b[38;5;124mcontinuous\u001b[39m\u001b[38;5;124m\"\u001b[39m \u001b[38;5;241m+\u001b[39m suffix\n\u001b[1;32m--> 327\u001b[0m \u001b[38;5;28;01mif\u001b[39;00m (\u001b[38;5;28mlen\u001b[39m(\u001b[43mnp\u001b[49m\u001b[38;5;241;43m.\u001b[39;49m\u001b[43munique\u001b[49m\u001b[43m(\u001b[49m\u001b[43my\u001b[49m\u001b[43m)\u001b[49m) \u001b[38;5;241m>\u001b[39m \u001b[38;5;241m2\u001b[39m) \u001b[38;5;129;01mor\u001b[39;00m (y\u001b[38;5;241m.\u001b[39mndim \u001b[38;5;241m>\u001b[39m\u001b[38;5;241m=\u001b[39m \u001b[38;5;241m2\u001b[39m \u001b[38;5;129;01mand\u001b[39;00m \u001b[38;5;28mlen\u001b[39m(y[\u001b[38;5;241m0\u001b[39m]) \u001b[38;5;241m>\u001b[39m \u001b[38;5;241m1\u001b[39m):\n\u001b[0;32m    328\u001b[0m     \u001b[38;5;28;01mreturn\u001b[39;00m \u001b[38;5;124m\"\u001b[39m\u001b[38;5;124mmulticlass\u001b[39m\u001b[38;5;124m\"\u001b[39m \u001b[38;5;241m+\u001b[39m suffix  \u001b[38;5;66;03m# [1, 2, 3] or [[1., 2., 3]] or [[1, 2]]\u001b[39;00m\n\u001b[0;32m    329\u001b[0m \u001b[38;5;28;01melse\u001b[39;00m:\n",
      "File \u001b[1;32m<__array_function__ internals>:5\u001b[0m, in \u001b[0;36munique\u001b[1;34m(*args, **kwargs)\u001b[0m\n",
      "File \u001b[1;32m~\\anaconda3\\lib\\site-packages\\numpy\\lib\\arraysetops.py:272\u001b[0m, in \u001b[0;36munique\u001b[1;34m(ar, return_index, return_inverse, return_counts, axis)\u001b[0m\n\u001b[0;32m    270\u001b[0m ar \u001b[38;5;241m=\u001b[39m np\u001b[38;5;241m.\u001b[39masanyarray(ar)\n\u001b[0;32m    271\u001b[0m \u001b[38;5;28;01mif\u001b[39;00m axis \u001b[38;5;129;01mis\u001b[39;00m \u001b[38;5;28;01mNone\u001b[39;00m:\n\u001b[1;32m--> 272\u001b[0m     ret \u001b[38;5;241m=\u001b[39m \u001b[43m_unique1d\u001b[49m\u001b[43m(\u001b[49m\u001b[43mar\u001b[49m\u001b[43m,\u001b[49m\u001b[43m \u001b[49m\u001b[43mreturn_index\u001b[49m\u001b[43m,\u001b[49m\u001b[43m \u001b[49m\u001b[43mreturn_inverse\u001b[49m\u001b[43m,\u001b[49m\u001b[43m \u001b[49m\u001b[43mreturn_counts\u001b[49m\u001b[43m)\u001b[49m\n\u001b[0;32m    273\u001b[0m     \u001b[38;5;28;01mreturn\u001b[39;00m _unpack_tuple(ret)\n\u001b[0;32m    275\u001b[0m \u001b[38;5;66;03m# axis was specified and not None\u001b[39;00m\n",
      "File \u001b[1;32m~\\anaconda3\\lib\\site-packages\\numpy\\lib\\arraysetops.py:333\u001b[0m, in \u001b[0;36m_unique1d\u001b[1;34m(ar, return_index, return_inverse, return_counts)\u001b[0m\n\u001b[0;32m    331\u001b[0m     aux \u001b[38;5;241m=\u001b[39m ar[perm]\n\u001b[0;32m    332\u001b[0m \u001b[38;5;28;01melse\u001b[39;00m:\n\u001b[1;32m--> 333\u001b[0m     \u001b[43mar\u001b[49m\u001b[38;5;241;43m.\u001b[39;49m\u001b[43msort\u001b[49m\u001b[43m(\u001b[49m\u001b[43m)\u001b[49m\n\u001b[0;32m    334\u001b[0m     aux \u001b[38;5;241m=\u001b[39m ar\n\u001b[0;32m    335\u001b[0m mask \u001b[38;5;241m=\u001b[39m np\u001b[38;5;241m.\u001b[39mempty(aux\u001b[38;5;241m.\u001b[39mshape, dtype\u001b[38;5;241m=\u001b[39mnp\u001b[38;5;241m.\u001b[39mbool_)\n",
      "\u001b[1;31mKeyboardInterrupt\u001b[0m: "
     ]
    }
   ],
   "source": [
   "execution_count": null,
   "metadata": {},
   "outputs": [],
   "source": [
    "from sklearn.model_selection import GridSearchCV\n",
    "rf_Grid=GridSearchCV(rf_Model,param_grid,cv=5)\n",
    "rf_Grid.fit(X_train_transf,y_train)"
   ]
  },
  {
   "cell_type": "code",
   "execution_count": null,
   "metadata": {},
   "outputs": [],
   "source": [
    "\n",
    "y_pred=rf_Grid.predict(X_test)\n",
    "rf_Grid.best_score_"
   ]
  },
  {
   "cell_type": "code",
   "execution_count": null,
   "metadata": {},
   "outputs": [],
   "source": [
    "\n",
    "y_pred=rf_Grid.predict(X_test)\n",
  },
  {
   "cell_type": "code",
   "execution_count": null,
   "metadata": {},
   "outputs": [],
   "source": [
    "import xgboost as xgb\n",
    "# Define the parameters for the XGBoost model\n",
  },
  {
   "cell_type": "code",
   "execution_count": null,
   "metadata": {},
   "outputs": [],
   "source": [
    "from sklearn.neural_network import MLPClassifier\n",
    "\n",
   ]
  },
  {
   "cell_type": "markdown",
   "metadata": {},
   "source": [
   ]
  },
  {
   "cell_type": "code",
   "execution_count": 14,
   "metadata": {},
   "outputs": [
    {
     "ename": "NameError",
     "evalue": "name 'StandardScaler' is not defined",
     "output_type": "error",
     "traceback": [
      "\u001b[0;31m---------------------------------------------------------------------------\u001b[0m",
      "\u001b[0;31mNameError\u001b[0m                                 Traceback (most recent call last)",
      "\u001b[0;32m<ipython-input-14-be82a844217a>\u001b[0m in \u001b[0;36m<module>\u001b[0;34m\u001b[0m\n\u001b[1;32m      1\u001b[0m \u001b[0;31m# Standardize the features\u001b[0m\u001b[0;34m\u001b[0m\u001b[0;34m\u001b[0m\u001b[0;34m\u001b[0m\u001b[0m\n\u001b[0;32m----> 2\u001b[0;31m \u001b[0mscaler\u001b[0m \u001b[0;34m=\u001b[0m \u001b[0mStandardScaler\u001b[0m\u001b[0;34m(\u001b[0m\u001b[0;34m)\u001b[0m\u001b[0;34m\u001b[0m\u001b[0;34m\u001b[0m\u001b[0m\n\u001b[0m\u001b[1;32m      3\u001b[0m \u001b[0mX_train\u001b[0m \u001b[0;34m=\u001b[0m \u001b[0mscaler\u001b[0m\u001b[0;34m.\u001b[0m\u001b[0mfit_transform\u001b[0m\u001b[0;34m(\u001b[0m\u001b[0mX_train\u001b[0m\u001b[0;34m)\u001b[0m\u001b[0;34m\u001b[0m\u001b[0;34m\u001b[0m\u001b[0m\n\u001b[1;32m      4\u001b[0m \u001b[0mX_test\u001b[0m \u001b[0;34m=\u001b[0m \u001b[0mscaler\u001b[0m\u001b[0;34m.\u001b[0m\u001b[0mtransform\u001b[0m\u001b[0;34m(\u001b[0m\u001b[0mX_test\u001b[0m\u001b[0;34m)\u001b[0m\u001b[0;34m\u001b[0m\u001b[0;34m\u001b[0m\u001b[0m\n",
      "\u001b[0;31mNameError\u001b[0m: name 'StandardScaler' is not defined"
     ]
    }
   ],
   "source": [
    "# Standardize the features\n",
    "scaler = StandardScaler()\n",
    "X_train = scaler.fit_transform(X_train)\n",
    "X_test = scaler.transform(X_test)"
   ]
  },
  {
   "cell_type": "code",
   "execution_count": 15,
   "metadata": {},
   "outputs": [
    {
     "ename": "NameError",
     "evalue": "name 'LogisticRegression' is not defined",
     "output_type": "error",
     "traceback": [
      "\u001b[0;31m---------------------------------------------------------------------------\u001b[0m",
      "\u001b[0;31mNameError\u001b[0m                                 Traceback (most recent call last)",
      "\u001b[0;32m<ipython-input-15-dd40e4e7e366>\u001b[0m in \u001b[0;36m<module>\u001b[0;34m\u001b[0m\n\u001b[1;32m      1\u001b[0m \u001b[0;31m# Fit different models and evaluate their performance\u001b[0m\u001b[0;34m\u001b[0m\u001b[0;34m\u001b[0m\u001b[0;34m\u001b[0m\u001b[0m\n\u001b[1;32m      2\u001b[0m models = [\n\u001b[0;32m----> 3\u001b[0;31m     \u001b[0mLogisticRegression\u001b[0m\u001b[0;34m(\u001b[0m\u001b[0;34m)\u001b[0m\u001b[0;34m,\u001b[0m\u001b[0;34m\u001b[0m\u001b[0;34m\u001b[0m\u001b[0m\n\u001b[0m\u001b[1;32m      4\u001b[0m     \u001b[0mDecisionTreeClassifier\u001b[0m\u001b[0;34m(\u001b[0m\u001b[0;34m)\u001b[0m\u001b[0;34m,\u001b[0m\u001b[0;34m\u001b[0m\u001b[0;34m\u001b[0m\u001b[0m\n\u001b[1;32m      5\u001b[0m     \u001b[0mRandomForestClassifier\u001b[0m\u001b[0;34m(\u001b[0m\u001b[0;34m)\u001b[0m\u001b[0;34m,\u001b[0m\u001b[0;34m\u001b[0m\u001b[0;34m\u001b[0m\u001b[0m\n",
      "\u001b[0;31mNameError\u001b[0m: name 'LogisticRegression' is not defined"
     ]
    }
   ],
   "source": [
    "# Fit different models and evaluate their performance\n",
    "models = [\n",
    "    LogisticRegression(),\n",
    "    DecisionTreeClassifier(),\n",
    "    RandomForestClassifier(),\n",
    "    SVC(),\n",
    "    MLPClassifier()\n",
    "]\n",
    "\n",
    "for model in models:\n",
    "    model.fit(X_train, y_train)\n",
    "    accuracy = model.score(X_test, y_test)\n",
    "    print(f\"{model.__class__.__name__}: {accuracy:.2f}\")"
   ]
  },
  {
   "cell_type": "code",
   "execution_count": 277,
   "metadata": {},
   "outputs": [
    {
     "ename": "NameError",
     "evalue": "name 'StackingClassifier' is not defined",
     "output_type": "error",
     "traceback": [
      "\u001b[1;31m---------------------------------------------------------------------------\u001b[0m",
      "\u001b[1;31mNameError\u001b[0m                                 Traceback (most recent call last)",
      "Input \u001b[1;32mIn [277]\u001b[0m, in \u001b[0;36m<cell line: 15>\u001b[1;34m()\u001b[0m\n\u001b[0;32m     12\u001b[0m meta_model \u001b[38;5;241m=\u001b[39m LogisticRegression()\n\u001b[0;32m     14\u001b[0m \u001b[38;5;66;03m# Define the stacking model\u001b[39;00m\n\u001b[1;32m---> 15\u001b[0m stacking_model \u001b[38;5;241m=\u001b[39m \u001b[43mStackingClassifier\u001b[49m(estimators\u001b[38;5;241m=\u001b[39mbase_models, final_estimator\u001b[38;5;241m=\u001b[39mmeta_model, cv\u001b[38;5;241m=\u001b[39m\u001b[38;5;241m5\u001b[39m)\n\u001b[0;32m     17\u001b[0m \u001b[38;5;66;03m# Fit the stacking model\u001b[39;00m\n\u001b[0;32m     18\u001b[0m stacking_model\u001b[38;5;241m.\u001b[39mfit(X_train, y_train)\n",
      "\u001b[1;31mNameError\u001b[0m: name 'StackingClassifier' is not defined"
     ]
    }
   ],
   "source": [
    "#STACKING\n",
    "# Define the base models\n",
    "base_models = [\n",
    "    LogisticRegression(),\n",
    "    DecisionTreeClassifier(),\n",
    "    RandomForestClassifier(),\n",
    "    SVC(),\n",
    "    MLPClassifier()\n",
    "]\n",
    "\n",
    "# Define the second-level model\n",
    "meta_model = LogisticRegression()\n",
    "\n",
    "# Define the stacking model\n",
    "stacking_model = StackingClassifier(estimators=base_models, final_estimator=meta_model, cv=5)\n",
    "\n",
    "# Fit the stacking model\n",
    "stacking_model.fit(X_train, y_train)\n",
    "\n",
    "# Make predictions on the test set\n",
    "predictions = stacking_model.predict(X_test)\n",
    "\n",
    "# Evaluate the model\n",
    "accuracy = stacking_model.score(X_test, y_test)\n",
    "print(\"Accuracy:\", accuracy)\n"
   ]
  },
  {
   "cell_type": "markdown",
   "metadata": {},
   "source": [
    "# Avaliação de performance"
   ]
  },
  {
   "cell_type": "code",
   "execution_count": null,
   "metadata": {},
   "outputs": [],
   "source": [
    "from sklearn.metrics import classification_report\n",
    "print(classification_report(y_test,y_pred))"
   ]
  },
  {
   "cell_type": "code",
   "execution_count": null,
   "metadata": {},
   "outputs": [],
   "source": [
    "from sklearn.metrics import accuracy_score,precision_score, recall_score, f1_score\n",
    "#print(accuracy_score(y_test,y_pred))\n",
    "#print(precision_score(y_test,y_pred))\n",
    "#print(recall_score(y_test,y_pred))\n",
    "#print(f1_score(y_test,y_pred))"
   ]
  },
  {
   "cell_type": "code",
   "execution_count": null,
   "metadata": {},
   "outputs": [],
   "source": [
    "from sklearn.metrics import confusion_matrix, roc_auc_score, roc_curve\n",
    "\n",
    "# Compute the confusion matrix\n",
    "cf_matrix = confusion_matrix(y_test, y_pred)\n",
    "print(cf_matrix)\n",
    "\n",
    "# Compute the ROC AUC score\n",
    "roc_auc = roc_auc_score(y_test, y_pred)\n",
    "print(roc_auc)\n",
    "\n",
    "# Generate the ROC curve\n",
    "fpr, tpr, thresholds = roc_curve(y_test, y_pred)"
   ]
  },
  {
   "cell_type": "code",
   "execution_count": null,
   "metadata": {},
   "outputs": [],
   "source": [
    "import seaborn as sns\n",
    "sns.heatmap(cf_matrix, annot=True, fmt='g');"
   ]
  },
  {
   "cell_type": "code",
   "execution_count": null,
   "metadata": {},
   "outputs": [],
   "source": [
    "sns.heatmap(cf_matrix/np.sum(cf_matrix), annot=True, \n",
    "            fmt='.2%', cmap='Blues');"
   ]
  },
  {
   "cell_type": "code",
   "execution_count": null,
   "metadata": {},
   "outputs": [],
   "source": [
    "from sklearn.metrics import accuracy_score,precision_score, recall_score, f1_score\n",
    "print(accuracy_score(y_test,y_pred))\n",
    "print(precision_score(y_test,y_pred))\n",
    "print(recall_score(y_test,y_pred))\n",
    "print(f1_score(y_test,y_pred))"
   ]
  },
  {
   "cell_type": "code",
   "execution_count": null,
   "metadata": {},
   "outputs": [],
   "source": [
    "from sklearn.metrics import roc_curve\n",
    "fpr,tpr,thresholds=roc_curve(y_test,y_pred)\n",
    "\n",
    "def plot_roc_curve(fpr,tpr):\n",
    "    plt.plot(fpr,tpr)\n",
    "    plt.plot([0,1],[0,1],'r')\n",
    "    plt.xlabel('False positive rate')\n",
    "    plt.ylabel('True positive rate')\n",
    "    plt.title('ROC - TPR vs FPR')\n",
    "    \n",
    "plot_roc_curve(fpr,tpr)"
   ]
  },
  {
   "cell_type": "markdown",
   "metadata": {},
   "source": [
    "# Feature selection"
   ]
  },
  {
>>>>>>> ce3a71f3ef5fdebdc3d8ac7dd04eb242e39d54eb
   "cell_type": "code",
   "execution_count": null,
   "metadata": {},
<<<<<<< HEAD
=======
   "outputs": [],
   "source": [
    "from sklearn.feature_selection import RFE\n",
    "from sklearn.ensemble import RandomForestClassifier\n",
    "from sklearn.model_selection import train_test_split\n",
    "\n",
    "# Load the data\n",
    "X = [[1, 2], [3, 4], [5, 6], [7, 8], [9, 10]]\n",
    "y = [0, 1, 0, 1, 0]\n",
    "\n",
    "# Split the data into training and test sets\n",
    "X_train, X_test, y_train, y_test = train_test_split(X, y, test_size=0.2, random_state=42)\n",
    "\n",
    "# Create a Random Forest classifier\n",
    "model = RandomForestClassifier()\n",
    "\n",
    "# Use Recursive Feature Elimination (RFE) to select the top 2 features\n",
    "rfe = RFE(model, 2)\n",
    "rfe.fit(X_train, y_train)\n",
    "\n",
    "# Transform the training and test data using the selected features\n",
    "X_train_selected = rfe.transform(X_train)\n",
    "X_test_selected = rfe.transform(X_test)\n",
    "\n",
    "# Train the model on the selected features\n",
    "model.fit(X_train_selected, y_train)\n",
    "\n",
    "# Make predictions on the selected features of the test data\n",
    "predictions = model.predict(X_test_selected)\n",
    "\n",
    "# Print the accuracy\n",
    "print(accuracy_score(y_test, predictions))\n",
    "\n",
    "############################################################\n",
    "from sklearn.linear_model import LogisticRegression\n",
    "from sklearn.model_selection import cross_val_score\n",
    "\n",
    "# Load the data\n",
    "X = [[1, 2], [3, 4], [5, 6], [7, 8], [9, 10]]\n",
    "y = [0, 1, 0, 1, 0]\n",
    "\n",
    "# Create a list of all the feature indices\n",
    "feature_indices = list(range(X.shape[1]))\n",
    "\n",
    "# Set the initial set of features to be an empty list\n",
    "selected_features = []\n",
    "\n",
    "# Set the maximum number of features to select\n",
    "max_features = 2\n",
    "\n",
    "# Initialize the best cross-validated score to be negative infinity\n",
    "best_score = -np.inf\n",
    "\n",
    "# Iterate over all possible combinations of features\n",
    "for i in range(1, len(feature_indices) + 1):\n",
    "    for combination in combinations(feature_indices, i):\n",
    "        # Select the current combination of features\n",
    "        X_selected = X[:, combination]\n",
    "        \n",
    "        # Train a logistic regression model with 5-fold cross-validation\n",
    "        model = LogisticRegression()\n",
    "        score = cross_val_score(model, X_selected, y, cv=5).mean()\n",
    "        \n",
    "        # If the current combination of features has a higher cross-validated score than the best score, update the best score and the selected features\n",
    "        if score > best_score:\n",
    "            best_score = score\n",
    "            selected_features = combination\n",
    "\n",
    "# Print the selected features\n",
    "print(selected_features)\n",
    "##########################################\n",
    "#BACKWARD\n",
    "\n",
    "from sklearn.linear_model import LogisticRegression\n",
    "from sklearn.model_selection import cross_val_score\n",
    "\n",
    "# Load the data\n",
    "X = [[1, 2], [3, 4], [5, 6], [7, 8], [9, 10]]\n",
    "y = [0, 1, 0, 1, 0]\n",
    "\n",
    "# Create a list of all the feature indices\n",
    "feature_indices = list(range(X.shape[1]))\n",
    "\n",
    "# Set the initial set of features to be all the features\n",
    "selected_features = feature_indices\n",
    "\n",
    "# Set the minimum number of features to select\n",
    "min_features = 1\n",
    "\n",
    "# Initialize the best cross-validated score to be negative infinity\n",
    "best_score = -np.inf\n",
    "\n",
    "# Iterate over all possible combinations of features\n",
    "while len(selected_features) > min_features:\n",
    "    scores = []\n",
    "    for i in range(len(selected_features)):\n",
    "        # Select the current combination of features\n",
    "        X_selected = X[:, selected_features]\n",
    "        \n",
    "        # Train a logistic regression model with 5-fold cross-validation\n",
    "        model = LogisticRegression()\n",
    "        score = cross_val_score(model, X_selected, y, cv=5).mean()\n",
    "        \n",
    "        # Add the score for the current combination of features\n",
    "        scores.append(score)\n",
    "    \n",
    "    # Find the index of the feature with the lowest score\n",
    "    worst_feature_index = np.argmin(scores)\n",
    "    \n",
    "    # If the current combination of features has a higher cross-validated score than the best score, update the best score and the selected features\n",
    "    if scores[worst_feature_index] > best_score:\n",
    "        best_score = scores[worst_feature_index]\n",
    "        selected_features = selected_features[:worst_feature_index] + selected_features[worst_feature_index + 1:]\n",
    "    else:\n",
    "        # If the current combination of features has a lower cross-validated score than the best score, stop the search\n",
    "        break\n",
    "\n",
    "# Print the selected features\n",
    "print(selected_features)"
   ]
  },
  {
   "cell_type": "code",
   "execution_count": null,
   "metadata": {},
   "outputs": [],
   "source": [
    "\n",
    "# Voting Classifier with hard voting\n",
    "vot_hard = VotingClassifier(estimators = base_models, voting ='hard')\n",
    "vot_hard.fit(X_train, y_train)\n",
    "y_pred = vot_hard.predict(X_test)\n",
    "\n",
    "# using accuracy_score metric to predict accuracy\n",
    "score = accuracy_score(y_test, y_pred)\n",
    "print(\"Hard Voting Score % d\" % score)\n",
    "\n",
    "# Voting Classifier with soft voting\n",
    "vot_soft = VotingClassifier(estimators = base_models, voting ='soft')\n",
    "vot_soft.fit(X_train, y_train)\n",
    "y_pred = vot_soft.predict(X_test)\n"
   ]
  },
  {
   "cell_type": "code",
   "execution_count": null,
   "metadata": {},
   "outputs": [],
   "source": [
    "from sklearn.decomposition import PCA\n",
    "  \n",
    "pca = PCA(n_components = 2)\n",
    "  \n",
    "X_train = pca.fit_transform(X_train)\n",
    "X_test = pca.transform(X_test)\n",
    "  \n",
    "explained_variance = pca.explained_variance_ratio_"
   ]
  },
  {
   "cell_type": "code",
   "execution_count": 4,
   "metadata": {},
   "outputs": [
    {
     "name": "stdout",
     "output_type": "stream",
     "text": [
      "Train index: [0 1 2 3 4 6 7 9] Test index: [5 8]\n",
      "Train index: [0 1 2 3 4 5 6 8] Test index: [7 9]\n",
      "Train index: [0 2 4 5 6 7 8 9] Test index: [1 3]\n",
      "Train index: [1 3 4 5 6 7 8 9] Test index: [0 2]\n",
      "Train index: [0 1 2 3 5 7 8 9] Test index: [4 6]\n"
     ]
    }
   ],
   "execution_count": null,
   "metadata": {},
   "outputs": [],
   "source": [
    "import numpy as np\n",
    "\n"
   ]
  },
  {
   "cell_type": "code",
   "execution_count": null,
   "metadata": {},
   "outputs": [],
   "source": [
    "#xgboost\n",
    "from xgboost import XGBClassifier\n",
    "\n",
    "# Create the XGBoost model\n",
    "model = XGBClassifier()\n",
    "\n",
    "# Train the model\n",
    "model.fit(X_train, y_train)"
   ]
  },
  {
   "cell_type": "code",
   "execution_count": null,
   "metadata": {},
   "outputs": [],
 ],
 "metadata": {
  "kernelspec": {
   "display_name": "Python 3 (ipykernel)",
   "language": "python",
   "name": "python3"
  },
   "name": "python",
   "nbconvert_exporter": "python",
   "pygments_lexer": "ipython3",
   "version": "3.9.12"
  },
  "toc": {
   "base_numbering": 1,
   "nav_menu": {},
   "number_sections": true,
   "sideBar": true,
   "skip_h1_title": false,
   "title_cell": "Table of Contents",
   "title_sidebar": "Contents",
   "toc_cell": false,
   "toc_position": {
    "height": "calc(100% - 180px)",
    "left": "10px",
    "top": "150px",
    "width": "384px"
   },
   "toc_section_display": true,
   "toc_window_display": true
  }
 },
 "nbformat": 4,
 "nbformat_minor": 4
}
